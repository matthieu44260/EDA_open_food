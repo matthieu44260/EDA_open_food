{
 "cells": [
  {
   "cell_type": "markdown",
   "id": "9628747a",
   "metadata": {},
   "source": [
    "# Nettoyage des données"
   ]
  },
  {
   "cell_type": "markdown",
   "id": "8b778238",
   "metadata": {},
   "source": [
    "Je travaille sur le jeu de données 'fr.openfoodfacts.org.products.csv'. Dans cette partie, je vais créer un dataframe en sélectionnant les colonnes pertinentes pour une application et imputer les valeurs manquantes.\n",
    "Cette application doit permettre, à la suite d'une liste de courses, de calculer les apports nutritionnels des produits et de proposer un produit de substitution (mieux noté) en cas de dépassement de ces apports."
   ]
  },
  {
   "cell_type": "markdown",
   "id": "3140cc56",
   "metadata": {},
   "source": [
    "### Sommaire :\n",
    "<a href=\"#A1\">1) Importation des données</a>\n",
    " \n",
    "<a href=\"#A2\">2) Création d'un dataframe nettoyé</a>\n",
    " \n",
    "<a href=\"#A3\">3) Traitement des valeurs aberrantes</a>\n",
    " \n",
    "<a href=\"#A4\">4) Imputation des valeurs manquantes</a>\n",
    "  - <a href=\"A4a\">a) Fillna</a> \n",
    "  - <a href=\"A4b\">b) Knn</a>\n",
    "  - <a href=\"A4c\">c) Iterative imputer</a>\n",
    "  - <a href=\"A4d\">d) Calcul du nutriscore</a>\n",
    "  - <a href=\"A4e\">e) Calcul du nutrigrade</a>"
   ]
  },
  {
   "cell_type": "markdown",
   "id": "e1c43268",
   "metadata": {},
   "source": [
    "##  <a name=\"A1\">1) Importation des données</a>"
   ]
  },
  {
   "cell_type": "code",
   "execution_count": 1,
   "id": "137df6d3",
   "metadata": {},
   "outputs": [],
   "source": [
    "import pandas as pd\n",
    "import numpy as np\n",
    "import matplotlib\n",
    "import matplotlib.pyplot as plt\n",
    "import missingno as msno\n",
    "import seaborn as sns\n",
    "from sklearn.model_selection import train_test_split\n",
    "from sklearn import neighbors\n",
    "from sklearn.experimental import enable_iterative_imputer\n",
    "from sklearn.impute import IterativeImputer\n",
    "\n",
    "%matplotlib inline"
   ]
  },
  {
   "cell_type": "code",
   "execution_count": 2,
   "id": "67054595",
   "metadata": {},
   "outputs": [
    {
     "name": "stdout",
     "output_type": "stream",
     "text": [
      "Versions des librairies  pandas :  1.4.4  , numpy :  1.21.5  , matplotlib :  3.5.2  , missingno :  0.4.1  , seaborn :  0.11.2\n"
     ]
    }
   ],
   "source": [
    "print('Versions des librairies ',\n",
    "      'pandas : ',pd.__version__,\n",
    "      ' , numpy : ',np.__version__,\n",
    "      ' , matplotlib : ',matplotlib.__version__,\n",
    "      ' , missingno : ',msno.__version__,\n",
    "      ' , seaborn : ',sns.__version__,)"
   ]
  },
  {
   "cell_type": "markdown",
   "id": "b260189b",
   "metadata": {},
   "source": [
    " "
   ]
  },
  {
   "cell_type": "markdown",
   "id": "1970deba",
   "metadata": {},
   "source": [
    "Chargement du jeu de données dans un dataframe nommé df et affichage des premières lignes."
   ]
  },
  {
   "cell_type": "code",
   "execution_count": 3,
   "id": "4efea091",
   "metadata": {},
   "outputs": [
    {
     "name": "stderr",
     "output_type": "stream",
     "text": [
      "C:\\Users\\matth\\AppData\\Local\\Temp\\ipykernel_14832\\1740344444.py:1: DtypeWarning: Columns (0,3,5,19,20,24,25,26,27,28,35,36,37,38,39,48) have mixed types. Specify dtype option on import or set low_memory=False.\n",
      "  df = pd.read_csv('fr.openfoodfacts.org.products.csv' , sep = '\\t')\n"
     ]
    }
   ],
   "source": [
    "df = pd.read_csv('fr.openfoodfacts.org.products.csv' , sep = '\\t')"
   ]
  },
  {
   "cell_type": "code",
   "execution_count": 4,
   "id": "9ee92bb7",
   "metadata": {},
   "outputs": [
    {
     "data": {
      "text/html": [
       "<div>\n",
       "<style scoped>\n",
       "    .dataframe tbody tr th:only-of-type {\n",
       "        vertical-align: middle;\n",
       "    }\n",
       "\n",
       "    .dataframe tbody tr th {\n",
       "        vertical-align: top;\n",
       "    }\n",
       "\n",
       "    .dataframe thead th {\n",
       "        text-align: right;\n",
       "    }\n",
       "</style>\n",
       "<table border=\"1\" class=\"dataframe\">\n",
       "  <thead>\n",
       "    <tr style=\"text-align: right;\">\n",
       "      <th></th>\n",
       "      <th>code</th>\n",
       "      <th>url</th>\n",
       "      <th>creator</th>\n",
       "      <th>created_t</th>\n",
       "      <th>created_datetime</th>\n",
       "      <th>last_modified_t</th>\n",
       "      <th>last_modified_datetime</th>\n",
       "      <th>product_name</th>\n",
       "      <th>generic_name</th>\n",
       "      <th>quantity</th>\n",
       "      <th>...</th>\n",
       "      <th>ph_100g</th>\n",
       "      <th>fruits-vegetables-nuts_100g</th>\n",
       "      <th>collagen-meat-protein-ratio_100g</th>\n",
       "      <th>cocoa_100g</th>\n",
       "      <th>chlorophyl_100g</th>\n",
       "      <th>carbon-footprint_100g</th>\n",
       "      <th>nutrition-score-fr_100g</th>\n",
       "      <th>nutrition-score-uk_100g</th>\n",
       "      <th>glycemic-index_100g</th>\n",
       "      <th>water-hardness_100g</th>\n",
       "    </tr>\n",
       "  </thead>\n",
       "  <tbody>\n",
       "    <tr>\n",
       "      <th>0</th>\n",
       "      <td>3087</td>\n",
       "      <td>http://world-fr.openfoodfacts.org/produit/0000...</td>\n",
       "      <td>openfoodfacts-contributors</td>\n",
       "      <td>1474103866</td>\n",
       "      <td>2016-09-17T09:17:46Z</td>\n",
       "      <td>1474103893</td>\n",
       "      <td>2016-09-17T09:18:13Z</td>\n",
       "      <td>Farine de blé noir</td>\n",
       "      <td>NaN</td>\n",
       "      <td>1kg</td>\n",
       "      <td>...</td>\n",
       "      <td>NaN</td>\n",
       "      <td>NaN</td>\n",
       "      <td>NaN</td>\n",
       "      <td>NaN</td>\n",
       "      <td>NaN</td>\n",
       "      <td>NaN</td>\n",
       "      <td>NaN</td>\n",
       "      <td>NaN</td>\n",
       "      <td>NaN</td>\n",
       "      <td>NaN</td>\n",
       "    </tr>\n",
       "    <tr>\n",
       "      <th>1</th>\n",
       "      <td>4530</td>\n",
       "      <td>http://world-fr.openfoodfacts.org/produit/0000...</td>\n",
       "      <td>usda-ndb-import</td>\n",
       "      <td>1489069957</td>\n",
       "      <td>2017-03-09T14:32:37Z</td>\n",
       "      <td>1489069957</td>\n",
       "      <td>2017-03-09T14:32:37Z</td>\n",
       "      <td>Banana Chips Sweetened (Whole)</td>\n",
       "      <td>NaN</td>\n",
       "      <td>NaN</td>\n",
       "      <td>...</td>\n",
       "      <td>NaN</td>\n",
       "      <td>NaN</td>\n",
       "      <td>NaN</td>\n",
       "      <td>NaN</td>\n",
       "      <td>NaN</td>\n",
       "      <td>NaN</td>\n",
       "      <td>14.0</td>\n",
       "      <td>14.0</td>\n",
       "      <td>NaN</td>\n",
       "      <td>NaN</td>\n",
       "    </tr>\n",
       "    <tr>\n",
       "      <th>2</th>\n",
       "      <td>4559</td>\n",
       "      <td>http://world-fr.openfoodfacts.org/produit/0000...</td>\n",
       "      <td>usda-ndb-import</td>\n",
       "      <td>1489069957</td>\n",
       "      <td>2017-03-09T14:32:37Z</td>\n",
       "      <td>1489069957</td>\n",
       "      <td>2017-03-09T14:32:37Z</td>\n",
       "      <td>Peanuts</td>\n",
       "      <td>NaN</td>\n",
       "      <td>NaN</td>\n",
       "      <td>...</td>\n",
       "      <td>NaN</td>\n",
       "      <td>NaN</td>\n",
       "      <td>NaN</td>\n",
       "      <td>NaN</td>\n",
       "      <td>NaN</td>\n",
       "      <td>NaN</td>\n",
       "      <td>0.0</td>\n",
       "      <td>0.0</td>\n",
       "      <td>NaN</td>\n",
       "      <td>NaN</td>\n",
       "    </tr>\n",
       "    <tr>\n",
       "      <th>3</th>\n",
       "      <td>16087</td>\n",
       "      <td>http://world-fr.openfoodfacts.org/produit/0000...</td>\n",
       "      <td>usda-ndb-import</td>\n",
       "      <td>1489055731</td>\n",
       "      <td>2017-03-09T10:35:31Z</td>\n",
       "      <td>1489055731</td>\n",
       "      <td>2017-03-09T10:35:31Z</td>\n",
       "      <td>Organic Salted Nut Mix</td>\n",
       "      <td>NaN</td>\n",
       "      <td>NaN</td>\n",
       "      <td>...</td>\n",
       "      <td>NaN</td>\n",
       "      <td>NaN</td>\n",
       "      <td>NaN</td>\n",
       "      <td>NaN</td>\n",
       "      <td>NaN</td>\n",
       "      <td>NaN</td>\n",
       "      <td>12.0</td>\n",
       "      <td>12.0</td>\n",
       "      <td>NaN</td>\n",
       "      <td>NaN</td>\n",
       "    </tr>\n",
       "    <tr>\n",
       "      <th>4</th>\n",
       "      <td>16094</td>\n",
       "      <td>http://world-fr.openfoodfacts.org/produit/0000...</td>\n",
       "      <td>usda-ndb-import</td>\n",
       "      <td>1489055653</td>\n",
       "      <td>2017-03-09T10:34:13Z</td>\n",
       "      <td>1489055653</td>\n",
       "      <td>2017-03-09T10:34:13Z</td>\n",
       "      <td>Organic Polenta</td>\n",
       "      <td>NaN</td>\n",
       "      <td>NaN</td>\n",
       "      <td>...</td>\n",
       "      <td>NaN</td>\n",
       "      <td>NaN</td>\n",
       "      <td>NaN</td>\n",
       "      <td>NaN</td>\n",
       "      <td>NaN</td>\n",
       "      <td>NaN</td>\n",
       "      <td>NaN</td>\n",
       "      <td>NaN</td>\n",
       "      <td>NaN</td>\n",
       "      <td>NaN</td>\n",
       "    </tr>\n",
       "  </tbody>\n",
       "</table>\n",
       "<p>5 rows × 162 columns</p>\n",
       "</div>"
      ],
      "text/plain": [
       "    code                                                url  \\\n",
       "0   3087  http://world-fr.openfoodfacts.org/produit/0000...   \n",
       "1   4530  http://world-fr.openfoodfacts.org/produit/0000...   \n",
       "2   4559  http://world-fr.openfoodfacts.org/produit/0000...   \n",
       "3  16087  http://world-fr.openfoodfacts.org/produit/0000...   \n",
       "4  16094  http://world-fr.openfoodfacts.org/produit/0000...   \n",
       "\n",
       "                      creator   created_t      created_datetime  \\\n",
       "0  openfoodfacts-contributors  1474103866  2016-09-17T09:17:46Z   \n",
       "1             usda-ndb-import  1489069957  2017-03-09T14:32:37Z   \n",
       "2             usda-ndb-import  1489069957  2017-03-09T14:32:37Z   \n",
       "3             usda-ndb-import  1489055731  2017-03-09T10:35:31Z   \n",
       "4             usda-ndb-import  1489055653  2017-03-09T10:34:13Z   \n",
       "\n",
       "  last_modified_t last_modified_datetime                    product_name  \\\n",
       "0      1474103893   2016-09-17T09:18:13Z              Farine de blé noir   \n",
       "1      1489069957   2017-03-09T14:32:37Z  Banana Chips Sweetened (Whole)   \n",
       "2      1489069957   2017-03-09T14:32:37Z                         Peanuts   \n",
       "3      1489055731   2017-03-09T10:35:31Z          Organic Salted Nut Mix   \n",
       "4      1489055653   2017-03-09T10:34:13Z                 Organic Polenta   \n",
       "\n",
       "  generic_name quantity  ... ph_100g fruits-vegetables-nuts_100g  \\\n",
       "0          NaN      1kg  ...     NaN                         NaN   \n",
       "1          NaN      NaN  ...     NaN                         NaN   \n",
       "2          NaN      NaN  ...     NaN                         NaN   \n",
       "3          NaN      NaN  ...     NaN                         NaN   \n",
       "4          NaN      NaN  ...     NaN                         NaN   \n",
       "\n",
       "  collagen-meat-protein-ratio_100g cocoa_100g chlorophyl_100g  \\\n",
       "0                              NaN        NaN             NaN   \n",
       "1                              NaN        NaN             NaN   \n",
       "2                              NaN        NaN             NaN   \n",
       "3                              NaN        NaN             NaN   \n",
       "4                              NaN        NaN             NaN   \n",
       "\n",
       "  carbon-footprint_100g nutrition-score-fr_100g nutrition-score-uk_100g  \\\n",
       "0                   NaN                     NaN                     NaN   \n",
       "1                   NaN                    14.0                    14.0   \n",
       "2                   NaN                     0.0                     0.0   \n",
       "3                   NaN                    12.0                    12.0   \n",
       "4                   NaN                     NaN                     NaN   \n",
       "\n",
       "  glycemic-index_100g water-hardness_100g  \n",
       "0                 NaN                 NaN  \n",
       "1                 NaN                 NaN  \n",
       "2                 NaN                 NaN  \n",
       "3                 NaN                 NaN  \n",
       "4                 NaN                 NaN  \n",
       "\n",
       "[5 rows x 162 columns]"
      ]
     },
     "execution_count": 4,
     "metadata": {},
     "output_type": "execute_result"
    }
   ],
   "source": [
    "df.head()"
   ]
  },
  {
   "cell_type": "code",
   "execution_count": 5,
   "id": "c7967604",
   "metadata": {},
   "outputs": [
    {
     "data": {
      "text/plain": [
       "(320772, 162)"
      ]
     },
     "execution_count": 5,
     "metadata": {},
     "output_type": "execute_result"
    }
   ],
   "source": [
    "df.shape"
   ]
  },
  {
   "cell_type": "markdown",
   "id": "e0f20b92",
   "metadata": {},
   "source": [
    "Ce jeu de données est composé de 320 772 produits renseignés sur 162 colonnes sur :\n",
    "   - \"l'identité\" du produit (nom, marque, groupe, date de création...)\n",
    "   - le conditionnement du produit\n",
    "   - les nutriments composant le produit\n",
    "   - les additifs\n",
    "   - le nutriscore et le nutrigrade"
   ]
  },
  {
   "cell_type": "markdown",
   "id": "53044b94",
   "metadata": {},
   "source": [
    " "
   ]
  },
  {
   "cell_type": "code",
   "execution_count": 6,
   "id": "b66ee9c9",
   "metadata": {},
   "outputs": [
    {
     "data": {
      "text/plain": [
       "code                        object\n",
       "url                         object\n",
       "creator                     object\n",
       "created_t                   object\n",
       "created_datetime            object\n",
       "                            ...   \n",
       "carbon-footprint_100g      float64\n",
       "nutrition-score-fr_100g    float64\n",
       "nutrition-score-uk_100g    float64\n",
       "glycemic-index_100g        float64\n",
       "water-hardness_100g        float64\n",
       "Length: 162, dtype: object"
      ]
     },
     "execution_count": 6,
     "metadata": {},
     "output_type": "execute_result"
    }
   ],
   "source": [
    "df.dtypes"
   ]
  },
  {
   "cell_type": "code",
   "execution_count": 7,
   "id": "76956d51",
   "metadata": {},
   "outputs": [
    {
     "data": {
      "text/plain": [
       "code                       0.000072\n",
       "url                        0.000072\n",
       "creator                    0.000006\n",
       "created_t                  0.000009\n",
       "created_datetime           0.000028\n",
       "                             ...   \n",
       "carbon-footprint_100g      0.999165\n",
       "nutrition-score-fr_100g    0.310382\n",
       "nutrition-score-uk_100g    0.310382\n",
       "glycemic-index_100g        1.000000\n",
       "water-hardness_100g        1.000000\n",
       "Length: 162, dtype: float64"
      ]
     },
     "execution_count": 7,
     "metadata": {},
     "output_type": "execute_result"
    }
   ],
   "source": [
    "df.isna().mean()"
   ]
  },
  {
   "cell_type": "markdown",
   "id": "c286333a",
   "metadata": {},
   "source": [
    "Certaines colonnes sont complètement vides."
   ]
  },
  {
   "cell_type": "markdown",
   "id": "8313b557",
   "metadata": {},
   "source": [
    " "
   ]
  },
  {
   "cell_type": "code",
   "execution_count": 8,
   "id": "c4508223",
   "metadata": {},
   "outputs": [
    {
     "data": {
      "text/plain": [
       "22"
      ]
     },
     "execution_count": 8,
     "metadata": {},
     "output_type": "execute_result"
    }
   ],
   "source": [
    "df.duplicated(subset = 'url').sum()"
   ]
  },
  {
   "cell_type": "code",
   "execution_count": 9,
   "id": "e929a4a3",
   "metadata": {},
   "outputs": [],
   "source": [
    "df.drop_duplicates(keep = 'first', inplace=True)"
   ]
  },
  {
   "cell_type": "markdown",
   "id": "dbcda77d",
   "metadata": {},
   "source": [
    " "
   ]
  },
  {
   "cell_type": "markdown",
   "id": "d92a1dc8",
   "metadata": {},
   "source": [
    "##  <a name=\"A2\">2) Création d'un df nettoyé</a>"
   ]
  },
  {
   "cell_type": "markdown",
   "id": "34ace04c",
   "metadata": {},
   "source": [
    "Suppression des lignes sans url"
   ]
  },
  {
   "cell_type": "code",
   "execution_count": 10,
   "id": "eed432ba",
   "metadata": {},
   "outputs": [],
   "source": [
    "url_vides = df.loc[df['url'].isna(),'url'].index"
   ]
  },
  {
   "cell_type": "code",
   "execution_count": 11,
   "id": "7552c92d",
   "metadata": {},
   "outputs": [
    {
     "data": {
      "text/plain": [
       "Int64Index([189068, 189103, 189109, 189119, 189152, 189160, 189162, 189168,\n",
       "            189242, 189244, 189248, 189250, 189260, 189262, 189269, 189272,\n",
       "            189345, 189362, 189364, 189379, 189404, 189406, 189417],\n",
       "           dtype='int64')"
      ]
     },
     "execution_count": 11,
     "metadata": {},
     "output_type": "execute_result"
    }
   ],
   "source": [
    "url_vides"
   ]
  },
  {
   "cell_type": "code",
   "execution_count": 12,
   "id": "17f4d056",
   "metadata": {},
   "outputs": [],
   "source": [
    "df_net = df.drop(url_vides)"
   ]
  },
  {
   "cell_type": "markdown",
   "id": "2d2fb192",
   "metadata": {},
   "source": [
    " "
   ]
  },
  {
   "cell_type": "markdown",
   "id": "87f2189d",
   "metadata": {},
   "source": [
    "Vérification des doublons d'url"
   ]
  },
  {
   "cell_type": "code",
   "execution_count": 13,
   "id": "de5bfcae",
   "metadata": {},
   "outputs": [
    {
     "data": {
      "text/plain": [
       "0"
      ]
     },
     "execution_count": 13,
     "metadata": {},
     "output_type": "execute_result"
    }
   ],
   "source": [
    "df_net.duplicated(subset = 'url' ).sum()"
   ]
  },
  {
   "cell_type": "markdown",
   "id": "94db0d6b",
   "metadata": {},
   "source": [
    " "
   ]
  },
  {
   "cell_type": "markdown",
   "id": "4d0d7a8e",
   "metadata": {},
   "source": [
    "Certains produits sont répertoriés en tant que non alimentaires, je ne m'en servirai pas."
   ]
  },
  {
   "cell_type": "code",
   "execution_count": 14,
   "id": "27ee17de",
   "metadata": {},
   "outputs": [],
   "source": [
    "df_net = df_net[df_net['categories_fr'].str.contains('Non alimentaire',na = False) == False]"
   ]
  },
  {
   "cell_type": "markdown",
   "id": "950dcc38",
   "metadata": {},
   "source": [
    " "
   ]
  },
  {
   "cell_type": "markdown",
   "id": "ccf72bb5",
   "metadata": {},
   "source": [
    " "
   ]
  },
  {
   "cell_type": "markdown",
   "id": "358fc4b2",
   "metadata": {},
   "source": [
    "### Suppression des colonnes inutiles"
   ]
  },
  {
   "cell_type": "markdown",
   "id": "25c048cb",
   "metadata": {},
   "source": [
    "Suppression des colonnes dont je ne vais pas me servir"
   ]
  },
  {
   "cell_type": "code",
   "execution_count": 15,
   "id": "ee500104",
   "metadata": {},
   "outputs": [],
   "source": [
    "df_net.drop(columns = ['creator','created_t','created_datetime','last_modified_t','last_modified_datetime','brands','brands_tags','manufacturing_places_tags', 'labels','labels_tags','labels_fr','emb_codes','emb_codes_tags','cities','cities_tags','purchase_places','stores','countries_tags','countries_fr','packaging','packaging_tags'], inplace = True)"
   ]
  },
  {
   "cell_type": "markdown",
   "id": "1f5a9e1b",
   "metadata": {},
   "source": [
    " "
   ]
  },
  {
   "cell_type": "markdown",
   "id": "03a66829",
   "metadata": {},
   "source": [
    "Suppression des colonnes vides"
   ]
  },
  {
   "cell_type": "code",
   "execution_count": 16,
   "id": "55403a3c",
   "metadata": {},
   "outputs": [
    {
     "data": {
      "text/plain": [
       "['allergens_fr',\n",
       " 'no_nutriments',\n",
       " 'ingredients_from_palm_oil',\n",
       " 'ingredients_that_may_be_from_palm_oil',\n",
       " 'nutrition_grade_uk',\n",
       " 'butyric-acid_100g',\n",
       " 'caproic-acid_100g',\n",
       " 'behenic-acid_100g',\n",
       " 'lignoceric-acid_100g',\n",
       " 'cerotic-acid_100g',\n",
       " 'melissic-acid_100g',\n",
       " 'dihomo-gamma-linolenic-acid_100g',\n",
       " 'elaidic-acid_100g',\n",
       " 'gondoic-acid_100g',\n",
       " 'mead-acid_100g',\n",
       " 'erucic-acid_100g',\n",
       " 'nervonic-acid_100g',\n",
       " 'chlorophyl_100g',\n",
       " 'glycemic-index_100g',\n",
       " 'water-hardness_100g']"
      ]
     },
     "execution_count": 16,
     "metadata": {},
     "output_type": "execute_result"
    }
   ],
   "source": [
    "colonnes_vides = [col for col in df_net.columns if df_net[col].isna().mean() == 1]\n",
    "colonnes_vides"
   ]
  },
  {
   "cell_type": "code",
   "execution_count": 17,
   "id": "03c75636",
   "metadata": {},
   "outputs": [],
   "source": [
    "df_net.drop(colonnes_vides, axis = 1, inplace = True)"
   ]
  },
  {
   "cell_type": "markdown",
   "id": "d4e441c2",
   "metadata": {},
   "source": [
    " "
   ]
  },
  {
   "cell_type": "markdown",
   "id": "7b6493d8",
   "metadata": {},
   "source": [
    "Suppression des colonnes peu remplies"
   ]
  },
  {
   "cell_type": "code",
   "execution_count": 18,
   "id": "16fddd5f",
   "metadata": {},
   "outputs": [
    {
     "data": {
      "text/plain": [
       "['caprylic-acid_100g',\n",
       " 'capric-acid_100g',\n",
       " 'lauric-acid_100g',\n",
       " 'myristic-acid_100g',\n",
       " 'palmitic-acid_100g',\n",
       " 'stearic-acid_100g',\n",
       " 'arachidic-acid_100g',\n",
       " 'montanic-acid_100g',\n",
       " 'alpha-linolenic-acid_100g',\n",
       " 'eicosapentaenoic-acid_100g',\n",
       " 'docosahexaenoic-acid_100g',\n",
       " 'omega-6-fat_100g',\n",
       " 'linoleic-acid_100g',\n",
       " 'arachidonic-acid_100g',\n",
       " 'gamma-linolenic-acid_100g',\n",
       " 'omega-9-fat_100g',\n",
       " 'oleic-acid_100g',\n",
       " 'sucrose_100g',\n",
       " 'glucose_100g',\n",
       " 'fructose_100g',\n",
       " 'lactose_100g',\n",
       " 'maltose_100g',\n",
       " 'maltodextrins_100g',\n",
       " 'starch_100g',\n",
       " 'casein_100g',\n",
       " 'serum-proteins_100g',\n",
       " 'nucleotides_100g',\n",
       " 'beta-carotene_100g',\n",
       " 'biotin_100g',\n",
       " 'silica_100g',\n",
       " 'bicarbonate_100g',\n",
       " 'chloride_100g',\n",
       " 'fluoride_100g',\n",
       " 'chromium_100g',\n",
       " 'molybdenum_100g',\n",
       " 'iodine_100g',\n",
       " 'caffeine_100g',\n",
       " 'taurine_100g',\n",
       " 'ph_100g',\n",
       " 'collagen-meat-protein-ratio_100g',\n",
       " 'carbon-footprint_100g']"
      ]
     },
     "execution_count": 18,
     "metadata": {},
     "output_type": "execute_result"
    }
   ],
   "source": [
    "colonnes_peu_remplies = [col for col in df_net.columns if df_net[col].isna().mean() > 0.999]\n",
    "colonnes_peu_remplies"
   ]
  },
  {
   "cell_type": "code",
   "execution_count": 19,
   "id": "27bbccbd",
   "metadata": {},
   "outputs": [],
   "source": [
    "df_net.drop(columns = colonnes_peu_remplies, inplace = True)"
   ]
  },
  {
   "cell_type": "code",
   "execution_count": 20,
   "id": "2569dc7e",
   "metadata": {},
   "outputs": [
    {
     "data": {
      "text/plain": [
       "(320566, 80)"
      ]
     },
     "execution_count": 20,
     "metadata": {},
     "output_type": "execute_result"
    }
   ],
   "source": [
    "df_net.shape"
   ]
  },
  {
   "cell_type": "markdown",
   "id": "29ce9cff",
   "metadata": {},
   "source": [
    " "
   ]
  },
  {
   "cell_type": "markdown",
   "id": "9c20d814",
   "metadata": {},
   "source": [
    "### Choix du groupe"
   ]
  },
  {
   "cell_type": "markdown",
   "id": "d40d31de",
   "metadata": {},
   "source": [
    "Je veux choisir un groupe parmi les 4 catégories de produits suivants."
   ]
  },
  {
   "cell_type": "code",
   "execution_count": 21,
   "id": "1fae1d53",
   "metadata": {},
   "outputs": [
    {
     "data": {
      "text/plain": [
       "pnns_groups_1       0.715098\n",
       "pnns_groups_2       0.705808\n",
       "main_category       0.737393\n",
       "main_category_fr    0.737393\n",
       "dtype: float64"
      ]
     },
     "execution_count": 21,
     "metadata": {},
     "output_type": "execute_result"
    }
   ],
   "source": [
    "df_net[['pnns_groups_1','pnns_groups_2','main_category','main_category_fr']].isna().mean()"
   ]
  },
  {
   "cell_type": "code",
   "execution_count": 22,
   "id": "7166d82a",
   "metadata": {},
   "outputs": [
    {
     "data": {
      "text/plain": [
       "array([nan, 'unknown', 'Fruits and vegetables', 'Sugary snacks',\n",
       "       'Cereals and potatoes', 'Composite foods', 'Fish Meat Eggs',\n",
       "       'Beverages', 'Fat and sauces', 'fruits-and-vegetables',\n",
       "       'Milk and dairy products', 'Salty snacks', 'sugary-snacks',\n",
       "       'cereals-and-potatoes', 'salty-snacks'], dtype=object)"
      ]
     },
     "execution_count": 22,
     "metadata": {},
     "output_type": "execute_result"
    }
   ],
   "source": [
    "df_net['pnns_groups_1'].unique()"
   ]
  },
  {
   "cell_type": "code",
   "execution_count": 23,
   "id": "362c5b60",
   "metadata": {},
   "outputs": [
    {
     "data": {
      "text/plain": [
       "array([nan, 'unknown', 'Vegetables', 'Biscuits and cakes', 'Bread',\n",
       "       'Legumes', 'Pizza pies and quiche', 'Meat', 'Sweets',\n",
       "       'Non-sugared beverages', 'Sweetened beverages',\n",
       "       'Dressings and sauces', 'One-dish meals', 'vegetables', 'Soups',\n",
       "       'Chocolate products', 'Alcoholic beverages', 'Fruits', 'Sandwich',\n",
       "       'Cereals', 'Milk and yogurt', 'Fats', 'Cheese', 'Appetizers',\n",
       "       'Nuts', 'Breakfast cereals', 'Artificially sweetened beverages',\n",
       "       'Fruit juices', 'Eggs', 'Fish and seafood', 'Dried fruits',\n",
       "       'Ice cream', 'Processed meat', 'Potatoes', 'Dairy desserts',\n",
       "       'Fruit nectars', 'pastries', 'Tripe dishes', 'fruits',\n",
       "       'Salty and fatty products', 'cereals', 'legumes', 'nuts'],\n",
       "      dtype=object)"
      ]
     },
     "execution_count": 23,
     "metadata": {},
     "output_type": "execute_result"
    }
   ],
   "source": [
    "df_net['pnns_groups_2'].unique()"
   ]
  },
  {
   "cell_type": "code",
   "execution_count": 24,
   "id": "04c909d3",
   "metadata": {},
   "outputs": [
    {
     "data": {
      "text/plain": [
       "array([nan, 'fr:filet-de-boeuf', 'en:fresh-vegetables', ...,\n",
       "       'fr:sauce-a-l-ail', 'fr:attieke', 'pl:szprot'], dtype=object)"
      ]
     },
     "execution_count": 24,
     "metadata": {},
     "output_type": "execute_result"
    }
   ],
   "source": [
    "df_net['main_category'].unique()"
   ]
  },
  {
   "cell_type": "code",
   "execution_count": 25,
   "id": "4623283e",
   "metadata": {},
   "outputs": [
    {
     "data": {
      "text/plain": [
       "array([nan, 'Filet-de-boeuf', 'Légumes frais', ..., 'Sauce-a-l-ail',\n",
       "       'Attieke', 'pl:Szprot'], dtype=object)"
      ]
     },
     "execution_count": 25,
     "metadata": {},
     "output_type": "execute_result"
    }
   ],
   "source": [
    "df_net['main_category_fr'].unique()"
   ]
  },
  {
   "cell_type": "code",
   "execution_count": 26,
   "id": "d6756125",
   "metadata": {},
   "outputs": [
    {
     "data": {
      "text/plain": [
       "3542"
      ]
     },
     "execution_count": 26,
     "metadata": {},
     "output_type": "execute_result"
    }
   ],
   "source": [
    "len(df_net['main_category_fr'].unique())"
   ]
  },
  {
   "cell_type": "markdown",
   "id": "4b65451c",
   "metadata": {},
   "source": [
    "Je vais garder 'pnns_groups_2' qui a le taux de remplissage le plus important et 'main_category_fr' en complément."
   ]
  },
  {
   "cell_type": "markdown",
   "id": "77618455",
   "metadata": {},
   "source": [
    " "
   ]
  },
  {
   "cell_type": "markdown",
   "id": "020abbe7",
   "metadata": {},
   "source": [
    "### Création du dataframe df_nutriscore"
   ]
  },
  {
   "cell_type": "markdown",
   "id": "f52404c0",
   "metadata": {},
   "source": [
    "Pour créer mon dataframe df_nutriscore, j'utilise les variables d'identification du produit, ses groupes, le nutriscore et les valeurs qui permettent de le calculer\n"
   ]
  },
  {
   "cell_type": "code",
   "execution_count": 27,
   "id": "eb8a178e",
   "metadata": {},
   "outputs": [],
   "source": [
    "liste_nutriscore = ['url','product_name','pnns_groups_2','main_category_fr','energy_100g','sugars_100g','fat_100g','saturated-fat_100g','sodium_100g','fruits-vegetables-nuts_100g','fiber_100g','proteins_100g','nutrition-score-fr_100g','nutrition_grade_fr']\n",
    "df_nutriscore = df_net.loc[:,liste_nutriscore]"
   ]
  },
  {
   "cell_type": "markdown",
   "id": "b92826ae",
   "metadata": {},
   "source": [
    " "
   ]
  },
  {
   "cell_type": "markdown",
   "id": "c367f47f",
   "metadata": {},
   "source": [
    "### Suppression des lignes remplies de NaN ou n'ayant qu'une ou deux valeur"
   ]
  },
  {
   "cell_type": "code",
   "execution_count": 28,
   "id": "cb8bc056",
   "metadata": {},
   "outputs": [],
   "source": [
    "liste_variables = ['energy_100g','sugars_100g','fat_100g','saturated-fat_100g','sodium_100g','fruits-vegetables-nuts_100g','fiber_100g','proteins_100g','nutrition-score-fr_100g','nutrition_grade_fr']\n",
    "df_nutriscore = df_nutriscore.loc[df_nutriscore[liste_variables].isna().sum(axis=1) < 8, : ]"
   ]
  },
  {
   "cell_type": "markdown",
   "id": "6a336b3f",
   "metadata": {},
   "source": [
    " "
   ]
  },
  {
   "cell_type": "markdown",
   "id": "04be38d7",
   "metadata": {},
   "source": [
    "### Association de groupes identiques"
   ]
  },
  {
   "cell_type": "markdown",
   "id": "12e66092",
   "metadata": {},
   "source": [
    "Certains groupes représentent les mêmes produits mais ont un nom qui différe"
   ]
  },
  {
   "cell_type": "code",
   "execution_count": 29,
   "id": "b9291cf9",
   "metadata": {},
   "outputs": [
    {
     "data": {
      "text/plain": [
       "array([nan, 'unknown', 'Vegetables', 'Biscuits and cakes',\n",
       "       'Pizza pies and quiche', 'Meat', 'Sweets', 'Sweetened beverages',\n",
       "       'Dressings and sauces', 'One-dish meals', 'Soups', 'Cereals',\n",
       "       'Fruits', 'Milk and yogurt', 'Fats', 'Non-sugared beverages',\n",
       "       'Cheese', 'Chocolate products', 'Sandwich', 'Bread', 'Nuts',\n",
       "       'Legumes', 'Breakfast cereals', 'Appetizers',\n",
       "       'Artificially sweetened beverages', 'Fruit juices', 'Eggs',\n",
       "       'Fish and seafood', 'Dried fruits', 'Ice cream', 'Processed meat',\n",
       "       'Potatoes', 'vegetables', 'pastries', 'Dairy desserts',\n",
       "       'Alcoholic beverages', 'Fruit nectars', 'fruits',\n",
       "       'Salty and fatty products', 'Tripe dishes', 'cereals', 'legumes',\n",
       "       'nuts'], dtype=object)"
      ]
     },
     "execution_count": 29,
     "metadata": {},
     "output_type": "execute_result"
    }
   ],
   "source": [
    "df_nutriscore['pnns_groups_2'].unique()"
   ]
  },
  {
   "cell_type": "markdown",
   "id": "1c02cc55",
   "metadata": {},
   "source": [
    " "
   ]
  },
  {
   "cell_type": "markdown",
   "id": "8ddd6a05",
   "metadata": {},
   "source": [
    "Les groupes Legumes, legumes, vegetables et Vegetables représentent les mêmes produits. Je n'en fais plus qu'un."
   ]
  },
  {
   "cell_type": "code",
   "execution_count": 30,
   "id": "a4d3eb60",
   "metadata": {},
   "outputs": [],
   "source": [
    "df_nutriscore.loc[df_nutriscore['pnns_groups_2'].isin(['Legumes','legumes','vegetables']), 'pnns_groups_2'] = 'Vegetables'"
   ]
  },
  {
   "cell_type": "markdown",
   "id": "c107c827",
   "metadata": {},
   "source": [
    " "
   ]
  },
  {
   "cell_type": "markdown",
   "id": "71e65593",
   "metadata": {},
   "source": [
    "De même pour :\n",
    "   - fruits et Fruits\n",
    "   - cereals et Cereals\n",
    "   - Artificially sweetened beverages et Sweetened beverages"
   ]
  },
  {
   "cell_type": "code",
   "execution_count": 31,
   "id": "c2c26e79",
   "metadata": {},
   "outputs": [],
   "source": [
    "df_nutriscore.loc[df_nutriscore['pnns_groups_2'] == 'fruits', 'pnns_groups_2'] = 'Fruits'"
   ]
  },
  {
   "cell_type": "code",
   "execution_count": 32,
   "id": "958396ee",
   "metadata": {},
   "outputs": [],
   "source": [
    "df_nutriscore.loc[df_nutriscore['pnns_groups_2'] == 'cereals', 'pnns_groups_2'] = 'Cereals'"
   ]
  },
  {
   "cell_type": "code",
   "execution_count": 33,
   "id": "a49413c3",
   "metadata": {},
   "outputs": [],
   "source": [
    "df_nutriscore.loc[df_nutriscore['pnns_groups_2'] == 'Artificially sweetened beverages', 'pnns_groups_2' ] = 'Sweetened beverages'"
   ]
  },
  {
   "cell_type": "code",
   "execution_count": 34,
   "id": "79d6a325",
   "metadata": {},
   "outputs": [
    {
     "data": {
      "text/plain": [
       "array([nan, 'unknown', 'Vegetables', 'Biscuits and cakes',\n",
       "       'Pizza pies and quiche', 'Meat', 'Sweets', 'Sweetened beverages',\n",
       "       'Dressings and sauces', 'One-dish meals', 'Soups', 'Cereals',\n",
       "       'Fruits', 'Milk and yogurt', 'Fats', 'Non-sugared beverages',\n",
       "       'Cheese', 'Chocolate products', 'Sandwich', 'Bread', 'Nuts',\n",
       "       'Breakfast cereals', 'Appetizers', 'Fruit juices', 'Eggs',\n",
       "       'Fish and seafood', 'Dried fruits', 'Ice cream', 'Processed meat',\n",
       "       'Potatoes', 'pastries', 'Dairy desserts', 'Alcoholic beverages',\n",
       "       'Fruit nectars', 'Salty and fatty products', 'Tripe dishes',\n",
       "       'nuts'], dtype=object)"
      ]
     },
     "execution_count": 34,
     "metadata": {},
     "output_type": "execute_result"
    }
   ],
   "source": [
    "df_nutriscore['pnns_groups_2'].unique()"
   ]
  },
  {
   "cell_type": "markdown",
   "id": "33774852",
   "metadata": {},
   "source": [
    " "
   ]
  },
  {
   "cell_type": "markdown",
   "id": "7c79255b",
   "metadata": {},
   "source": [
    "### Imputation de 'pnns_groups_2' en utilisant 'main_category_fr'"
   ]
  },
  {
   "cell_type": "code",
   "execution_count": 35,
   "id": "528cc2c9",
   "metadata": {},
   "outputs": [
    {
     "data": {
      "text/plain": [
       "url                            0.000000\n",
       "product_name                   0.012766\n",
       "pnns_groups_2                  0.740881\n",
       "main_category_fr               0.758297\n",
       "energy_100g                    0.001771\n",
       "sugars_100g                    0.061706\n",
       "fat_100g                       0.067798\n",
       "saturated-fat_100g             0.120020\n",
       "sodium_100g                    0.021721\n",
       "fruits-vegetables-nuts_100g    0.988925\n",
       "fiber_100g                     0.229915\n",
       "proteins_100g                  0.004723\n",
       "nutrition-score-fr_100g        0.152705\n",
       "nutrition_grade_fr             0.152705\n",
       "dtype: float64"
      ]
     },
     "execution_count": 35,
     "metadata": {},
     "output_type": "execute_result"
    }
   ],
   "source": [
    "df_nutriscore.isna().mean()"
   ]
  },
  {
   "cell_type": "code",
   "execution_count": 36,
   "id": "2d7b2927",
   "metadata": {},
   "outputs": [
    {
     "data": {
      "text/html": [
       "<div>\n",
       "<style scoped>\n",
       "    .dataframe tbody tr th:only-of-type {\n",
       "        vertical-align: middle;\n",
       "    }\n",
       "\n",
       "    .dataframe tbody tr th {\n",
       "        vertical-align: top;\n",
       "    }\n",
       "\n",
       "    .dataframe thead th {\n",
       "        text-align: right;\n",
       "    }\n",
       "</style>\n",
       "<table border=\"1\" class=\"dataframe\">\n",
       "  <thead>\n",
       "    <tr style=\"text-align: right;\">\n",
       "      <th></th>\n",
       "      <th>url</th>\n",
       "      <th>product_name</th>\n",
       "      <th>pnns_groups_2</th>\n",
       "      <th>main_category_fr</th>\n",
       "      <th>energy_100g</th>\n",
       "      <th>sugars_100g</th>\n",
       "      <th>fat_100g</th>\n",
       "      <th>saturated-fat_100g</th>\n",
       "      <th>sodium_100g</th>\n",
       "      <th>fruits-vegetables-nuts_100g</th>\n",
       "      <th>fiber_100g</th>\n",
       "      <th>proteins_100g</th>\n",
       "      <th>nutrition-score-fr_100g</th>\n",
       "      <th>nutrition_grade_fr</th>\n",
       "    </tr>\n",
       "  </thead>\n",
       "  <tbody>\n",
       "  </tbody>\n",
       "</table>\n",
       "</div>"
      ],
      "text/plain": [
       "Empty DataFrame\n",
       "Columns: [url, product_name, pnns_groups_2, main_category_fr, energy_100g, sugars_100g, fat_100g, saturated-fat_100g, sodium_100g, fruits-vegetables-nuts_100g, fiber_100g, proteins_100g, nutrition-score-fr_100g, nutrition_grade_fr]\n",
       "Index: []"
      ]
     },
     "execution_count": 36,
     "metadata": {},
     "output_type": "execute_result"
    }
   ],
   "source": [
    "# Vérification si pnns_groups_2 est vide que main_category_fr ne l'est pas\n",
    "\n",
    "df_nutriscore.loc[(df_nutriscore['pnns_groups_2'].isna()) & ~(df_nutriscore['main_category_fr'].isna()),:]"
   ]
  },
  {
   "cell_type": "markdown",
   "id": "9d5da81c",
   "metadata": {},
   "source": [
    "Lorsque pnns_groups_2 est vide, main_category_fr l'est aussi"
   ]
  },
  {
   "cell_type": "markdown",
   "id": "a81ec18f",
   "metadata": {},
   "source": [
    " "
   ]
  },
  {
   "cell_type": "code",
   "execution_count": 37,
   "id": "0ac483df",
   "metadata": {},
   "outputs": [
    {
     "data": {
      "text/html": [
       "<div>\n",
       "<style scoped>\n",
       "    .dataframe tbody tr th:only-of-type {\n",
       "        vertical-align: middle;\n",
       "    }\n",
       "\n",
       "    .dataframe tbody tr th {\n",
       "        vertical-align: top;\n",
       "    }\n",
       "\n",
       "    .dataframe thead th {\n",
       "        text-align: right;\n",
       "    }\n",
       "</style>\n",
       "<table border=\"1\" class=\"dataframe\">\n",
       "  <thead>\n",
       "    <tr style=\"text-align: right;\">\n",
       "      <th></th>\n",
       "      <th>url</th>\n",
       "      <th>product_name</th>\n",
       "      <th>pnns_groups_2</th>\n",
       "      <th>main_category_fr</th>\n",
       "      <th>energy_100g</th>\n",
       "      <th>sugars_100g</th>\n",
       "      <th>fat_100g</th>\n",
       "      <th>saturated-fat_100g</th>\n",
       "      <th>sodium_100g</th>\n",
       "      <th>fruits-vegetables-nuts_100g</th>\n",
       "      <th>fiber_100g</th>\n",
       "      <th>proteins_100g</th>\n",
       "      <th>nutrition-score-fr_100g</th>\n",
       "      <th>nutrition_grade_fr</th>\n",
       "    </tr>\n",
       "  </thead>\n",
       "  <tbody>\n",
       "    <tr>\n",
       "      <th>181</th>\n",
       "      <td>http://world-fr.openfoodfacts.org/produit/0000...</td>\n",
       "      <td>Pain Burger Artisan</td>\n",
       "      <td>unknown</td>\n",
       "      <td>Boulange</td>\n",
       "      <td>1160.0</td>\n",
       "      <td>1.11</td>\n",
       "      <td>1.11</td>\n",
       "      <td>0.333</td>\n",
       "      <td>0.600000</td>\n",
       "      <td>NaN</td>\n",
       "      <td>2.22</td>\n",
       "      <td>10.0</td>\n",
       "      <td>1.0</td>\n",
       "      <td>b</td>\n",
       "    </tr>\n",
       "    <tr>\n",
       "      <th>222</th>\n",
       "      <td>http://world-fr.openfoodfacts.org/produit/0000...</td>\n",
       "      <td>Luxury Christmas Pudding</td>\n",
       "      <td>unknown</td>\n",
       "      <td>Desserts</td>\n",
       "      <td>1284.0</td>\n",
       "      <td>44.00</td>\n",
       "      <td>7.00</td>\n",
       "      <td>3.600</td>\n",
       "      <td>0.078740</td>\n",
       "      <td>NaN</td>\n",
       "      <td>4.70</td>\n",
       "      <td>3.9</td>\n",
       "      <td>10.0</td>\n",
       "      <td>c</td>\n",
       "    </tr>\n",
       "    <tr>\n",
       "      <th>267</th>\n",
       "      <td>http://world-fr.openfoodfacts.org/produit/0000...</td>\n",
       "      <td>Mehrkomponeneten Protein 90 C6 Haselnuß</td>\n",
       "      <td>unknown</td>\n",
       "      <td>Compléments alimentaires</td>\n",
       "      <td>1533.0</td>\n",
       "      <td>NaN</td>\n",
       "      <td>1.00</td>\n",
       "      <td>NaN</td>\n",
       "      <td>NaN</td>\n",
       "      <td>NaN</td>\n",
       "      <td>NaN</td>\n",
       "      <td>85.5</td>\n",
       "      <td>NaN</td>\n",
       "      <td>NaN</td>\n",
       "    </tr>\n",
       "    <tr>\n",
       "      <th>268</th>\n",
       "      <td>http://world-fr.openfoodfacts.org/produit/0000...</td>\n",
       "      <td>Mehrkomponeneten Protein 90 C6 Schoko</td>\n",
       "      <td>unknown</td>\n",
       "      <td>Compléments alimentaires</td>\n",
       "      <td>1533.0</td>\n",
       "      <td>NaN</td>\n",
       "      <td>1.00</td>\n",
       "      <td>NaN</td>\n",
       "      <td>NaN</td>\n",
       "      <td>NaN</td>\n",
       "      <td>NaN</td>\n",
       "      <td>85.5</td>\n",
       "      <td>NaN</td>\n",
       "      <td>NaN</td>\n",
       "    </tr>\n",
       "    <tr>\n",
       "      <th>274</th>\n",
       "      <td>http://world-fr.openfoodfacts.org/produit/0000...</td>\n",
       "      <td>Mehrkomponeneten Protein 90 C6 Banane</td>\n",
       "      <td>unknown</td>\n",
       "      <td>Compléments alimentaires</td>\n",
       "      <td>1533.0</td>\n",
       "      <td>NaN</td>\n",
       "      <td>1.00</td>\n",
       "      <td>NaN</td>\n",
       "      <td>NaN</td>\n",
       "      <td>NaN</td>\n",
       "      <td>NaN</td>\n",
       "      <td>85.5</td>\n",
       "      <td>NaN</td>\n",
       "      <td>NaN</td>\n",
       "    </tr>\n",
       "    <tr>\n",
       "      <th>...</th>\n",
       "      <td>...</td>\n",
       "      <td>...</td>\n",
       "      <td>...</td>\n",
       "      <td>...</td>\n",
       "      <td>...</td>\n",
       "      <td>...</td>\n",
       "      <td>...</td>\n",
       "      <td>...</td>\n",
       "      <td>...</td>\n",
       "      <td>...</td>\n",
       "      <td>...</td>\n",
       "      <td>...</td>\n",
       "      <td>...</td>\n",
       "      <td>...</td>\n",
       "    </tr>\n",
       "    <tr>\n",
       "      <th>320598</th>\n",
       "      <td>http://world-fr.openfoodfacts.org/produit/9556...</td>\n",
       "      <td>Crème de Coco</td>\n",
       "      <td>unknown</td>\n",
       "      <td>en:Cremes-vegetales-a-base-de-coco-pour-cuisiner</td>\n",
       "      <td>1031.0</td>\n",
       "      <td>3.40</td>\n",
       "      <td>24.00</td>\n",
       "      <td>22.000</td>\n",
       "      <td>0.019685</td>\n",
       "      <td>NaN</td>\n",
       "      <td>1.00</td>\n",
       "      <td>2.6</td>\n",
       "      <td>12.0</td>\n",
       "      <td>d</td>\n",
       "    </tr>\n",
       "    <tr>\n",
       "      <th>320600</th>\n",
       "      <td>http://world-fr.openfoodfacts.org/produit/9556...</td>\n",
       "      <td>Crème de coco allégée</td>\n",
       "      <td>unknown</td>\n",
       "      <td>Aliments et boissons à base de végétaux</td>\n",
       "      <td>543.0</td>\n",
       "      <td>1.50</td>\n",
       "      <td>13.00</td>\n",
       "      <td>11.000</td>\n",
       "      <td>0.011811</td>\n",
       "      <td>NaN</td>\n",
       "      <td>0.50</td>\n",
       "      <td>1.3</td>\n",
       "      <td>11.0</td>\n",
       "      <td>d</td>\n",
       "    </tr>\n",
       "    <tr>\n",
       "      <th>320618</th>\n",
       "      <td>http://world-fr.openfoodfacts.org/produit/9556...</td>\n",
       "      <td>Jeenys Palm Sugar</td>\n",
       "      <td>unknown</td>\n",
       "      <td>en:Asian-grocery</td>\n",
       "      <td>1690.0</td>\n",
       "      <td>90.00</td>\n",
       "      <td>0.50</td>\n",
       "      <td>0.500</td>\n",
       "      <td>0.009000</td>\n",
       "      <td>NaN</td>\n",
       "      <td>0.10</td>\n",
       "      <td>1.0</td>\n",
       "      <td>15.0</td>\n",
       "      <td>d</td>\n",
       "    </tr>\n",
       "    <tr>\n",
       "      <th>320669</th>\n",
       "      <td>http://world-fr.openfoodfacts.org/produit/9578...</td>\n",
       "      <td>Allioli</td>\n",
       "      <td>unknown</td>\n",
       "      <td>Sauce-a-l-ail</td>\n",
       "      <td>3121.0</td>\n",
       "      <td>0.00</td>\n",
       "      <td>81.90</td>\n",
       "      <td>10.000</td>\n",
       "      <td>NaN</td>\n",
       "      <td>NaN</td>\n",
       "      <td>0.10</td>\n",
       "      <td>1.1</td>\n",
       "      <td>NaN</td>\n",
       "      <td>NaN</td>\n",
       "    </tr>\n",
       "    <tr>\n",
       "      <th>320717</th>\n",
       "      <td>http://world-fr.openfoodfacts.org/produit/9688...</td>\n",
       "      <td>100 г очищенных жареных семечек</td>\n",
       "      <td>unknown</td>\n",
       "      <td>Aliments et boissons à base de végétaux</td>\n",
       "      <td>2970.0</td>\n",
       "      <td>NaN</td>\n",
       "      <td>65.00</td>\n",
       "      <td>NaN</td>\n",
       "      <td>NaN</td>\n",
       "      <td>NaN</td>\n",
       "      <td>NaN</td>\n",
       "      <td>26.0</td>\n",
       "      <td>NaN</td>\n",
       "      <td>NaN</td>\n",
       "    </tr>\n",
       "  </tbody>\n",
       "</table>\n",
       "<p>8124 rows × 14 columns</p>\n",
       "</div>"
      ],
      "text/plain": [
       "                                                      url  \\\n",
       "181     http://world-fr.openfoodfacts.org/produit/0000...   \n",
       "222     http://world-fr.openfoodfacts.org/produit/0000...   \n",
       "267     http://world-fr.openfoodfacts.org/produit/0000...   \n",
       "268     http://world-fr.openfoodfacts.org/produit/0000...   \n",
       "274     http://world-fr.openfoodfacts.org/produit/0000...   \n",
       "...                                                   ...   \n",
       "320598  http://world-fr.openfoodfacts.org/produit/9556...   \n",
       "320600  http://world-fr.openfoodfacts.org/produit/9556...   \n",
       "320618  http://world-fr.openfoodfacts.org/produit/9556...   \n",
       "320669  http://world-fr.openfoodfacts.org/produit/9578...   \n",
       "320717  http://world-fr.openfoodfacts.org/produit/9688...   \n",
       "\n",
       "                                   product_name pnns_groups_2  \\\n",
       "181                         Pain Burger Artisan       unknown   \n",
       "222                    Luxury Christmas Pudding       unknown   \n",
       "267     Mehrkomponeneten Protein 90 C6 Haselnuß       unknown   \n",
       "268       Mehrkomponeneten Protein 90 C6 Schoko       unknown   \n",
       "274       Mehrkomponeneten Protein 90 C6 Banane       unknown   \n",
       "...                                         ...           ...   \n",
       "320598                            Crème de Coco       unknown   \n",
       "320600                   Crème de coco allégée        unknown   \n",
       "320618                       Jeenys Palm Sugar        unknown   \n",
       "320669                                  Allioli       unknown   \n",
       "320717          100 г очищенных жареных семечек       unknown   \n",
       "\n",
       "                                        main_category_fr  energy_100g  \\\n",
       "181                                             Boulange       1160.0   \n",
       "222                                             Desserts       1284.0   \n",
       "267                             Compléments alimentaires       1533.0   \n",
       "268                             Compléments alimentaires       1533.0   \n",
       "274                             Compléments alimentaires       1533.0   \n",
       "...                                                  ...          ...   \n",
       "320598  en:Cremes-vegetales-a-base-de-coco-pour-cuisiner       1031.0   \n",
       "320600           Aliments et boissons à base de végétaux        543.0   \n",
       "320618                                  en:Asian-grocery       1690.0   \n",
       "320669                                     Sauce-a-l-ail       3121.0   \n",
       "320717           Aliments et boissons à base de végétaux       2970.0   \n",
       "\n",
       "        sugars_100g  fat_100g  saturated-fat_100g  sodium_100g  \\\n",
       "181            1.11      1.11               0.333     0.600000   \n",
       "222           44.00      7.00               3.600     0.078740   \n",
       "267             NaN      1.00                 NaN          NaN   \n",
       "268             NaN      1.00                 NaN          NaN   \n",
       "274             NaN      1.00                 NaN          NaN   \n",
       "...             ...       ...                 ...          ...   \n",
       "320598         3.40     24.00              22.000     0.019685   \n",
       "320600         1.50     13.00              11.000     0.011811   \n",
       "320618        90.00      0.50               0.500     0.009000   \n",
       "320669         0.00     81.90              10.000          NaN   \n",
       "320717          NaN     65.00                 NaN          NaN   \n",
       "\n",
       "        fruits-vegetables-nuts_100g  fiber_100g  proteins_100g  \\\n",
       "181                             NaN        2.22           10.0   \n",
       "222                             NaN        4.70            3.9   \n",
       "267                             NaN         NaN           85.5   \n",
       "268                             NaN         NaN           85.5   \n",
       "274                             NaN         NaN           85.5   \n",
       "...                             ...         ...            ...   \n",
       "320598                          NaN        1.00            2.6   \n",
       "320600                          NaN        0.50            1.3   \n",
       "320618                          NaN        0.10            1.0   \n",
       "320669                          NaN        0.10            1.1   \n",
       "320717                          NaN         NaN           26.0   \n",
       "\n",
       "        nutrition-score-fr_100g nutrition_grade_fr  \n",
       "181                         1.0                  b  \n",
       "222                        10.0                  c  \n",
       "267                         NaN                NaN  \n",
       "268                         NaN                NaN  \n",
       "274                         NaN                NaN  \n",
       "...                         ...                ...  \n",
       "320598                     12.0                  d  \n",
       "320600                     11.0                  d  \n",
       "320618                     15.0                  d  \n",
       "320669                      NaN                NaN  \n",
       "320717                      NaN                NaN  \n",
       "\n",
       "[8124 rows x 14 columns]"
      ]
     },
     "execution_count": 37,
     "metadata": {},
     "output_type": "execute_result"
    }
   ],
   "source": [
    "# Vérification si pnns_groups_2 est 'unknown' que main_category_fr n'est pas vide\n",
    "\n",
    "df_nutriscore.loc[(df_nutriscore['pnns_groups_2'] == 'unknown') & ~(df_nutriscore['main_category_fr'].isna()) ,:]"
   ]
  },
  {
   "cell_type": "markdown",
   "id": "47527b50",
   "metadata": {},
   "source": [
    "Je vais pouvoir trouver le groupe pnns_groups_2 de certains produits en utilisant main_category_fr"
   ]
  },
  {
   "cell_type": "markdown",
   "id": "6607d106",
   "metadata": {},
   "source": [
    " "
   ]
  },
  {
   "cell_type": "code",
   "execution_count": 38,
   "id": "c61cf288",
   "metadata": {},
   "outputs": [
    {
     "data": {
      "text/plain": [
       "array(['Légumes frais', 'Pâtisseries', 'Boulange', ...,\n",
       "       'en:Cremes-vegetales-a-base-de-coco-pour-cuisiner',\n",
       "       'en:Asian-grocery', 'Sauce-a-l-ail'], dtype=object)"
      ]
     },
     "execution_count": 38,
     "metadata": {},
     "output_type": "execute_result"
    }
   ],
   "source": [
    "liste_category = df_nutriscore['main_category_fr'].dropna().unique()\n",
    "liste_category"
   ]
  },
  {
   "cell_type": "code",
   "execution_count": 39,
   "id": "58658451",
   "metadata": {},
   "outputs": [
    {
     "data": {
      "text/plain": [
       "array(['unknown', 'Vegetables', 'Biscuits and cakes',\n",
       "       'Pizza pies and quiche', 'Meat', 'Sweets', 'Sweetened beverages',\n",
       "       'Dressings and sauces', 'One-dish meals', 'Soups', 'Cereals',\n",
       "       'Fruits', 'Milk and yogurt', 'Fats', 'Non-sugared beverages',\n",
       "       'Cheese', 'Chocolate products', 'Sandwich', 'Bread', 'Nuts',\n",
       "       'Breakfast cereals', 'Appetizers', 'Fruit juices', 'Eggs',\n",
       "       'Fish and seafood', 'Dried fruits', 'Ice cream', 'Processed meat',\n",
       "       'Potatoes', 'pastries', 'Dairy desserts', 'Alcoholic beverages',\n",
       "       'Fruit nectars', 'Salty and fatty products', 'Tripe dishes',\n",
       "       'nuts'], dtype=object)"
      ]
     },
     "execution_count": 39,
     "metadata": {},
     "output_type": "execute_result"
    }
   ],
   "source": [
    "liste_groupes = df_nutriscore['pnns_groups_2'].dropna().unique()\n",
    "liste_groupes"
   ]
  },
  {
   "cell_type": "code",
   "execution_count": 40,
   "id": "9336615f",
   "metadata": {},
   "outputs": [],
   "source": [
    "# Imputation des unknown par nan\n",
    "\n",
    "df_nutriscore.loc[df_nutriscore['pnns_groups_2'] == 'unknown','pnns_groups_2'] = np.nan"
   ]
  },
  {
   "cell_type": "code",
   "execution_count": 41,
   "id": "e0a50c5e",
   "metadata": {},
   "outputs": [
    {
     "name": "stderr",
     "output_type": "stream",
     "text": [
      "C:\\Users\\matth\\AppData\\Local\\Temp\\ipykernel_14832\\1566279046.py:4: SettingWithCopyWarning: \n",
      "A value is trying to be set on a copy of a slice from a DataFrame\n",
      "\n",
      "See the caveats in the documentation: https://pandas.pydata.org/pandas-docs/stable/user_guide/indexing.html#returning-a-view-versus-a-copy\n",
      "  df1.drop_duplicates(subset = ['main_category_fr'], inplace = True)     # je supprime les doublons de main_category_fr\n"
     ]
    },
    {
     "data": {
      "text/plain": [
       "{'Légumes frais': 'Vegetables',\n",
       " 'Pâtisseries': 'Biscuits and cakes',\n",
       " 'Plats préparés': 'Pizza pies and quiche',\n",
       " 'Volailles': 'Meat',\n",
       " 'Aliments et boissons à base de végétaux': 'Sweets',\n",
       " 'Gâteaux': 'Biscuits and cakes',\n",
       " 'Sodas': 'Sweetened beverages',\n",
       " 'Condiments': 'Dressings and sauces',\n",
       " 'Sodas aux fruits': 'Sweetened beverages',\n",
       " 'Bonbons': 'Sweets',\n",
       " 'Cookies': 'Biscuits and cakes',\n",
       " 'Plats à base de viande': 'One-dish meals',\n",
       " 'Soupes': 'One-dish meals',\n",
       " 'Viandes': 'Meat',\n",
       " 'Farines': 'Cereals',\n",
       " 'Conserves': 'Fruits',\n",
       " 'Yaourts': 'Milk and yogurt',\n",
       " 'Huiles': 'Fats',\n",
       " 'Boissons': 'Non-sugared beverages',\n",
       " 'Confitures': 'Sweets',\n",
       " 'Fromages de vache': 'Cheese',\n",
       " 'Pâtes alimentaires': 'Cereals',\n",
       " 'Epicerie': 'Dressings and sauces',\n",
       " 'Chocolats': 'Chocolate products',\n",
       " 'Pâtes à tartiner': 'Sweets',\n",
       " 'Sandwichs': 'Sandwich',\n",
       " 'Pains': 'Bread',\n",
       " 'Produits panés': 'Meat',\n",
       " 'Fruits à coques': 'Nuts',\n",
       " 'Desserts': 'Sweets',\n",
       " 'Thés': 'Non-sugared beverages',\n",
       " 'Crustacés': 'One-dish meals',\n",
       " 'Biscuits': 'Biscuits and cakes',\n",
       " 'Petit-déjeuners': 'Breakfast cereals',\n",
       " 'Chips et frites': 'Appetizers',\n",
       " 'Produits à tartiner salés': 'Eggs',\n",
       " 'Riz': 'Cereals',\n",
       " \"Produits d'élevages\": 'Sweets',\n",
       " 'Saumons': 'Fish and seafood',\n",
       " 'Jus de fruits': 'Fruit juices',\n",
       " 'Snacks salés': 'Appetizers',\n",
       " 'Vinaigres': 'Dressings and sauces',\n",
       " 'Sucres': 'Sweets',\n",
       " 'Laits': 'Non-sugared beverages',\n",
       " 'Eaux': 'Non-sugared beverages',\n",
       " 'Légumes tiges': 'Vegetables',\n",
       " 'Sodas light': 'Non-sugared beverages',\n",
       " 'Fruits': 'Fruits',\n",
       " 'Fromages': 'Cheese',\n",
       " 'Glaces': 'Ice cream',\n",
       " 'Surgelés': 'Pizza pies and quiche',\n",
       " 'Saucissons': 'Processed meat',\n",
       " 'Jambons': 'Processed meat',\n",
       " 'Boissons gazeuses': 'Non-sugared beverages',\n",
       " 'Jus de pamplemousse': 'Fruit juices',\n",
       " 'Saucisses': 'Processed meat',\n",
       " 'Tomates': 'Fruits',\n",
       " \"Jus d'orange à base de concentré\": 'Fruit juices',\n",
       " 'Jus de pomme': 'Fruit juices',\n",
       " 'Pommes de terre': 'Potatoes',\n",
       " 'Gaufres': 'Biscuits and cakes',\n",
       " \"Jus d'orange\": 'Fruit juices',\n",
       " 'Produits à tartiner': 'Vegetables',\n",
       " 'Snacks sucrés': 'Sweets',\n",
       " 'Matières grasses animales': 'Fats',\n",
       " 'Beurres': 'Fats',\n",
       " \"Huiles d'olive\": 'Fats',\n",
       " 'Yaourts aux fruits': 'Milk and yogurt',\n",
       " 'Sablés': 'Biscuits and cakes',\n",
       " 'Fruits secs': 'Dried fruits',\n",
       " 'Poissons': 'Fish and seafood',\n",
       " 'Produits à tartiner sucrés': 'Sweets',\n",
       " 'Pickles': 'Vegetables',\n",
       " 'Yaourts à boire': 'Milk and yogurt',\n",
       " 'Poissons fumés': 'Fish and seafood',\n",
       " 'Crèmes': 'Milk and yogurt',\n",
       " 'Jus de fruits à base de concentré': 'Fruit juices',\n",
       " 'Jus de fruits 100% pur jus': 'Fruit juices',\n",
       " 'Infusions': 'Non-sugared beverages',\n",
       " 'Thés verts': 'Non-sugared beverages',\n",
       " 'Sardines en conserve': 'Fish and seafood',\n",
       " 'Produits de la mer': 'Fish and seafood',\n",
       " 'Desserts au chocolat': 'Chocolate products',\n",
       " 'Produits laitiers': 'Non-sugared beverages',\n",
       " 'es:Pan-y-reposteria': 'Sweets',\n",
       " 'Thons': 'Fish and seafood',\n",
       " 'Produits labellisés': 'Cheese',\n",
       " 'Fromages de France': 'Cheese',\n",
       " 'Emmental': 'Cheese',\n",
       " 'Lardons': 'Processed meat',\n",
       " 'Jambons crus': 'Processed meat',\n",
       " 'Charcuteries': 'Processed meat',\n",
       " \"Jus d'orange 100% pur jus\": 'Fruit juices',\n",
       " 'Fromages blancs': 'Cheese',\n",
       " \"Huiles d'olive vierges\": 'Fats',\n",
       " 'Nectars de fruits': 'Fruit nectars',\n",
       " 'Sardines': 'Fish and seafood',\n",
       " 'Champignons': 'Vegetables',\n",
       " 'Yaourts brassés': 'Milk and yogurt',\n",
       " 'Salades composées': 'One-dish meals',\n",
       " 'Epices': 'Non-sugared beverages',\n",
       " 'Poissons en conserve': 'Fish and seafood',\n",
       " 'Yaourts entiers': 'Milk and yogurt',\n",
       " 'Petits beurres': 'Biscuits and cakes',\n",
       " 'Charcuteries diverses': 'Processed meat',\n",
       " 'Farines de blé': 'Cereals',\n",
       " 'Coquillettes': 'Cereals',\n",
       " 'Matières grasses végétales': 'Fats',\n",
       " 'Olives entières': 'Vegetables',\n",
       " 'Olives marinées': 'Vegetables',\n",
       " 'Olives vertes': 'Vegetables',\n",
       " 'Saucissons secs pur porc': 'Processed meat',\n",
       " 'Quenelles': 'One-dish meals',\n",
       " 'Pains de mie complet': 'Bread',\n",
       " 'Tartes': 'Pizza pies and quiche',\n",
       " 'Jambons secs': 'Processed meat',\n",
       " 'Purées de pommes de terre': 'Potatoes',\n",
       " 'Chocolats-de-degustation': 'Chocolate products',\n",
       " 'Jus et nectars de fruits': 'Non-sugared beverages',\n",
       " 'Jambons de Paris': 'Processed meat',\n",
       " 'Matières grasses': 'Fats',\n",
       " 'Poissons et viandes et oeufs': 'Tripe dishes',\n",
       " 'Produits à teneur réduite en sel': 'Processed meat',\n",
       " 'Glaces et sorbets': 'Ice cream',\n",
       " 'Genoise': 'Biscuits and cakes',\n",
       " 'Aliments pour bébé': 'Non-sugared beverages',\n",
       " 'Purées': 'One-dish meals',\n",
       " 'Pates': 'Cereals',\n",
       " 'Compotes pour bébé': 'Fruits',\n",
       " 'Tablettes-de-chocolat': 'Chocolate products',\n",
       " 'Frais': 'Appetizers',\n",
       " 'Petits-pois': 'Vegetables',\n",
       " 'Sans-gluten': 'Breakfast cereals',\n",
       " 'Sels': 'Alcoholic beverages'}"
      ]
     },
     "execution_count": 41,
     "metadata": {},
     "output_type": "execute_result"
    }
   ],
   "source": [
    "# création d'un dictionnaire associant le groupe de main-category_fr au groupe de pnns_groups_2\n",
    "\n",
    "df1 = df_nutriscore.dropna(subset='pnns_groups_2')   # je supprime les nan de pnns_groups_2\n",
    "df1.drop_duplicates(subset = ['main_category_fr'], inplace = True)     # je supprime les doublons de main_category_fr\n",
    "\n",
    "dico =  dict([(m,p) for m,p in zip(df1['main_category_fr'], df1['pnns_groups_2'])])\n",
    "dico"
   ]
  },
  {
   "cell_type": "markdown",
   "id": "987aa030",
   "metadata": {},
   "source": [
    "A partir de main-category_fr, on retrouve le pnns_groups_2"
   ]
  },
  {
   "cell_type": "markdown",
   "id": "807cd5bf",
   "metadata": {},
   "source": [
    " "
   ]
  },
  {
   "cell_type": "markdown",
   "id": "2c0718d1",
   "metadata": {},
   "source": [
    "Dans un dataframe de transition, j'utilise dico pour transformer la categorie de main_category_fr en un groupe de pnns_groups_2 puis je change les nan de pnns_groups_2 par la valeur de main_category_fr \n"
   ]
  },
  {
   "cell_type": "code",
   "execution_count": 42,
   "id": "77df306f",
   "metadata": {},
   "outputs": [
    {
     "name": "stderr",
     "output_type": "stream",
     "text": [
      "C:\\Users\\matth\\AppData\\Local\\Temp\\ipykernel_14832\\115917212.py:2: SettingWithCopyWarning: \n",
      "A value is trying to be set on a copy of a slice from a DataFrame.\n",
      "Try using .loc[row_indexer,col_indexer] = value instead\n",
      "\n",
      "See the caveats in the documentation: https://pandas.pydata.org/pandas-docs/stable/user_guide/indexing.html#returning-a-view-versus-a-copy\n",
      "  df1['main_category_fr'] = df1['main_category_fr'].map(dico)\n",
      "C:\\Users\\matth\\AppData\\Local\\Temp\\ipykernel_14832\\115917212.py:3: SettingWithCopyWarning: \n",
      "A value is trying to be set on a copy of a slice from a DataFrame\n",
      "\n",
      "See the caveats in the documentation: https://pandas.pydata.org/pandas-docs/stable/user_guide/indexing.html#returning-a-view-versus-a-copy\n",
      "  df1.fillna(method = 'bfill', axis = 1, inplace = True)\n"
     ]
    }
   ],
   "source": [
    "df1 = df_nutriscore[['pnns_groups_2','main_category_fr']]   \n",
    "df1['main_category_fr'] = df1['main_category_fr'].map(dico)\n",
    "df1.fillna(method = 'bfill', axis = 1, inplace = True)\n",
    "df_nutriscore['pnns_groups_2'] = df1['pnns_groups_2']\n"
   ]
  },
  {
   "cell_type": "code",
   "execution_count": 43,
   "id": "630aba74",
   "metadata": {},
   "outputs": [
    {
     "data": {
      "text/html": [
       "<div>\n",
       "<style scoped>\n",
       "    .dataframe tbody tr th:only-of-type {\n",
       "        vertical-align: middle;\n",
       "    }\n",
       "\n",
       "    .dataframe tbody tr th {\n",
       "        vertical-align: top;\n",
       "    }\n",
       "\n",
       "    .dataframe thead th {\n",
       "        text-align: right;\n",
       "    }\n",
       "</style>\n",
       "<table border=\"1\" class=\"dataframe\">\n",
       "  <thead>\n",
       "    <tr style=\"text-align: right;\">\n",
       "      <th></th>\n",
       "      <th>url</th>\n",
       "      <th>product_name</th>\n",
       "      <th>pnns_groups_2</th>\n",
       "      <th>main_category_fr</th>\n",
       "      <th>energy_100g</th>\n",
       "      <th>sugars_100g</th>\n",
       "      <th>fat_100g</th>\n",
       "      <th>saturated-fat_100g</th>\n",
       "      <th>sodium_100g</th>\n",
       "      <th>fruits-vegetables-nuts_100g</th>\n",
       "      <th>fiber_100g</th>\n",
       "      <th>proteins_100g</th>\n",
       "      <th>nutrition-score-fr_100g</th>\n",
       "      <th>nutrition_grade_fr</th>\n",
       "    </tr>\n",
       "  </thead>\n",
       "  <tbody>\n",
       "  </tbody>\n",
       "</table>\n",
       "</div>"
      ],
      "text/plain": [
       "Empty DataFrame\n",
       "Columns: [url, product_name, pnns_groups_2, main_category_fr, energy_100g, sugars_100g, fat_100g, saturated-fat_100g, sodium_100g, fruits-vegetables-nuts_100g, fiber_100g, proteins_100g, nutrition-score-fr_100g, nutrition_grade_fr]\n",
       "Index: []"
      ]
     },
     "execution_count": 43,
     "metadata": {},
     "output_type": "execute_result"
    }
   ],
   "source": [
    "df_nutriscore.loc[(df_nutriscore['main_category_fr'].isin(dico)) & (df_nutriscore['pnns_groups_2'].isna()) ]"
   ]
  },
  {
   "cell_type": "markdown",
   "id": "cd6714d8",
   "metadata": {},
   "source": [
    "Lorsque la catégorie de main_category_fr appartient à un groupe alors on le retrouve dans pnns_groups_2"
   ]
  },
  {
   "cell_type": "markdown",
   "id": "9769f822",
   "metadata": {},
   "source": [
    " "
   ]
  },
  {
   "cell_type": "markdown",
   "id": "9ffc4139",
   "metadata": {},
   "source": [
    " "
   ]
  },
  {
   "cell_type": "markdown",
   "id": "93088eb3",
   "metadata": {},
   "source": [
    " "
   ]
  },
  {
   "cell_type": "markdown",
   "id": "10c555ae",
   "metadata": {},
   "source": [
    "##  <a name=\"A3\">3) Traitement des valeurs aberrantes</a>"
   ]
  },
  {
   "cell_type": "markdown",
   "id": "acfb6aba",
   "metadata": {},
   "source": [
    "Pour les variables nutriments, je transfome toutes les valeurs inférieures à 0 ou supérieure à 100 par un nan.\n"
   ]
  },
  {
   "cell_type": "code",
   "execution_count": 44,
   "id": "73196775",
   "metadata": {},
   "outputs": [],
   "source": [
    "liste_valeurs = ['energy_100g','sugars_100g','fat_100g','saturated-fat_100g','sodium_100g','fruits-vegetables-nuts_100g','fiber_100g','proteins_100g','nutrition-score-fr_100g']\n",
    "liste_valeurs_sans_nrj = ['sugars_100g','fat_100g','saturated-fat_100g','sodium_100g','fruits-vegetables-nuts_100g','fiber_100g','proteins_100g']\n",
    "\n",
    "for i in liste_valeurs_sans_nrj :\n",
    "    df_nutriscore.loc[(df_nutriscore[i] < 0) | (df_nutriscore[i] > 100),i] = np.nan"
   ]
  },
  {
   "cell_type": "markdown",
   "id": "5712a828",
   "metadata": {},
   "source": [
    "Pour l'énergie, la valeur max est 900 kcal soit 3766 kj"
   ]
  },
  {
   "cell_type": "code",
   "execution_count": 45,
   "id": "8fde5544",
   "metadata": {},
   "outputs": [],
   "source": [
    "df_nutriscore.loc[df_nutriscore['energy_100g'] > 3766,'energy_100g'] = np.nan"
   ]
  },
  {
   "cell_type": "markdown",
   "id": "567bba8c",
   "metadata": {},
   "source": [
    " "
   ]
  },
  {
   "cell_type": "code",
   "execution_count": 46,
   "id": "76d57c5b",
   "metadata": {},
   "outputs": [
    {
     "data": {
      "text/html": [
       "<div>\n",
       "<style scoped>\n",
       "    .dataframe tbody tr th:only-of-type {\n",
       "        vertical-align: middle;\n",
       "    }\n",
       "\n",
       "    .dataframe tbody tr th {\n",
       "        vertical-align: top;\n",
       "    }\n",
       "\n",
       "    .dataframe thead th {\n",
       "        text-align: right;\n",
       "    }\n",
       "</style>\n",
       "<table border=\"1\" class=\"dataframe\">\n",
       "  <thead>\n",
       "    <tr style=\"text-align: right;\">\n",
       "      <th></th>\n",
       "      <th>energy_100g</th>\n",
       "      <th>sugars_100g</th>\n",
       "      <th>fat_100g</th>\n",
       "      <th>saturated-fat_100g</th>\n",
       "      <th>sodium_100g</th>\n",
       "      <th>fruits-vegetables-nuts_100g</th>\n",
       "      <th>fiber_100g</th>\n",
       "      <th>proteins_100g</th>\n",
       "      <th>nutrition-score-fr_100g</th>\n",
       "    </tr>\n",
       "  </thead>\n",
       "  <tbody>\n",
       "    <tr>\n",
       "      <th>count</th>\n",
       "      <td>260017.000000</td>\n",
       "      <td>244735.000000</td>\n",
       "      <td>243160.000000</td>\n",
       "      <td>229539.000000</td>\n",
       "      <td>255150.000000</td>\n",
       "      <td>2889.000000</td>\n",
       "      <td>200871.000000</td>\n",
       "      <td>259613.000000</td>\n",
       "      <td>221016.00000</td>\n",
       "    </tr>\n",
       "    <tr>\n",
       "      <th>mean</th>\n",
       "      <td>1122.126008</td>\n",
       "      <td>15.964826</td>\n",
       "      <td>12.697974</td>\n",
       "      <td>5.126094</td>\n",
       "      <td>0.645185</td>\n",
       "      <td>30.454091</td>\n",
       "      <td>2.832081</td>\n",
       "      <td>7.078137</td>\n",
       "      <td>9.17373</td>\n",
       "    </tr>\n",
       "    <tr>\n",
       "      <th>std</th>\n",
       "      <td>792.007630</td>\n",
       "      <td>21.142637</td>\n",
       "      <td>17.477954</td>\n",
       "      <td>7.913808</td>\n",
       "      <td>2.641496</td>\n",
       "      <td>32.089576</td>\n",
       "      <td>4.583236</td>\n",
       "      <td>8.148664</td>\n",
       "      <td>9.05547</td>\n",
       "    </tr>\n",
       "    <tr>\n",
       "      <th>min</th>\n",
       "      <td>0.000000</td>\n",
       "      <td>0.000000</td>\n",
       "      <td>0.000000</td>\n",
       "      <td>0.000000</td>\n",
       "      <td>0.000000</td>\n",
       "      <td>0.000000</td>\n",
       "      <td>0.000000</td>\n",
       "      <td>0.000000</td>\n",
       "      <td>-15.00000</td>\n",
       "    </tr>\n",
       "    <tr>\n",
       "      <th>25%</th>\n",
       "      <td>377.000000</td>\n",
       "      <td>1.300000</td>\n",
       "      <td>0.000000</td>\n",
       "      <td>0.000000</td>\n",
       "      <td>0.025000</td>\n",
       "      <td>0.000000</td>\n",
       "      <td>0.000000</td>\n",
       "      <td>0.700000</td>\n",
       "      <td>1.00000</td>\n",
       "    </tr>\n",
       "    <tr>\n",
       "      <th>50%</th>\n",
       "      <td>1100.000000</td>\n",
       "      <td>5.700000</td>\n",
       "      <td>5.000000</td>\n",
       "      <td>1.790000</td>\n",
       "      <td>0.230000</td>\n",
       "      <td>19.000000</td>\n",
       "      <td>1.500000</td>\n",
       "      <td>4.760000</td>\n",
       "      <td>10.00000</td>\n",
       "    </tr>\n",
       "    <tr>\n",
       "      <th>75%</th>\n",
       "      <td>1674.000000</td>\n",
       "      <td>24.000000</td>\n",
       "      <td>20.000000</td>\n",
       "      <td>7.140000</td>\n",
       "      <td>0.541000</td>\n",
       "      <td>50.000000</td>\n",
       "      <td>3.600000</td>\n",
       "      <td>10.000000</td>\n",
       "      <td>16.00000</td>\n",
       "    </tr>\n",
       "    <tr>\n",
       "      <th>max</th>\n",
       "      <td>3766.000000</td>\n",
       "      <td>100.000000</td>\n",
       "      <td>100.000000</td>\n",
       "      <td>100.000000</td>\n",
       "      <td>100.000000</td>\n",
       "      <td>100.000000</td>\n",
       "      <td>100.000000</td>\n",
       "      <td>100.000000</td>\n",
       "      <td>40.00000</td>\n",
       "    </tr>\n",
       "  </tbody>\n",
       "</table>\n",
       "</div>"
      ],
      "text/plain": [
       "         energy_100g    sugars_100g       fat_100g  saturated-fat_100g  \\\n",
       "count  260017.000000  244735.000000  243160.000000       229539.000000   \n",
       "mean     1122.126008      15.964826      12.697974            5.126094   \n",
       "std       792.007630      21.142637      17.477954            7.913808   \n",
       "min         0.000000       0.000000       0.000000            0.000000   \n",
       "25%       377.000000       1.300000       0.000000            0.000000   \n",
       "50%      1100.000000       5.700000       5.000000            1.790000   \n",
       "75%      1674.000000      24.000000      20.000000            7.140000   \n",
       "max      3766.000000     100.000000     100.000000          100.000000   \n",
       "\n",
       "         sodium_100g  fruits-vegetables-nuts_100g     fiber_100g  \\\n",
       "count  255150.000000                  2889.000000  200871.000000   \n",
       "mean        0.645185                    30.454091       2.832081   \n",
       "std         2.641496                    32.089576       4.583236   \n",
       "min         0.000000                     0.000000       0.000000   \n",
       "25%         0.025000                     0.000000       0.000000   \n",
       "50%         0.230000                    19.000000       1.500000   \n",
       "75%         0.541000                    50.000000       3.600000   \n",
       "max       100.000000                   100.000000     100.000000   \n",
       "\n",
       "       proteins_100g  nutrition-score-fr_100g  \n",
       "count  259613.000000             221016.00000  \n",
       "mean        7.078137                  9.17373  \n",
       "std         8.148664                  9.05547  \n",
       "min         0.000000                -15.00000  \n",
       "25%         0.700000                  1.00000  \n",
       "50%         4.760000                 10.00000  \n",
       "75%        10.000000                 16.00000  \n",
       "max       100.000000                 40.00000  "
      ]
     },
     "execution_count": 46,
     "metadata": {},
     "output_type": "execute_result"
    }
   ],
   "source": [
    "df_nutriscore.describe()"
   ]
  },
  {
   "cell_type": "markdown",
   "id": "439efe55",
   "metadata": {},
   "source": [
    " "
   ]
  },
  {
   "cell_type": "markdown",
   "id": "31dd2628",
   "metadata": {},
   "source": [
    "Je vérifie que la somme des variables ne dépasse pas 110 (marge pour les arrondis)"
   ]
  },
  {
   "cell_type": "code",
   "execution_count": 47,
   "id": "b16a5287",
   "metadata": {},
   "outputs": [
    {
     "data": {
      "text/html": [
       "<div>\n",
       "<style scoped>\n",
       "    .dataframe tbody tr th:only-of-type {\n",
       "        vertical-align: middle;\n",
       "    }\n",
       "\n",
       "    .dataframe tbody tr th {\n",
       "        vertical-align: top;\n",
       "    }\n",
       "\n",
       "    .dataframe thead th {\n",
       "        text-align: right;\n",
       "    }\n",
       "</style>\n",
       "<table border=\"1\" class=\"dataframe\">\n",
       "  <thead>\n",
       "    <tr style=\"text-align: right;\">\n",
       "      <th></th>\n",
       "      <th>url</th>\n",
       "      <th>product_name</th>\n",
       "      <th>pnns_groups_2</th>\n",
       "      <th>main_category_fr</th>\n",
       "      <th>energy_100g</th>\n",
       "      <th>sugars_100g</th>\n",
       "      <th>fat_100g</th>\n",
       "      <th>saturated-fat_100g</th>\n",
       "      <th>sodium_100g</th>\n",
       "      <th>fruits-vegetables-nuts_100g</th>\n",
       "      <th>fiber_100g</th>\n",
       "      <th>proteins_100g</th>\n",
       "      <th>nutrition-score-fr_100g</th>\n",
       "      <th>nutrition_grade_fr</th>\n",
       "    </tr>\n",
       "  </thead>\n",
       "  <tbody>\n",
       "    <tr>\n",
       "      <th>878</th>\n",
       "      <td>http://world-fr.openfoodfacts.org/produit/0008...</td>\n",
       "      <td>All Natural Chocolate Raisins</td>\n",
       "      <td>NaN</td>\n",
       "      <td>NaN</td>\n",
       "      <td>1795.0</td>\n",
       "      <td>64.29</td>\n",
       "      <td>19.05</td>\n",
       "      <td>10.71</td>\n",
       "      <td>0.024000</td>\n",
       "      <td>NaN</td>\n",
       "      <td>2.4</td>\n",
       "      <td>50.00</td>\n",
       "      <td>22.0</td>\n",
       "      <td>e</td>\n",
       "    </tr>\n",
       "    <tr>\n",
       "      <th>1035</th>\n",
       "      <td>http://world-fr.openfoodfacts.org/produit/0009...</td>\n",
       "      <td>Jamaican Jerk Seasoning</td>\n",
       "      <td>NaN</td>\n",
       "      <td>NaN</td>\n",
       "      <td>1674.0</td>\n",
       "      <td>60.00</td>\n",
       "      <td>0.00</td>\n",
       "      <td>0.00</td>\n",
       "      <td>4.200000</td>\n",
       "      <td>NaN</td>\n",
       "      <td>60.0</td>\n",
       "      <td>0.00</td>\n",
       "      <td>19.0</td>\n",
       "      <td>e</td>\n",
       "    </tr>\n",
       "    <tr>\n",
       "      <th>8707</th>\n",
       "      <td>http://world-fr.openfoodfacts.org/produit/0011...</td>\n",
       "      <td>Chocolate Peanut Clusters</td>\n",
       "      <td>NaN</td>\n",
       "      <td>NaN</td>\n",
       "      <td>2987.0</td>\n",
       "      <td>45.24</td>\n",
       "      <td>50.00</td>\n",
       "      <td>14.29</td>\n",
       "      <td>0.083000</td>\n",
       "      <td>NaN</td>\n",
       "      <td>4.8</td>\n",
       "      <td>19.05</td>\n",
       "      <td>23.0</td>\n",
       "      <td>e</td>\n",
       "    </tr>\n",
       "    <tr>\n",
       "      <th>9250</th>\n",
       "      <td>http://world-fr.openfoodfacts.org/produit/0011...</td>\n",
       "      <td>Holiday Happiness Mix</td>\n",
       "      <td>NaN</td>\n",
       "      <td>NaN</td>\n",
       "      <td>2092.0</td>\n",
       "      <td>100.00</td>\n",
       "      <td>12.50</td>\n",
       "      <td>0.00</td>\n",
       "      <td>0.000000</td>\n",
       "      <td>NaN</td>\n",
       "      <td>0.0</td>\n",
       "      <td>0.00</td>\n",
       "      <td>16.0</td>\n",
       "      <td>d</td>\n",
       "    </tr>\n",
       "    <tr>\n",
       "      <th>9251</th>\n",
       "      <td>http://world-fr.openfoodfacts.org/produit/0011...</td>\n",
       "      <td>Princess Mix Decorations</td>\n",
       "      <td>NaN</td>\n",
       "      <td>NaN</td>\n",
       "      <td>2092.0</td>\n",
       "      <td>100.00</td>\n",
       "      <td>25.00</td>\n",
       "      <td>0.00</td>\n",
       "      <td>0.000000</td>\n",
       "      <td>NaN</td>\n",
       "      <td>0.0</td>\n",
       "      <td>0.00</td>\n",
       "      <td>16.0</td>\n",
       "      <td>d</td>\n",
       "    </tr>\n",
       "    <tr>\n",
       "      <th>...</th>\n",
       "      <td>...</td>\n",
       "      <td>...</td>\n",
       "      <td>...</td>\n",
       "      <td>...</td>\n",
       "      <td>...</td>\n",
       "      <td>...</td>\n",
       "      <td>...</td>\n",
       "      <td>...</td>\n",
       "      <td>...</td>\n",
       "      <td>...</td>\n",
       "      <td>...</td>\n",
       "      <td>...</td>\n",
       "      <td>...</td>\n",
       "      <td>...</td>\n",
       "    </tr>\n",
       "    <tr>\n",
       "      <th>313038</th>\n",
       "      <td>http://world-fr.openfoodfacts.org/produit/8696...</td>\n",
       "      <td>Kürbiskerne Geröstet Göral</td>\n",
       "      <td>NaN</td>\n",
       "      <td>NaN</td>\n",
       "      <td>2293.0</td>\n",
       "      <td>24.00</td>\n",
       "      <td>39.00</td>\n",
       "      <td>39.00</td>\n",
       "      <td>1.968504</td>\n",
       "      <td>NaN</td>\n",
       "      <td>30.0</td>\n",
       "      <td>25.00</td>\n",
       "      <td>26.0</td>\n",
       "      <td>e</td>\n",
       "    </tr>\n",
       "    <tr>\n",
       "      <th>313083</th>\n",
       "      <td>http://world-fr.openfoodfacts.org/produit/8700...</td>\n",
       "      <td>Tartinade de cacao et Noix de coco crue</td>\n",
       "      <td>NaN</td>\n",
       "      <td>Tartinade</td>\n",
       "      <td>2480.0</td>\n",
       "      <td>6.25</td>\n",
       "      <td>59.40</td>\n",
       "      <td>50.00</td>\n",
       "      <td>31.200000</td>\n",
       "      <td>NaN</td>\n",
       "      <td>15.6</td>\n",
       "      <td>6.25</td>\n",
       "      <td>23.0</td>\n",
       "      <td>e</td>\n",
       "    </tr>\n",
       "    <tr>\n",
       "      <th>315746</th>\n",
       "      <td>http://world-fr.openfoodfacts.org/produit/8718...</td>\n",
       "      <td>SIROP SUCRE DE COCO</td>\n",
       "      <td>NaN</td>\n",
       "      <td>NaN</td>\n",
       "      <td>1632.0</td>\n",
       "      <td>95.50</td>\n",
       "      <td>NaN</td>\n",
       "      <td>0.00</td>\n",
       "      <td>0.708661</td>\n",
       "      <td>NaN</td>\n",
       "      <td>0.8</td>\n",
       "      <td>17.00</td>\n",
       "      <td>20.0</td>\n",
       "      <td>e</td>\n",
       "    </tr>\n",
       "    <tr>\n",
       "      <th>316493</th>\n",
       "      <td>http://world-fr.openfoodfacts.org/produit/8809...</td>\n",
       "      <td>Seaweed Snack</td>\n",
       "      <td>NaN</td>\n",
       "      <td>NaN</td>\n",
       "      <td>2510.0</td>\n",
       "      <td>0.00</td>\n",
       "      <td>32.00</td>\n",
       "      <td>0.00</td>\n",
       "      <td>1.500000</td>\n",
       "      <td>NaN</td>\n",
       "      <td>40.0</td>\n",
       "      <td>40.00</td>\n",
       "      <td>12.0</td>\n",
       "      <td>d</td>\n",
       "    </tr>\n",
       "    <tr>\n",
       "      <th>317748</th>\n",
       "      <td>http://world-fr.openfoodfacts.org/produit/8993...</td>\n",
       "      <td>Sambal Kecap Sweet Soy Chili Sauce, Hot</td>\n",
       "      <td>NaN</td>\n",
       "      <td>NaN</td>\n",
       "      <td>1674.0</td>\n",
       "      <td>80.00</td>\n",
       "      <td>30.00</td>\n",
       "      <td>0.00</td>\n",
       "      <td>1.470000</td>\n",
       "      <td>NaN</td>\n",
       "      <td>30.0</td>\n",
       "      <td>20.00</td>\n",
       "      <td>19.0</td>\n",
       "      <td>e</td>\n",
       "    </tr>\n",
       "  </tbody>\n",
       "</table>\n",
       "<p>226 rows × 14 columns</p>\n",
       "</div>"
      ],
      "text/plain": [
       "                                                      url  \\\n",
       "878     http://world-fr.openfoodfacts.org/produit/0008...   \n",
       "1035    http://world-fr.openfoodfacts.org/produit/0009...   \n",
       "8707    http://world-fr.openfoodfacts.org/produit/0011...   \n",
       "9250    http://world-fr.openfoodfacts.org/produit/0011...   \n",
       "9251    http://world-fr.openfoodfacts.org/produit/0011...   \n",
       "...                                                   ...   \n",
       "313038  http://world-fr.openfoodfacts.org/produit/8696...   \n",
       "313083  http://world-fr.openfoodfacts.org/produit/8700...   \n",
       "315746  http://world-fr.openfoodfacts.org/produit/8718...   \n",
       "316493  http://world-fr.openfoodfacts.org/produit/8809...   \n",
       "317748  http://world-fr.openfoodfacts.org/produit/8993...   \n",
       "\n",
       "                                   product_name pnns_groups_2  \\\n",
       "878               All Natural Chocolate Raisins           NaN   \n",
       "1035                    Jamaican Jerk Seasoning           NaN   \n",
       "8707                  Chocolate Peanut Clusters           NaN   \n",
       "9250                      Holiday Happiness Mix           NaN   \n",
       "9251                   Princess Mix Decorations           NaN   \n",
       "...                                         ...           ...   \n",
       "313038               Kürbiskerne Geröstet Göral           NaN   \n",
       "313083  Tartinade de cacao et Noix de coco crue           NaN   \n",
       "315746                      SIROP SUCRE DE COCO           NaN   \n",
       "316493                            Seaweed Snack           NaN   \n",
       "317748  Sambal Kecap Sweet Soy Chili Sauce, Hot           NaN   \n",
       "\n",
       "       main_category_fr  energy_100g  sugars_100g  fat_100g  \\\n",
       "878                 NaN       1795.0        64.29     19.05   \n",
       "1035                NaN       1674.0        60.00      0.00   \n",
       "8707                NaN       2987.0        45.24     50.00   \n",
       "9250                NaN       2092.0       100.00     12.50   \n",
       "9251                NaN       2092.0       100.00     25.00   \n",
       "...                 ...          ...          ...       ...   \n",
       "313038              NaN       2293.0        24.00     39.00   \n",
       "313083        Tartinade       2480.0         6.25     59.40   \n",
       "315746              NaN       1632.0        95.50       NaN   \n",
       "316493              NaN       2510.0         0.00     32.00   \n",
       "317748              NaN       1674.0        80.00     30.00   \n",
       "\n",
       "        saturated-fat_100g  sodium_100g  fruits-vegetables-nuts_100g  \\\n",
       "878                  10.71     0.024000                          NaN   \n",
       "1035                  0.00     4.200000                          NaN   \n",
       "8707                 14.29     0.083000                          NaN   \n",
       "9250                  0.00     0.000000                          NaN   \n",
       "9251                  0.00     0.000000                          NaN   \n",
       "...                    ...          ...                          ...   \n",
       "313038               39.00     1.968504                          NaN   \n",
       "313083               50.00    31.200000                          NaN   \n",
       "315746                0.00     0.708661                          NaN   \n",
       "316493                0.00     1.500000                          NaN   \n",
       "317748                0.00     1.470000                          NaN   \n",
       "\n",
       "        fiber_100g  proteins_100g  nutrition-score-fr_100g nutrition_grade_fr  \n",
       "878            2.4          50.00                     22.0                  e  \n",
       "1035          60.0           0.00                     19.0                  e  \n",
       "8707           4.8          19.05                     23.0                  e  \n",
       "9250           0.0           0.00                     16.0                  d  \n",
       "9251           0.0           0.00                     16.0                  d  \n",
       "...            ...            ...                      ...                ...  \n",
       "313038        30.0          25.00                     26.0                  e  \n",
       "313083        15.6           6.25                     23.0                  e  \n",
       "315746         0.8          17.00                     20.0                  e  \n",
       "316493        40.0          40.00                     12.0                  d  \n",
       "317748        30.0          20.00                     19.0                  e  \n",
       "\n",
       "[226 rows x 14 columns]"
      ]
     },
     "execution_count": 47,
     "metadata": {},
     "output_type": "execute_result"
    }
   ],
   "source": [
    "df_nutriscore.loc[df_nutriscore[['sugars_100g','fat_100g','sodium_100g','fiber_100g','proteins_100g']].sum(axis=1) > 110,:]"
   ]
  },
  {
   "cell_type": "markdown",
   "id": "7f75cb97",
   "metadata": {},
   "source": [
    " "
   ]
  },
  {
   "cell_type": "markdown",
   "id": "8338d69a",
   "metadata": {},
   "source": [
    "Je supprime les lignes avec une somme des nutriments supérieur à 110"
   ]
  },
  {
   "cell_type": "code",
   "execution_count": 48,
   "id": "f3eeadd2",
   "metadata": {},
   "outputs": [],
   "source": [
    "df_nutriscore = df_nutriscore.loc[df_nutriscore[['sugars_100g','fat_100g','sodium_100g','fiber_100g','proteins_100g']].sum(axis=1) < 110,:]"
   ]
  },
  {
   "cell_type": "markdown",
   "id": "ae608256",
   "metadata": {},
   "source": [
    " "
   ]
  },
  {
   "cell_type": "code",
   "execution_count": 49,
   "id": "7a012d60",
   "metadata": {},
   "outputs": [
    {
     "data": {
      "text/plain": [
       "<AxesSubplot:>"
      ]
     },
     "execution_count": 49,
     "metadata": {},
     "output_type": "execute_result"
    },
    {
     "data": {
      "image/png": "[encoded data removed]",
      "text/plain": [
       "<Figure size 640x480 with 1 Axes>"
      ]
     },
     "metadata": {},
     "output_type": "display_data"
    }
   ],
   "source": [
    "sns.boxplot(data = df_nutriscore[liste_valeurs_sans_nrj], orient = 'h')"
   ]
  },
  {
   "cell_type": "code",
   "execution_count": 50,
   "id": "8cc20634",
   "metadata": {},
   "outputs": [
    {
     "data": {
      "text/plain": [
       "<AxesSubplot:>"
      ]
     },
     "execution_count": 50,
     "metadata": {},
     "output_type": "execute_result"
    },
    {
     "data": {
      "image/png": "[encoded data removed]",
      "text/plain": [
       "<Figure size 640x480 with 1 Axes>"
      ]
     },
     "metadata": {},
     "output_type": "display_data"
    }
   ],
   "source": [
    "sns.boxplot(data = [df_nutriscore['energy_100g']], orient = 'h')"
   ]
  },
  {
   "cell_type": "code",
   "execution_count": 51,
   "id": "571ee723",
   "metadata": {},
   "outputs": [
    {
     "data": {
      "image/png": "[encoded data removed]",
      "text/plain": [
       "<Figure size 300x200 with 1 Axes>"
      ]
     },
     "metadata": {},
     "output_type": "display_data"
    },
    {
     "data": {
      "image/png": "[encoded data removed]",
      "text/plain": [
       "<Figure size 300x200 with 1 Axes>"
      ]
     },
     "metadata": {},
     "output_type": "display_data"
    },
    {
     "data": {
      "image/png": "[encoded data removed]",
      "text/plain": [
       "<Figure size 300x200 with 1 Axes>"
      ]
     },
     "metadata": {},
     "output_type": "display_data"
    },
    {
     "data": {
      "image/png": "[encoded data removed]",
      "text/plain": [
       "<Figure size 300x200 with 1 Axes>"
      ]
     },
     "metadata": {},
     "output_type": "display_data"
    },
    {
     "data": {
      "image/png": "[encoded data removed]",
      "text/plain": [
       "<Figure size 300x200 with 1 Axes>"
      ]
     },
     "metadata": {},
     "output_type": "display_data"
    },
    {
     "data": {
      "image/png": "[encoded data removed]",
      "text/plain": [
       "<Figure size 300x200 with 1 Axes>"
      ]
     },
     "metadata": {},
     "output_type": "display_data"
    },
    {
     "data": {
      "image/png": "[encoded data removed]",
      "text/plain": [
       "<Figure size 300x200 with 1 Axes>"
      ]
     },
     "metadata": {},
     "output_type": "display_data"
    },
    {
     "data": {
      "image/png": "[encoded data removed]",
      "text/plain": [
       "<Figure size 300x200 with 1 Axes>"
      ]
     },
     "metadata": {},
     "output_type": "display_data"
    },
    {
     "data": {
      "image/png": "[encoded data removed]",
      "text/plain": [
       "<Figure size 300x200 with 1 Axes>"
      ]
     },
     "metadata": {},
     "output_type": "display_data"
    },
    {
     "data": {
      "image/png": "[encoded data removed]",
      "text/plain": [
       "<Figure size 300x200 with 1 Axes>"
      ]
     },
     "metadata": {},
     "output_type": "display_data"
    }
   ],
   "source": [
    "# distribution des variables\n",
    "\n",
    "for c in liste_variables :\n",
    "    plt.figure(figsize = (3,2))\n",
    "    df_nutriscore[c].hist(density=True)\n",
    "    plt.title(c)\n",
    "    plt.show()"
   ]
  },
  {
   "cell_type": "code",
   "execution_count": null,
   "id": "716bf259",
   "metadata": {},
   "outputs": [],
   "source": []
  },
  {
   "cell_type": "code",
   "execution_count": 52,
   "id": "c8f5f22a",
   "metadata": {},
   "outputs": [
    {
     "data": {
      "text/html": [
       "<div>\n",
       "<style scoped>\n",
       "    .dataframe tbody tr th:only-of-type {\n",
       "        vertical-align: middle;\n",
       "    }\n",
       "\n",
       "    .dataframe tbody tr th {\n",
       "        vertical-align: top;\n",
       "    }\n",
       "\n",
       "    .dataframe thead th {\n",
       "        text-align: right;\n",
       "    }\n",
       "</style>\n",
       "<table border=\"1\" class=\"dataframe\">\n",
       "  <thead>\n",
       "    <tr style=\"text-align: right;\">\n",
       "      <th></th>\n",
       "      <th>url</th>\n",
       "      <th>product_name</th>\n",
       "      <th>pnns_groups_2</th>\n",
       "      <th>main_category_fr</th>\n",
       "      <th>energy_100g</th>\n",
       "      <th>sugars_100g</th>\n",
       "      <th>fat_100g</th>\n",
       "      <th>saturated-fat_100g</th>\n",
       "      <th>sodium_100g</th>\n",
       "      <th>fruits-vegetables-nuts_100g</th>\n",
       "      <th>fiber_100g</th>\n",
       "      <th>proteins_100g</th>\n",
       "      <th>nutrition-score-fr_100g</th>\n",
       "      <th>nutrition_grade_fr</th>\n",
       "    </tr>\n",
       "  </thead>\n",
       "  <tbody>\n",
       "    <tr>\n",
       "      <th>134653</th>\n",
       "      <td>http://world-fr.openfoodfacts.org/produit/0722...</td>\n",
       "      <td>Seasoned Grilled Chicken Breast</td>\n",
       "      <td>NaN</td>\n",
       "      <td>NaN</td>\n",
       "      <td>523.0</td>\n",
       "      <td>0.0</td>\n",
       "      <td>3.12</td>\n",
       "      <td>0.52</td>\n",
       "      <td>0.302000</td>\n",
       "      <td>NaN</td>\n",
       "      <td>0.0</td>\n",
       "      <td>23.96</td>\n",
       "      <td>-1.0</td>\n",
       "      <td>a</td>\n",
       "    </tr>\n",
       "    <tr>\n",
       "      <th>184303</th>\n",
       "      <td>http://world-fr.openfoodfacts.org/produit/2600...</td>\n",
       "      <td>Aiguillettes De Poulet</td>\n",
       "      <td>NaN</td>\n",
       "      <td>NaN</td>\n",
       "      <td>460.0</td>\n",
       "      <td>0.5</td>\n",
       "      <td>NaN</td>\n",
       "      <td>0.40</td>\n",
       "      <td>0.039370</td>\n",
       "      <td>NaN</td>\n",
       "      <td>0.0</td>\n",
       "      <td>24.00</td>\n",
       "      <td>-4.0</td>\n",
       "      <td>a</td>\n",
       "    </tr>\n",
       "    <tr>\n",
       "      <th>202052</th>\n",
       "      <td>http://world-fr.openfoodfacts.org/produit/3228...</td>\n",
       "      <td>Chaussée aux Moines 17% Mg</td>\n",
       "      <td>Cheese</td>\n",
       "      <td>Fromages</td>\n",
       "      <td>1059.0</td>\n",
       "      <td>0.0</td>\n",
       "      <td>17.00</td>\n",
       "      <td>12.00</td>\n",
       "      <td>0.688976</td>\n",
       "      <td>NaN</td>\n",
       "      <td>NaN</td>\n",
       "      <td>24.00</td>\n",
       "      <td>15.0</td>\n",
       "      <td>d</td>\n",
       "    </tr>\n",
       "    <tr>\n",
       "      <th>202053</th>\n",
       "      <td>http://world-fr.openfoodfacts.org/produit/3228...</td>\n",
       "      <td>Mimolette à Croquer</td>\n",
       "      <td>Cheese</td>\n",
       "      <td>Fromages de France</td>\n",
       "      <td>1407.0</td>\n",
       "      <td>0.0</td>\n",
       "      <td>27.00</td>\n",
       "      <td>19.00</td>\n",
       "      <td>0.511811</td>\n",
       "      <td>NaN</td>\n",
       "      <td>NaN</td>\n",
       "      <td>24.00</td>\n",
       "      <td>14.0</td>\n",
       "      <td>d</td>\n",
       "    </tr>\n",
       "    <tr>\n",
       "      <th>202772</th>\n",
       "      <td>http://world-fr.openfoodfacts.org/produit/3230...</td>\n",
       "      <td>Gésiers de Canard maigre lentement cuisinés en...</td>\n",
       "      <td>Appetizers</td>\n",
       "      <td>Frais</td>\n",
       "      <td>632.0</td>\n",
       "      <td>0.0</td>\n",
       "      <td>5.70</td>\n",
       "      <td>1.30</td>\n",
       "      <td>0.645669</td>\n",
       "      <td>NaN</td>\n",
       "      <td>0.0</td>\n",
       "      <td>24.00</td>\n",
       "      <td>4.0</td>\n",
       "      <td>c</td>\n",
       "    </tr>\n",
       "    <tr>\n",
       "      <th>...</th>\n",
       "      <td>...</td>\n",
       "      <td>...</td>\n",
       "      <td>...</td>\n",
       "      <td>...</td>\n",
       "      <td>...</td>\n",
       "      <td>...</td>\n",
       "      <td>...</td>\n",
       "      <td>...</td>\n",
       "      <td>...</td>\n",
       "      <td>...</td>\n",
       "      <td>...</td>\n",
       "      <td>...</td>\n",
       "      <td>...</td>\n",
       "      <td>...</td>\n",
       "    </tr>\n",
       "    <tr>\n",
       "      <th>2867</th>\n",
       "      <td>http://world-fr.openfoodfacts.org/produit/0011...</td>\n",
       "      <td>Unflavored Gelatin</td>\n",
       "      <td>NaN</td>\n",
       "      <td>NaN</td>\n",
       "      <td>1795.0</td>\n",
       "      <td>0.0</td>\n",
       "      <td>0.00</td>\n",
       "      <td>NaN</td>\n",
       "      <td>0.000000</td>\n",
       "      <td>NaN</td>\n",
       "      <td>NaN</td>\n",
       "      <td>100.00</td>\n",
       "      <td>NaN</td>\n",
       "      <td>NaN</td>\n",
       "    </tr>\n",
       "    <tr>\n",
       "      <th>90111</th>\n",
       "      <td>http://world-fr.openfoodfacts.org/produit/0075...</td>\n",
       "      <td>Garlic Powder</td>\n",
       "      <td>NaN</td>\n",
       "      <td>NaN</td>\n",
       "      <td>0.0</td>\n",
       "      <td>NaN</td>\n",
       "      <td>0.00</td>\n",
       "      <td>0.00</td>\n",
       "      <td>0.000000</td>\n",
       "      <td>NaN</td>\n",
       "      <td>NaN</td>\n",
       "      <td>100.00</td>\n",
       "      <td>NaN</td>\n",
       "      <td>NaN</td>\n",
       "    </tr>\n",
       "    <tr>\n",
       "      <th>71066</th>\n",
       "      <td>http://world-fr.openfoodfacts.org/produit/0070...</td>\n",
       "      <td>Unflavored Gelatin</td>\n",
       "      <td>NaN</td>\n",
       "      <td>NaN</td>\n",
       "      <td>1795.0</td>\n",
       "      <td>0.0</td>\n",
       "      <td>0.00</td>\n",
       "      <td>0.00</td>\n",
       "      <td>0.143000</td>\n",
       "      <td>NaN</td>\n",
       "      <td>NaN</td>\n",
       "      <td>100.00</td>\n",
       "      <td>1.0</td>\n",
       "      <td>b</td>\n",
       "    </tr>\n",
       "    <tr>\n",
       "      <th>41035</th>\n",
       "      <td>http://world-fr.openfoodfacts.org/produit/0041...</td>\n",
       "      <td>Gelatin</td>\n",
       "      <td>NaN</td>\n",
       "      <td>NaN</td>\n",
       "      <td>1795.0</td>\n",
       "      <td>NaN</td>\n",
       "      <td>0.00</td>\n",
       "      <td>NaN</td>\n",
       "      <td>0.143000</td>\n",
       "      <td>NaN</td>\n",
       "      <td>NaN</td>\n",
       "      <td>100.00</td>\n",
       "      <td>NaN</td>\n",
       "      <td>NaN</td>\n",
       "    </tr>\n",
       "    <tr>\n",
       "      <th>41034</th>\n",
       "      <td>http://world-fr.openfoodfacts.org/produit/0041...</td>\n",
       "      <td>Unflavored Gelatin</td>\n",
       "      <td>NaN</td>\n",
       "      <td>NaN</td>\n",
       "      <td>1795.0</td>\n",
       "      <td>0.0</td>\n",
       "      <td>0.00</td>\n",
       "      <td>0.00</td>\n",
       "      <td>0.143000</td>\n",
       "      <td>NaN</td>\n",
       "      <td>0.0</td>\n",
       "      <td>100.00</td>\n",
       "      <td>1.0</td>\n",
       "      <td>b</td>\n",
       "    </tr>\n",
       "  </tbody>\n",
       "</table>\n",
       "<p>12479 rows × 14 columns</p>\n",
       "</div>"
      ],
      "text/plain": [
       "                                                      url  \\\n",
       "134653  http://world-fr.openfoodfacts.org/produit/0722...   \n",
       "184303  http://world-fr.openfoodfacts.org/produit/2600...   \n",
       "202052  http://world-fr.openfoodfacts.org/produit/3228...   \n",
       "202053  http://world-fr.openfoodfacts.org/produit/3228...   \n",
       "202772  http://world-fr.openfoodfacts.org/produit/3230...   \n",
       "...                                                   ...   \n",
       "2867    http://world-fr.openfoodfacts.org/produit/0011...   \n",
       "90111   http://world-fr.openfoodfacts.org/produit/0075...   \n",
       "71066   http://world-fr.openfoodfacts.org/produit/0070...   \n",
       "41035   http://world-fr.openfoodfacts.org/produit/0041...   \n",
       "41034   http://world-fr.openfoodfacts.org/produit/0041...   \n",
       "\n",
       "                                             product_name pnns_groups_2  \\\n",
       "134653                    Seasoned Grilled Chicken Breast           NaN   \n",
       "184303                             Aiguillettes De Poulet           NaN   \n",
       "202052                         Chaussée aux Moines 17% Mg        Cheese   \n",
       "202053                                Mimolette à Croquer        Cheese   \n",
       "202772  Gésiers de Canard maigre lentement cuisinés en...    Appetizers   \n",
       "...                                                   ...           ...   \n",
       "2867                                   Unflavored Gelatin           NaN   \n",
       "90111                                       Garlic Powder           NaN   \n",
       "71066                                  Unflavored Gelatin           NaN   \n",
       "41035                                             Gelatin           NaN   \n",
       "41034                                  Unflavored Gelatin           NaN   \n",
       "\n",
       "          main_category_fr  energy_100g  sugars_100g  fat_100g  \\\n",
       "134653                 NaN        523.0          0.0      3.12   \n",
       "184303                 NaN        460.0          0.5       NaN   \n",
       "202052            Fromages       1059.0          0.0     17.00   \n",
       "202053  Fromages de France       1407.0          0.0     27.00   \n",
       "202772               Frais        632.0          0.0      5.70   \n",
       "...                    ...          ...          ...       ...   \n",
       "2867                   NaN       1795.0          0.0      0.00   \n",
       "90111                  NaN          0.0          NaN      0.00   \n",
       "71066                  NaN       1795.0          0.0      0.00   \n",
       "41035                  NaN       1795.0          NaN      0.00   \n",
       "41034                  NaN       1795.0          0.0      0.00   \n",
       "\n",
       "        saturated-fat_100g  sodium_100g  fruits-vegetables-nuts_100g  \\\n",
       "134653                0.52     0.302000                          NaN   \n",
       "184303                0.40     0.039370                          NaN   \n",
       "202052               12.00     0.688976                          NaN   \n",
       "202053               19.00     0.511811                          NaN   \n",
       "202772                1.30     0.645669                          NaN   \n",
       "...                    ...          ...                          ...   \n",
       "2867                   NaN     0.000000                          NaN   \n",
       "90111                 0.00     0.000000                          NaN   \n",
       "71066                 0.00     0.143000                          NaN   \n",
       "41035                  NaN     0.143000                          NaN   \n",
       "41034                 0.00     0.143000                          NaN   \n",
       "\n",
       "        fiber_100g  proteins_100g  nutrition-score-fr_100g nutrition_grade_fr  \n",
       "134653         0.0          23.96                     -1.0                  a  \n",
       "184303         0.0          24.00                     -4.0                  a  \n",
       "202052         NaN          24.00                     15.0                  d  \n",
       "202053         NaN          24.00                     14.0                  d  \n",
       "202772         0.0          24.00                      4.0                  c  \n",
       "...            ...            ...                      ...                ...  \n",
       "2867           NaN         100.00                      NaN                NaN  \n",
       "90111          NaN         100.00                      NaN                NaN  \n",
       "71066          NaN         100.00                      1.0                  b  \n",
       "41035          NaN         100.00                      NaN                NaN  \n",
       "41034          0.0         100.00                      1.0                  b  \n",
       "\n",
       "[12479 rows x 14 columns]"
      ]
     },
     "execution_count": 52,
     "metadata": {},
     "output_type": "execute_result"
    }
   ],
   "source": [
    "# méthode interquartile montrée mais non utilisée car pas de distribution normale sur les variables\n",
    "\n",
    "Q1 = np.percentile(df_nutriscore['proteins_100g'].dropna(),25)\n",
    "Q3 = np.percentile(df_nutriscore['proteins_100g'].dropna(),75)\n",
    "df_nutriscore.loc[df_nutriscore['proteins_100g'] > (Q3 + 1.5*(Q3-Q1)),:].sort_values('proteins_100g')"
   ]
  },
  {
   "cell_type": "code",
   "execution_count": null,
   "id": "bc6de62f",
   "metadata": {},
   "outputs": [],
   "source": []
  },
  {
   "cell_type": "markdown",
   "id": "f24bc47a",
   "metadata": {},
   "source": [
    "### Méthode de Tukey\n",
    "Les valeurs aberrantes probables sont inférieures à Q1 - 3IQR ou supérieure à Q3 + 3IQR"
   ]
  },
  {
   "cell_type": "code",
   "execution_count": 53,
   "id": "7992ee18",
   "metadata": {},
   "outputs": [
    {
     "data": {
      "text/html": [
       "<div>\n",
       "<style scoped>\n",
       "    .dataframe tbody tr th:only-of-type {\n",
       "        vertical-align: middle;\n",
       "    }\n",
       "\n",
       "    .dataframe tbody tr th {\n",
       "        vertical-align: top;\n",
       "    }\n",
       "\n",
       "    .dataframe thead th {\n",
       "        text-align: right;\n",
       "    }\n",
       "</style>\n",
       "<table border=\"1\" class=\"dataframe\">\n",
       "  <thead>\n",
       "    <tr style=\"text-align: right;\">\n",
       "      <th></th>\n",
       "      <th>url</th>\n",
       "      <th>product_name</th>\n",
       "      <th>pnns_groups_2</th>\n",
       "      <th>main_category_fr</th>\n",
       "      <th>energy_100g</th>\n",
       "      <th>sugars_100g</th>\n",
       "      <th>fat_100g</th>\n",
       "      <th>saturated-fat_100g</th>\n",
       "      <th>sodium_100g</th>\n",
       "      <th>fruits-vegetables-nuts_100g</th>\n",
       "      <th>fiber_100g</th>\n",
       "      <th>proteins_100g</th>\n",
       "      <th>nutrition-score-fr_100g</th>\n",
       "      <th>nutrition_grade_fr</th>\n",
       "    </tr>\n",
       "  </thead>\n",
       "  <tbody>\n",
       "    <tr>\n",
       "      <th>230763</th>\n",
       "      <td>http://world-fr.openfoodfacts.org/produit/3396...</td>\n",
       "      <td>VIANDE DES GRISONS</td>\n",
       "      <td>NaN</td>\n",
       "      <td>NaN</td>\n",
       "      <td>787.0</td>\n",
       "      <td>0.5</td>\n",
       "      <td>NaN</td>\n",
       "      <td>1.5</td>\n",
       "      <td>1.889764</td>\n",
       "      <td>NaN</td>\n",
       "      <td>0.0</td>\n",
       "      <td>38.0</td>\n",
       "      <td>13.0</td>\n",
       "      <td>d</td>\n",
       "    </tr>\n",
       "    <tr>\n",
       "      <th>141056</th>\n",
       "      <td>http://world-fr.openfoodfacts.org/produit/0749...</td>\n",
       "      <td>Protein Bar</td>\n",
       "      <td>NaN</td>\n",
       "      <td>NaN</td>\n",
       "      <td>1674.0</td>\n",
       "      <td>6.0</td>\n",
       "      <td>10.0</td>\n",
       "      <td>8.0</td>\n",
       "      <td>0.420000</td>\n",
       "      <td>NaN</td>\n",
       "      <td>0.0</td>\n",
       "      <td>38.0</td>\n",
       "      <td>16.0</td>\n",
       "      <td>d</td>\n",
       "    </tr>\n",
       "    <tr>\n",
       "      <th>297462</th>\n",
       "      <td>http://world-fr.openfoodfacts.org/produit/7617...</td>\n",
       "      <td>Viande des Grisons</td>\n",
       "      <td>NaN</td>\n",
       "      <td>NaN</td>\n",
       "      <td>791.0</td>\n",
       "      <td>0.5</td>\n",
       "      <td>3.5</td>\n",
       "      <td>1.5</td>\n",
       "      <td>1.889764</td>\n",
       "      <td>NaN</td>\n",
       "      <td>0.5</td>\n",
       "      <td>38.0</td>\n",
       "      <td>13.0</td>\n",
       "      <td>d</td>\n",
       "    </tr>\n",
       "    <tr>\n",
       "      <th>141038</th>\n",
       "      <td>http://world-fr.openfoodfacts.org/produit/0749...</td>\n",
       "      <td>Protein Bar</td>\n",
       "      <td>NaN</td>\n",
       "      <td>NaN</td>\n",
       "      <td>1674.0</td>\n",
       "      <td>6.0</td>\n",
       "      <td>10.0</td>\n",
       "      <td>8.0</td>\n",
       "      <td>0.420000</td>\n",
       "      <td>NaN</td>\n",
       "      <td>0.0</td>\n",
       "      <td>38.0</td>\n",
       "      <td>16.0</td>\n",
       "      <td>d</td>\n",
       "    </tr>\n",
       "    <tr>\n",
       "      <th>141037</th>\n",
       "      <td>http://world-fr.openfoodfacts.org/produit/0749...</td>\n",
       "      <td>Bar</td>\n",
       "      <td>NaN</td>\n",
       "      <td>NaN</td>\n",
       "      <td>1674.0</td>\n",
       "      <td>6.0</td>\n",
       "      <td>10.0</td>\n",
       "      <td>8.0</td>\n",
       "      <td>0.420000</td>\n",
       "      <td>NaN</td>\n",
       "      <td>0.0</td>\n",
       "      <td>38.0</td>\n",
       "      <td>16.0</td>\n",
       "      <td>d</td>\n",
       "    </tr>\n",
       "    <tr>\n",
       "      <th>...</th>\n",
       "      <td>...</td>\n",
       "      <td>...</td>\n",
       "      <td>...</td>\n",
       "      <td>...</td>\n",
       "      <td>...</td>\n",
       "      <td>...</td>\n",
       "      <td>...</td>\n",
       "      <td>...</td>\n",
       "      <td>...</td>\n",
       "      <td>...</td>\n",
       "      <td>...</td>\n",
       "      <td>...</td>\n",
       "      <td>...</td>\n",
       "      <td>...</td>\n",
       "    </tr>\n",
       "    <tr>\n",
       "      <th>41034</th>\n",
       "      <td>http://world-fr.openfoodfacts.org/produit/0041...</td>\n",
       "      <td>Unflavored Gelatin</td>\n",
       "      <td>NaN</td>\n",
       "      <td>NaN</td>\n",
       "      <td>1795.0</td>\n",
       "      <td>0.0</td>\n",
       "      <td>0.0</td>\n",
       "      <td>0.0</td>\n",
       "      <td>0.143000</td>\n",
       "      <td>NaN</td>\n",
       "      <td>0.0</td>\n",
       "      <td>100.0</td>\n",
       "      <td>1.0</td>\n",
       "      <td>b</td>\n",
       "    </tr>\n",
       "    <tr>\n",
       "      <th>2867</th>\n",
       "      <td>http://world-fr.openfoodfacts.org/produit/0011...</td>\n",
       "      <td>Unflavored Gelatin</td>\n",
       "      <td>NaN</td>\n",
       "      <td>NaN</td>\n",
       "      <td>1795.0</td>\n",
       "      <td>0.0</td>\n",
       "      <td>0.0</td>\n",
       "      <td>NaN</td>\n",
       "      <td>0.000000</td>\n",
       "      <td>NaN</td>\n",
       "      <td>NaN</td>\n",
       "      <td>100.0</td>\n",
       "      <td>NaN</td>\n",
       "      <td>NaN</td>\n",
       "    </tr>\n",
       "    <tr>\n",
       "      <th>41035</th>\n",
       "      <td>http://world-fr.openfoodfacts.org/produit/0041...</td>\n",
       "      <td>Gelatin</td>\n",
       "      <td>NaN</td>\n",
       "      <td>NaN</td>\n",
       "      <td>1795.0</td>\n",
       "      <td>NaN</td>\n",
       "      <td>0.0</td>\n",
       "      <td>NaN</td>\n",
       "      <td>0.143000</td>\n",
       "      <td>NaN</td>\n",
       "      <td>NaN</td>\n",
       "      <td>100.0</td>\n",
       "      <td>NaN</td>\n",
       "      <td>NaN</td>\n",
       "    </tr>\n",
       "    <tr>\n",
       "      <th>71066</th>\n",
       "      <td>http://world-fr.openfoodfacts.org/produit/0070...</td>\n",
       "      <td>Unflavored Gelatin</td>\n",
       "      <td>NaN</td>\n",
       "      <td>NaN</td>\n",
       "      <td>1795.0</td>\n",
       "      <td>0.0</td>\n",
       "      <td>0.0</td>\n",
       "      <td>0.0</td>\n",
       "      <td>0.143000</td>\n",
       "      <td>NaN</td>\n",
       "      <td>NaN</td>\n",
       "      <td>100.0</td>\n",
       "      <td>1.0</td>\n",
       "      <td>b</td>\n",
       "    </tr>\n",
       "    <tr>\n",
       "      <th>90111</th>\n",
       "      <td>http://world-fr.openfoodfacts.org/produit/0075...</td>\n",
       "      <td>Garlic Powder</td>\n",
       "      <td>NaN</td>\n",
       "      <td>NaN</td>\n",
       "      <td>0.0</td>\n",
       "      <td>NaN</td>\n",
       "      <td>0.0</td>\n",
       "      <td>0.0</td>\n",
       "      <td>0.000000</td>\n",
       "      <td>NaN</td>\n",
       "      <td>NaN</td>\n",
       "      <td>100.0</td>\n",
       "      <td>NaN</td>\n",
       "      <td>NaN</td>\n",
       "    </tr>\n",
       "  </tbody>\n",
       "</table>\n",
       "<p>1753 rows × 14 columns</p>\n",
       "</div>"
      ],
      "text/plain": [
       "                                                      url        product_name  \\\n",
       "230763  http://world-fr.openfoodfacts.org/produit/3396...  VIANDE DES GRISONS   \n",
       "141056  http://world-fr.openfoodfacts.org/produit/0749...         Protein Bar   \n",
       "297462  http://world-fr.openfoodfacts.org/produit/7617...  Viande des Grisons   \n",
       "141038  http://world-fr.openfoodfacts.org/produit/0749...         Protein Bar   \n",
       "141037  http://world-fr.openfoodfacts.org/produit/0749...                 Bar   \n",
       "...                                                   ...                 ...   \n",
       "41034   http://world-fr.openfoodfacts.org/produit/0041...  Unflavored Gelatin   \n",
       "2867    http://world-fr.openfoodfacts.org/produit/0011...  Unflavored Gelatin   \n",
       "41035   http://world-fr.openfoodfacts.org/produit/0041...             Gelatin   \n",
       "71066   http://world-fr.openfoodfacts.org/produit/0070...  Unflavored Gelatin   \n",
       "90111   http://world-fr.openfoodfacts.org/produit/0075...       Garlic Powder   \n",
       "\n",
       "       pnns_groups_2 main_category_fr  energy_100g  sugars_100g  fat_100g  \\\n",
       "230763           NaN              NaN        787.0          0.5       NaN   \n",
       "141056           NaN              NaN       1674.0          6.0      10.0   \n",
       "297462           NaN              NaN        791.0          0.5       3.5   \n",
       "141038           NaN              NaN       1674.0          6.0      10.0   \n",
       "141037           NaN              NaN       1674.0          6.0      10.0   \n",
       "...              ...              ...          ...          ...       ...   \n",
       "41034            NaN              NaN       1795.0          0.0       0.0   \n",
       "2867             NaN              NaN       1795.0          0.0       0.0   \n",
       "41035            NaN              NaN       1795.0          NaN       0.0   \n",
       "71066            NaN              NaN       1795.0          0.0       0.0   \n",
       "90111            NaN              NaN          0.0          NaN       0.0   \n",
       "\n",
       "        saturated-fat_100g  sodium_100g  fruits-vegetables-nuts_100g  \\\n",
       "230763                 1.5     1.889764                          NaN   \n",
       "141056                 8.0     0.420000                          NaN   \n",
       "297462                 1.5     1.889764                          NaN   \n",
       "141038                 8.0     0.420000                          NaN   \n",
       "141037                 8.0     0.420000                          NaN   \n",
       "...                    ...          ...                          ...   \n",
       "41034                  0.0     0.143000                          NaN   \n",
       "2867                   NaN     0.000000                          NaN   \n",
       "41035                  NaN     0.143000                          NaN   \n",
       "71066                  0.0     0.143000                          NaN   \n",
       "90111                  0.0     0.000000                          NaN   \n",
       "\n",
       "        fiber_100g  proteins_100g  nutrition-score-fr_100g nutrition_grade_fr  \n",
       "230763         0.0           38.0                     13.0                  d  \n",
       "141056         0.0           38.0                     16.0                  d  \n",
       "297462         0.5           38.0                     13.0                  d  \n",
       "141038         0.0           38.0                     16.0                  d  \n",
       "141037         0.0           38.0                     16.0                  d  \n",
       "...            ...            ...                      ...                ...  \n",
       "41034          0.0          100.0                      1.0                  b  \n",
       "2867           NaN          100.0                      NaN                NaN  \n",
       "41035          NaN          100.0                      NaN                NaN  \n",
       "71066          NaN          100.0                      1.0                  b  \n",
       "90111          NaN          100.0                      NaN                NaN  \n",
       "\n",
       "[1753 rows x 14 columns]"
      ]
     },
     "execution_count": 53,
     "metadata": {},
     "output_type": "execute_result"
    }
   ],
   "source": [
    "# Protéines :\n",
    "Q1 = np.percentile(df_nutriscore['proteins_100g'].dropna(),25)\n",
    "Q3 = np.percentile(df_nutriscore['proteins_100g'].dropna(),75)\n",
    "df_nutriscore.loc[df_nutriscore['proteins_100g'] > (Q3 + 3*(Q3-Q1)),:].sort_values('proteins_100g')"
   ]
  },
  {
   "cell_type": "markdown",
   "id": "21562732",
   "metadata": {},
   "source": [
    "Je supprime les lignes en conservant celles qui appartiennent à 'Meat' et à 'Processed meat'"
   ]
  },
  {
   "cell_type": "code",
   "execution_count": 54,
   "id": "65417049",
   "metadata": {},
   "outputs": [],
   "source": [
    "df_nutriscore = df_nutriscore.loc[(df_nutriscore['proteins_100g'] < (Q3 + 3*(Q3-Q1))) | (df_nutriscore['pnns_groups_2'].isin(['Meat','Processed meat'])),:]"
   ]
  },
  {
   "cell_type": "markdown",
   "id": "a578384b",
   "metadata": {},
   "source": [
    " "
   ]
  },
  {
   "cell_type": "code",
   "execution_count": 55,
   "id": "541c632a",
   "metadata": {},
   "outputs": [
    {
     "data": {
      "text/html": [
       "<div>\n",
       "<style scoped>\n",
       "    .dataframe tbody tr th:only-of-type {\n",
       "        vertical-align: middle;\n",
       "    }\n",
       "\n",
       "    .dataframe tbody tr th {\n",
       "        vertical-align: top;\n",
       "    }\n",
       "\n",
       "    .dataframe thead th {\n",
       "        text-align: right;\n",
       "    }\n",
       "</style>\n",
       "<table border=\"1\" class=\"dataframe\">\n",
       "  <thead>\n",
       "    <tr style=\"text-align: right;\">\n",
       "      <th></th>\n",
       "      <th>url</th>\n",
       "      <th>product_name</th>\n",
       "      <th>pnns_groups_2</th>\n",
       "      <th>main_category_fr</th>\n",
       "      <th>energy_100g</th>\n",
       "      <th>sugars_100g</th>\n",
       "      <th>fat_100g</th>\n",
       "      <th>saturated-fat_100g</th>\n",
       "      <th>sodium_100g</th>\n",
       "      <th>fruits-vegetables-nuts_100g</th>\n",
       "      <th>fiber_100g</th>\n",
       "      <th>proteins_100g</th>\n",
       "      <th>nutrition-score-fr_100g</th>\n",
       "      <th>nutrition_grade_fr</th>\n",
       "    </tr>\n",
       "  </thead>\n",
       "  <tbody>\n",
       "    <tr>\n",
       "      <th>243925</th>\n",
       "      <td>http://world-fr.openfoodfacts.org/produit/3571...</td>\n",
       "      <td>Gateau Amandes Et Chocolat</td>\n",
       "      <td>NaN</td>\n",
       "      <td>NaN</td>\n",
       "      <td>NaN</td>\n",
       "      <td>44.00</td>\n",
       "      <td>NaN</td>\n",
       "      <td>16.50</td>\n",
       "      <td>0.098425</td>\n",
       "      <td>NaN</td>\n",
       "      <td>14.5</td>\n",
       "      <td>25.00</td>\n",
       "      <td>25.0</td>\n",
       "      <td>e</td>\n",
       "    </tr>\n",
       "    <tr>\n",
       "      <th>229847</th>\n",
       "      <td>http://world-fr.openfoodfacts.org/produit/3380...</td>\n",
       "      <td>Farines De Sarrasin</td>\n",
       "      <td>NaN</td>\n",
       "      <td>NaN</td>\n",
       "      <td>1448.0</td>\n",
       "      <td>0.80</td>\n",
       "      <td>NaN</td>\n",
       "      <td>0.70</td>\n",
       "      <td>0.003937</td>\n",
       "      <td>NaN</td>\n",
       "      <td>14.5</td>\n",
       "      <td>13.80</td>\n",
       "      <td>-6.0</td>\n",
       "      <td>a</td>\n",
       "    </tr>\n",
       "    <tr>\n",
       "      <th>217928</th>\n",
       "      <td>http://world-fr.openfoodfacts.org/produit/3266...</td>\n",
       "      <td>Muesli</td>\n",
       "      <td>Breakfast cereals</td>\n",
       "      <td>Petit-déjeuners</td>\n",
       "      <td>1544.0</td>\n",
       "      <td>9.60</td>\n",
       "      <td>NaN</td>\n",
       "      <td>0.70</td>\n",
       "      <td>0.011811</td>\n",
       "      <td>NaN</td>\n",
       "      <td>14.5</td>\n",
       "      <td>9.10</td>\n",
       "      <td>-4.0</td>\n",
       "      <td>a</td>\n",
       "    </tr>\n",
       "    <tr>\n",
       "      <th>66510</th>\n",
       "      <td>http://world-fr.openfoodfacts.org/produit/0058...</td>\n",
       "      <td>Flax Plus, Raisin Bran Cereal</td>\n",
       "      <td>NaN</td>\n",
       "      <td>NaN</td>\n",
       "      <td>1443.0</td>\n",
       "      <td>21.82</td>\n",
       "      <td>4.55</td>\n",
       "      <td>0.00</td>\n",
       "      <td>0.345000</td>\n",
       "      <td>NaN</td>\n",
       "      <td>14.5</td>\n",
       "      <td>10.91</td>\n",
       "      <td>6.0</td>\n",
       "      <td>c</td>\n",
       "    </tr>\n",
       "    <tr>\n",
       "      <th>153994</th>\n",
       "      <td>http://world-fr.openfoodfacts.org/produit/0826...</td>\n",
       "      <td>Vitatops, Chocolate Chip</td>\n",
       "      <td>NaN</td>\n",
       "      <td>NaN</td>\n",
       "      <td>912.0</td>\n",
       "      <td>14.55</td>\n",
       "      <td>5.45</td>\n",
       "      <td>1.82</td>\n",
       "      <td>0.309000</td>\n",
       "      <td>NaN</td>\n",
       "      <td>14.5</td>\n",
       "      <td>9.09</td>\n",
       "      <td>-1.0</td>\n",
       "      <td>a</td>\n",
       "    </tr>\n",
       "    <tr>\n",
       "      <th>...</th>\n",
       "      <td>...</td>\n",
       "      <td>...</td>\n",
       "      <td>...</td>\n",
       "      <td>...</td>\n",
       "      <td>...</td>\n",
       "      <td>...</td>\n",
       "      <td>...</td>\n",
       "      <td>...</td>\n",
       "      <td>...</td>\n",
       "      <td>...</td>\n",
       "      <td>...</td>\n",
       "      <td>...</td>\n",
       "      <td>...</td>\n",
       "      <td>...</td>\n",
       "    </tr>\n",
       "    <tr>\n",
       "      <th>157447</th>\n",
       "      <td>http://world-fr.openfoodfacts.org/produit/0850...</td>\n",
       "      <td>Premium Organic Stevia, Powdered Sweetener Pac...</td>\n",
       "      <td>NaN</td>\n",
       "      <td>NaN</td>\n",
       "      <td>0.0</td>\n",
       "      <td>0.00</td>\n",
       "      <td>0.00</td>\n",
       "      <td>NaN</td>\n",
       "      <td>0.000000</td>\n",
       "      <td>NaN</td>\n",
       "      <td>100.0</td>\n",
       "      <td>0.00</td>\n",
       "      <td>NaN</td>\n",
       "      <td>NaN</td>\n",
       "    </tr>\n",
       "    <tr>\n",
       "      <th>157446</th>\n",
       "      <td>http://world-fr.openfoodfacts.org/produit/0850...</td>\n",
       "      <td>Powdered Sweetener Packets</td>\n",
       "      <td>NaN</td>\n",
       "      <td>NaN</td>\n",
       "      <td>0.0</td>\n",
       "      <td>0.00</td>\n",
       "      <td>0.00</td>\n",
       "      <td>NaN</td>\n",
       "      <td>0.000000</td>\n",
       "      <td>NaN</td>\n",
       "      <td>100.0</td>\n",
       "      <td>0.00</td>\n",
       "      <td>NaN</td>\n",
       "      <td>NaN</td>\n",
       "    </tr>\n",
       "    <tr>\n",
       "      <th>86625</th>\n",
       "      <td>http://world-fr.openfoodfacts.org/produit/0074...</td>\n",
       "      <td>Yamashin, Powdered Agar-Agar</td>\n",
       "      <td>NaN</td>\n",
       "      <td>NaN</td>\n",
       "      <td>1046.0</td>\n",
       "      <td>0.00</td>\n",
       "      <td>0.00</td>\n",
       "      <td>0.00</td>\n",
       "      <td>0.250000</td>\n",
       "      <td>NaN</td>\n",
       "      <td>100.0</td>\n",
       "      <td>0.00</td>\n",
       "      <td>0.0</td>\n",
       "      <td>b</td>\n",
       "    </tr>\n",
       "    <tr>\n",
       "      <th>244661</th>\n",
       "      <td>http://world-fr.openfoodfacts.org/produit/3590...</td>\n",
       "      <td>Noix sèches</td>\n",
       "      <td>NaN</td>\n",
       "      <td>NaN</td>\n",
       "      <td>0.0</td>\n",
       "      <td>0.00</td>\n",
       "      <td>0.00</td>\n",
       "      <td>0.00</td>\n",
       "      <td>0.000000</td>\n",
       "      <td>0.0</td>\n",
       "      <td>100.0</td>\n",
       "      <td>0.00</td>\n",
       "      <td>-5.0</td>\n",
       "      <td>a</td>\n",
       "    </tr>\n",
       "    <tr>\n",
       "      <th>10504</th>\n",
       "      <td>http://world-fr.openfoodfacts.org/produit/0012...</td>\n",
       "      <td>Sweeteners</td>\n",
       "      <td>NaN</td>\n",
       "      <td>NaN</td>\n",
       "      <td>0.0</td>\n",
       "      <td>NaN</td>\n",
       "      <td>0.00</td>\n",
       "      <td>NaN</td>\n",
       "      <td>0.000000</td>\n",
       "      <td>NaN</td>\n",
       "      <td>100.0</td>\n",
       "      <td>0.00</td>\n",
       "      <td>NaN</td>\n",
       "      <td>NaN</td>\n",
       "    </tr>\n",
       "  </tbody>\n",
       "</table>\n",
       "<p>3802 rows × 14 columns</p>\n",
       "</div>"
      ],
      "text/plain": [
       "                                                      url  \\\n",
       "243925  http://world-fr.openfoodfacts.org/produit/3571...   \n",
       "229847  http://world-fr.openfoodfacts.org/produit/3380...   \n",
       "217928  http://world-fr.openfoodfacts.org/produit/3266...   \n",
       "66510   http://world-fr.openfoodfacts.org/produit/0058...   \n",
       "153994  http://world-fr.openfoodfacts.org/produit/0826...   \n",
       "...                                                   ...   \n",
       "157447  http://world-fr.openfoodfacts.org/produit/0850...   \n",
       "157446  http://world-fr.openfoodfacts.org/produit/0850...   \n",
       "86625   http://world-fr.openfoodfacts.org/produit/0074...   \n",
       "244661  http://world-fr.openfoodfacts.org/produit/3590...   \n",
       "10504   http://world-fr.openfoodfacts.org/produit/0012...   \n",
       "\n",
       "                                             product_name      pnns_groups_2  \\\n",
       "243925                         Gateau Amandes Et Chocolat                NaN   \n",
       "229847                                Farines De Sarrasin                NaN   \n",
       "217928                                             Muesli  Breakfast cereals   \n",
       "66510                       Flax Plus, Raisin Bran Cereal                NaN   \n",
       "153994                           Vitatops, Chocolate Chip                NaN   \n",
       "...                                                   ...                ...   \n",
       "157447  Premium Organic Stevia, Powdered Sweetener Pac...                NaN   \n",
       "157446                         Powdered Sweetener Packets                NaN   \n",
       "86625                        Yamashin, Powdered Agar-Agar                NaN   \n",
       "244661                                        Noix sèches                NaN   \n",
       "10504                                          Sweeteners                NaN   \n",
       "\n",
       "       main_category_fr  energy_100g  sugars_100g  fat_100g  \\\n",
       "243925              NaN          NaN        44.00       NaN   \n",
       "229847              NaN       1448.0         0.80       NaN   \n",
       "217928  Petit-déjeuners       1544.0         9.60       NaN   \n",
       "66510               NaN       1443.0        21.82      4.55   \n",
       "153994              NaN        912.0        14.55      5.45   \n",
       "...                 ...          ...          ...       ...   \n",
       "157447              NaN          0.0         0.00      0.00   \n",
       "157446              NaN          0.0         0.00      0.00   \n",
       "86625               NaN       1046.0         0.00      0.00   \n",
       "244661              NaN          0.0         0.00      0.00   \n",
       "10504               NaN          0.0          NaN      0.00   \n",
       "\n",
       "        saturated-fat_100g  sodium_100g  fruits-vegetables-nuts_100g  \\\n",
       "243925               16.50     0.098425                          NaN   \n",
       "229847                0.70     0.003937                          NaN   \n",
       "217928                0.70     0.011811                          NaN   \n",
       "66510                 0.00     0.345000                          NaN   \n",
       "153994                1.82     0.309000                          NaN   \n",
       "...                    ...          ...                          ...   \n",
       "157447                 NaN     0.000000                          NaN   \n",
       "157446                 NaN     0.000000                          NaN   \n",
       "86625                 0.00     0.250000                          NaN   \n",
       "244661                0.00     0.000000                          0.0   \n",
       "10504                  NaN     0.000000                          NaN   \n",
       "\n",
       "        fiber_100g  proteins_100g  nutrition-score-fr_100g nutrition_grade_fr  \n",
       "243925        14.5          25.00                     25.0                  e  \n",
       "229847        14.5          13.80                     -6.0                  a  \n",
       "217928        14.5           9.10                     -4.0                  a  \n",
       "66510         14.5          10.91                      6.0                  c  \n",
       "153994        14.5           9.09                     -1.0                  a  \n",
       "...            ...            ...                      ...                ...  \n",
       "157447       100.0           0.00                      NaN                NaN  \n",
       "157446       100.0           0.00                      NaN                NaN  \n",
       "86625        100.0           0.00                      0.0                  b  \n",
       "244661       100.0           0.00                     -5.0                  a  \n",
       "10504        100.0           0.00                      NaN                NaN  \n",
       "\n",
       "[3802 rows x 14 columns]"
      ]
     },
     "execution_count": 55,
     "metadata": {},
     "output_type": "execute_result"
    }
   ],
   "source": [
    "# Fibres :\n",
    "Q1 = np.percentile(df_nutriscore['fiber_100g'].dropna(),25)\n",
    "Q3 = np.percentile(df_nutriscore['fiber_100g'].dropna(),75)\n",
    "df_nutriscore.loc[df_nutriscore['fiber_100g'] > (Q3 + 3*(Q3-Q1)),:].sort_values('fiber_100g')"
   ]
  },
  {
   "cell_type": "markdown",
   "id": "8dbec326",
   "metadata": {},
   "source": [
    "Je ne fais aucune opération sur fibres"
   ]
  },
  {
   "cell_type": "markdown",
   "id": "f86a08e8",
   "metadata": {},
   "source": [
    " "
   ]
  },
  {
   "cell_type": "code",
   "execution_count": 56,
   "id": "7c3cac04",
   "metadata": {},
   "outputs": [
    {
     "data": {
      "text/html": [
       "<div>\n",
       "<style scoped>\n",
       "    .dataframe tbody tr th:only-of-type {\n",
       "        vertical-align: middle;\n",
       "    }\n",
       "\n",
       "    .dataframe tbody tr th {\n",
       "        vertical-align: top;\n",
       "    }\n",
       "\n",
       "    .dataframe thead th {\n",
       "        text-align: right;\n",
       "    }\n",
       "</style>\n",
       "<table border=\"1\" class=\"dataframe\">\n",
       "  <thead>\n",
       "    <tr style=\"text-align: right;\">\n",
       "      <th></th>\n",
       "      <th>url</th>\n",
       "      <th>product_name</th>\n",
       "      <th>pnns_groups_2</th>\n",
       "      <th>main_category_fr</th>\n",
       "      <th>energy_100g</th>\n",
       "      <th>sugars_100g</th>\n",
       "      <th>fat_100g</th>\n",
       "      <th>saturated-fat_100g</th>\n",
       "      <th>sodium_100g</th>\n",
       "      <th>fruits-vegetables-nuts_100g</th>\n",
       "      <th>fiber_100g</th>\n",
       "      <th>proteins_100g</th>\n",
       "      <th>nutrition-score-fr_100g</th>\n",
       "      <th>nutrition_grade_fr</th>\n",
       "    </tr>\n",
       "  </thead>\n",
       "  <tbody>\n",
       "    <tr>\n",
       "      <th>111787</th>\n",
       "      <td>http://world-fr.openfoodfacts.org/produit/0167...</td>\n",
       "      <td>Hickory Smoked Jerky From The Jar</td>\n",
       "      <td>NaN</td>\n",
       "      <td>NaN</td>\n",
       "      <td>732.0</td>\n",
       "      <td>0.00</td>\n",
       "      <td>2.63</td>\n",
       "      <td>0.00</td>\n",
       "      <td>2.07</td>\n",
       "      <td>NaN</td>\n",
       "      <td>0.00</td>\n",
       "      <td>31.58</td>\n",
       "      <td>12.0</td>\n",
       "      <td>d</td>\n",
       "    </tr>\n",
       "    <tr>\n",
       "      <th>53319</th>\n",
       "      <td>http://world-fr.openfoodfacts.org/produit/0041...</td>\n",
       "      <td>Maruchan Ramen Noodle Soup Oriental Flavor</td>\n",
       "      <td>NaN</td>\n",
       "      <td>en:Ramen</td>\n",
       "      <td>1850.0</td>\n",
       "      <td>2.33</td>\n",
       "      <td>16.30</td>\n",
       "      <td>8.14</td>\n",
       "      <td>2.07</td>\n",
       "      <td>NaN</td>\n",
       "      <td>2.33</td>\n",
       "      <td>11.60</td>\n",
       "      <td>20.0</td>\n",
       "      <td>e</td>\n",
       "    </tr>\n",
       "    <tr>\n",
       "      <th>26899</th>\n",
       "      <td>http://world-fr.openfoodfacts.org/produit/0031...</td>\n",
       "      <td>Bowl Noodle Soup, Spicy Kimchi</td>\n",
       "      <td>NaN</td>\n",
       "      <td>NaN</td>\n",
       "      <td>1849.0</td>\n",
       "      <td>2.33</td>\n",
       "      <td>16.28</td>\n",
       "      <td>8.14</td>\n",
       "      <td>2.07</td>\n",
       "      <td>NaN</td>\n",
       "      <td>2.30</td>\n",
       "      <td>9.30</td>\n",
       "      <td>20.0</td>\n",
       "      <td>e</td>\n",
       "    </tr>\n",
       "    <tr>\n",
       "      <th>317052</th>\n",
       "      <td>http://world-fr.openfoodfacts.org/produit/8852...</td>\n",
       "      <td>Oriental Style instant noodles Beef Flavor</td>\n",
       "      <td>One-dish meals</td>\n",
       "      <td>Soupes</td>\n",
       "      <td>2010.0</td>\n",
       "      <td>4.33</td>\n",
       "      <td>22.80</td>\n",
       "      <td>11.20</td>\n",
       "      <td>2.07</td>\n",
       "      <td>NaN</td>\n",
       "      <td>3.83</td>\n",
       "      <td>7.67</td>\n",
       "      <td>NaN</td>\n",
       "      <td>NaN</td>\n",
       "    </tr>\n",
       "    <tr>\n",
       "      <th>26903</th>\n",
       "      <td>http://world-fr.openfoodfacts.org/produit/0031...</td>\n",
       "      <td>Bowl Noodle Soup, Spicy Chicken</td>\n",
       "      <td>NaN</td>\n",
       "      <td>NaN</td>\n",
       "      <td>1849.0</td>\n",
       "      <td>2.33</td>\n",
       "      <td>16.28</td>\n",
       "      <td>6.98</td>\n",
       "      <td>2.07</td>\n",
       "      <td>NaN</td>\n",
       "      <td>2.30</td>\n",
       "      <td>9.30</td>\n",
       "      <td>18.0</td>\n",
       "      <td>d</td>\n",
       "    </tr>\n",
       "    <tr>\n",
       "      <th>...</th>\n",
       "      <td>...</td>\n",
       "      <td>...</td>\n",
       "      <td>...</td>\n",
       "      <td>...</td>\n",
       "      <td>...</td>\n",
       "      <td>...</td>\n",
       "      <td>...</td>\n",
       "      <td>...</td>\n",
       "      <td>...</td>\n",
       "      <td>...</td>\n",
       "      <td>...</td>\n",
       "      <td>...</td>\n",
       "      <td>...</td>\n",
       "      <td>...</td>\n",
       "    </tr>\n",
       "    <tr>\n",
       "      <th>137618</th>\n",
       "      <td>http://world-fr.openfoodfacts.org/produit/0736...</td>\n",
       "      <td>Piri-Piri Hot Sauce</td>\n",
       "      <td>NaN</td>\n",
       "      <td>NaN</td>\n",
       "      <td>0.0</td>\n",
       "      <td>0.00</td>\n",
       "      <td>0.00</td>\n",
       "      <td>0.00</td>\n",
       "      <td>74.00</td>\n",
       "      <td>NaN</td>\n",
       "      <td>0.00</td>\n",
       "      <td>0.00</td>\n",
       "      <td>10.0</td>\n",
       "      <td>c</td>\n",
       "    </tr>\n",
       "    <tr>\n",
       "      <th>81379</th>\n",
       "      <td>http://world-fr.openfoodfacts.org/produit/0072...</td>\n",
       "      <td>All Purpose Adobo Seasoning With Sazon</td>\n",
       "      <td>NaN</td>\n",
       "      <td>NaN</td>\n",
       "      <td>0.0</td>\n",
       "      <td>NaN</td>\n",
       "      <td>0.00</td>\n",
       "      <td>NaN</td>\n",
       "      <td>75.00</td>\n",
       "      <td>NaN</td>\n",
       "      <td>NaN</td>\n",
       "      <td>0.00</td>\n",
       "      <td>NaN</td>\n",
       "      <td>NaN</td>\n",
       "    </tr>\n",
       "    <tr>\n",
       "      <th>81378</th>\n",
       "      <td>http://world-fr.openfoodfacts.org/produit/0072...</td>\n",
       "      <td>Adobo Seasoning With Pimento</td>\n",
       "      <td>NaN</td>\n",
       "      <td>NaN</td>\n",
       "      <td>0.0</td>\n",
       "      <td>NaN</td>\n",
       "      <td>0.00</td>\n",
       "      <td>NaN</td>\n",
       "      <td>75.00</td>\n",
       "      <td>NaN</td>\n",
       "      <td>NaN</td>\n",
       "      <td>0.00</td>\n",
       "      <td>NaN</td>\n",
       "      <td>NaN</td>\n",
       "    </tr>\n",
       "    <tr>\n",
       "      <th>39679</th>\n",
       "      <td>http://world-fr.openfoodfacts.org/produit/0041...</td>\n",
       "      <td>Garlic Salt</td>\n",
       "      <td>NaN</td>\n",
       "      <td>NaN</td>\n",
       "      <td>0.0</td>\n",
       "      <td>0.00</td>\n",
       "      <td>0.00</td>\n",
       "      <td>0.00</td>\n",
       "      <td>92.50</td>\n",
       "      <td>NaN</td>\n",
       "      <td>0.00</td>\n",
       "      <td>0.00</td>\n",
       "      <td>10.0</td>\n",
       "      <td>c</td>\n",
       "    </tr>\n",
       "    <tr>\n",
       "      <th>120946</th>\n",
       "      <td>http://world-fr.openfoodfacts.org/produit/0639...</td>\n",
       "      <td>Evolution Salt Co, Gourmet Pink Himalaya Salt</td>\n",
       "      <td>NaN</td>\n",
       "      <td>NaN</td>\n",
       "      <td>0.0</td>\n",
       "      <td>0.00</td>\n",
       "      <td>0.00</td>\n",
       "      <td>NaN</td>\n",
       "      <td>100.00</td>\n",
       "      <td>NaN</td>\n",
       "      <td>NaN</td>\n",
       "      <td>0.00</td>\n",
       "      <td>NaN</td>\n",
       "      <td>NaN</td>\n",
       "    </tr>\n",
       "  </tbody>\n",
       "</table>\n",
       "<p>8227 rows × 14 columns</p>\n",
       "</div>"
      ],
      "text/plain": [
       "                                                      url  \\\n",
       "111787  http://world-fr.openfoodfacts.org/produit/0167...   \n",
       "53319   http://world-fr.openfoodfacts.org/produit/0041...   \n",
       "26899   http://world-fr.openfoodfacts.org/produit/0031...   \n",
       "317052  http://world-fr.openfoodfacts.org/produit/8852...   \n",
       "26903   http://world-fr.openfoodfacts.org/produit/0031...   \n",
       "...                                                   ...   \n",
       "137618  http://world-fr.openfoodfacts.org/produit/0736...   \n",
       "81379   http://world-fr.openfoodfacts.org/produit/0072...   \n",
       "81378   http://world-fr.openfoodfacts.org/produit/0072...   \n",
       "39679   http://world-fr.openfoodfacts.org/produit/0041...   \n",
       "120946  http://world-fr.openfoodfacts.org/produit/0639...   \n",
       "\n",
       "                                         product_name   pnns_groups_2  \\\n",
       "111787              Hickory Smoked Jerky From The Jar             NaN   \n",
       "53319      Maruchan Ramen Noodle Soup Oriental Flavor             NaN   \n",
       "26899                  Bowl Noodle Soup, Spicy Kimchi             NaN   \n",
       "317052     Oriental Style instant noodles Beef Flavor  One-dish meals   \n",
       "26903                 Bowl Noodle Soup, Spicy Chicken             NaN   \n",
       "...                                               ...             ...   \n",
       "137618                            Piri-Piri Hot Sauce             NaN   \n",
       "81379          All Purpose Adobo Seasoning With Sazon             NaN   \n",
       "81378                    Adobo Seasoning With Pimento             NaN   \n",
       "39679                                     Garlic Salt             NaN   \n",
       "120946  Evolution Salt Co, Gourmet Pink Himalaya Salt             NaN   \n",
       "\n",
       "       main_category_fr  energy_100g  sugars_100g  fat_100g  \\\n",
       "111787              NaN        732.0         0.00      2.63   \n",
       "53319          en:Ramen       1850.0         2.33     16.30   \n",
       "26899               NaN       1849.0         2.33     16.28   \n",
       "317052           Soupes       2010.0         4.33     22.80   \n",
       "26903               NaN       1849.0         2.33     16.28   \n",
       "...                 ...          ...          ...       ...   \n",
       "137618              NaN          0.0         0.00      0.00   \n",
       "81379               NaN          0.0          NaN      0.00   \n",
       "81378               NaN          0.0          NaN      0.00   \n",
       "39679               NaN          0.0         0.00      0.00   \n",
       "120946              NaN          0.0         0.00      0.00   \n",
       "\n",
       "        saturated-fat_100g  sodium_100g  fruits-vegetables-nuts_100g  \\\n",
       "111787                0.00         2.07                          NaN   \n",
       "53319                 8.14         2.07                          NaN   \n",
       "26899                 8.14         2.07                          NaN   \n",
       "317052               11.20         2.07                          NaN   \n",
       "26903                 6.98         2.07                          NaN   \n",
       "...                    ...          ...                          ...   \n",
       "137618                0.00        74.00                          NaN   \n",
       "81379                  NaN        75.00                          NaN   \n",
       "81378                  NaN        75.00                          NaN   \n",
       "39679                 0.00        92.50                          NaN   \n",
       "120946                 NaN       100.00                          NaN   \n",
       "\n",
       "        fiber_100g  proteins_100g  nutrition-score-fr_100g nutrition_grade_fr  \n",
       "111787        0.00          31.58                     12.0                  d  \n",
       "53319         2.33          11.60                     20.0                  e  \n",
       "26899         2.30           9.30                     20.0                  e  \n",
       "317052        3.83           7.67                      NaN                NaN  \n",
       "26903         2.30           9.30                     18.0                  d  \n",
       "...            ...            ...                      ...                ...  \n",
       "137618        0.00           0.00                     10.0                  c  \n",
       "81379          NaN           0.00                      NaN                NaN  \n",
       "81378          NaN           0.00                      NaN                NaN  \n",
       "39679         0.00           0.00                     10.0                  c  \n",
       "120946         NaN           0.00                      NaN                NaN  \n",
       "\n",
       "[8227 rows x 14 columns]"
      ]
     },
     "execution_count": 56,
     "metadata": {},
     "output_type": "execute_result"
    }
   ],
   "source": [
    "# Sodium :\n",
    "Q1 = np.percentile(df_nutriscore['sodium_100g'].dropna(),25)\n",
    "Q3 = np.percentile(df_nutriscore['sodium_100g'].dropna(),75)\n",
    "df_nutriscore.loc[df_nutriscore['sodium_100g'] > (Q3 + 3*(Q3-Q1)),:].sort_values('sodium_100g')"
   ]
  },
  {
   "cell_type": "markdown",
   "id": "4e5f9316",
   "metadata": {},
   "source": [
    "Je supprime les lignes en conservant celles qui contiennent 'Salt' ou 'Sel' dans leur nom"
   ]
  },
  {
   "cell_type": "code",
   "execution_count": 57,
   "id": "72b07a68",
   "metadata": {},
   "outputs": [],
   "source": [
    "df_nutriscore = df_nutriscore.loc[(df_nutriscore['sodium_100g'] < (Q3 + 3*(Q3-Q1))) | (df_nutriscore['product_name'].str.contains('Salt', 'Sel')),:].sort_values('sodium_100g')"
   ]
  },
  {
   "cell_type": "markdown",
   "id": "feeb093b",
   "metadata": {},
   "source": [
    " "
   ]
  },
  {
   "cell_type": "code",
   "execution_count": 58,
   "id": "c4adaaa8",
   "metadata": {},
   "outputs": [
    {
     "data": {
      "text/html": [
       "<div>\n",
       "<style scoped>\n",
       "    .dataframe tbody tr th:only-of-type {\n",
       "        vertical-align: middle;\n",
       "    }\n",
       "\n",
       "    .dataframe tbody tr th {\n",
       "        vertical-align: top;\n",
       "    }\n",
       "\n",
       "    .dataframe thead th {\n",
       "        text-align: right;\n",
       "    }\n",
       "</style>\n",
       "<table border=\"1\" class=\"dataframe\">\n",
       "  <thead>\n",
       "    <tr style=\"text-align: right;\">\n",
       "      <th></th>\n",
       "      <th>url</th>\n",
       "      <th>product_name</th>\n",
       "      <th>pnns_groups_2</th>\n",
       "      <th>main_category_fr</th>\n",
       "      <th>energy_100g</th>\n",
       "      <th>sugars_100g</th>\n",
       "      <th>fat_100g</th>\n",
       "      <th>saturated-fat_100g</th>\n",
       "      <th>sodium_100g</th>\n",
       "      <th>fruits-vegetables-nuts_100g</th>\n",
       "      <th>fiber_100g</th>\n",
       "      <th>proteins_100g</th>\n",
       "      <th>nutrition-score-fr_100g</th>\n",
       "      <th>nutrition_grade_fr</th>\n",
       "    </tr>\n",
       "  </thead>\n",
       "  <tbody>\n",
       "    <tr>\n",
       "      <th>1</th>\n",
       "      <td>http://world-fr.openfoodfacts.org/produit/0000...</td>\n",
       "      <td>Banana Chips Sweetened (Whole)</td>\n",
       "      <td>NaN</td>\n",
       "      <td>NaN</td>\n",
       "      <td>2243.0</td>\n",
       "      <td>14.29</td>\n",
       "      <td>28.57</td>\n",
       "      <td>28.57</td>\n",
       "      <td>0.000</td>\n",
       "      <td>NaN</td>\n",
       "      <td>3.6</td>\n",
       "      <td>3.57</td>\n",
       "      <td>14.0</td>\n",
       "      <td>d</td>\n",
       "    </tr>\n",
       "    <tr>\n",
       "      <th>151280</th>\n",
       "      <td>http://world-fr.openfoodfacts.org/produit/0815...</td>\n",
       "      <td>Popcornopolis, Organic Popcorn, White Cheddar</td>\n",
       "      <td>NaN</td>\n",
       "      <td>NaN</td>\n",
       "      <td>2243.0</td>\n",
       "      <td>3.57</td>\n",
       "      <td>39.29</td>\n",
       "      <td>28.57</td>\n",
       "      <td>0.714</td>\n",
       "      <td>NaN</td>\n",
       "      <td>7.1</td>\n",
       "      <td>10.71</td>\n",
       "      <td>18.0</td>\n",
       "      <td>d</td>\n",
       "    </tr>\n",
       "    <tr>\n",
       "      <th>140422</th>\n",
       "      <td>http://world-fr.openfoodfacts.org/produit/0747...</td>\n",
       "      <td>Premium Baking Chips, Classic White Chips</td>\n",
       "      <td>NaN</td>\n",
       "      <td>NaN</td>\n",
       "      <td>2092.0</td>\n",
       "      <td>57.14</td>\n",
       "      <td>32.14</td>\n",
       "      <td>28.57</td>\n",
       "      <td>0.143</td>\n",
       "      <td>NaN</td>\n",
       "      <td>0.0</td>\n",
       "      <td>7.14</td>\n",
       "      <td>27.0</td>\n",
       "      <td>e</td>\n",
       "    </tr>\n",
       "    <tr>\n",
       "      <th>22850</th>\n",
       "      <td>http://world-fr.openfoodfacts.org/produit/0026...</td>\n",
       "      <td>Spreadable Butter With Canola Oil</td>\n",
       "      <td>NaN</td>\n",
       "      <td>NaN</td>\n",
       "      <td>2987.0</td>\n",
       "      <td>NaN</td>\n",
       "      <td>78.57</td>\n",
       "      <td>28.57</td>\n",
       "      <td>0.714</td>\n",
       "      <td>NaN</td>\n",
       "      <td>NaN</td>\n",
       "      <td>0.00</td>\n",
       "      <td>NaN</td>\n",
       "      <td>NaN</td>\n",
       "    </tr>\n",
       "    <tr>\n",
       "      <th>22851</th>\n",
       "      <td>http://world-fr.openfoodfacts.org/produit/0026...</td>\n",
       "      <td>Gold' N Soft, Spreadable Butter, With Canola O...</td>\n",
       "      <td>NaN</td>\n",
       "      <td>NaN</td>\n",
       "      <td>2987.0</td>\n",
       "      <td>NaN</td>\n",
       "      <td>78.57</td>\n",
       "      <td>28.57</td>\n",
       "      <td>0.714</td>\n",
       "      <td>NaN</td>\n",
       "      <td>NaN</td>\n",
       "      <td>0.00</td>\n",
       "      <td>NaN</td>\n",
       "      <td>NaN</td>\n",
       "    </tr>\n",
       "    <tr>\n",
       "      <th>...</th>\n",
       "      <td>...</td>\n",
       "      <td>...</td>\n",
       "      <td>...</td>\n",
       "      <td>...</td>\n",
       "      <td>...</td>\n",
       "      <td>...</td>\n",
       "      <td>...</td>\n",
       "      <td>...</td>\n",
       "      <td>...</td>\n",
       "      <td>...</td>\n",
       "      <td>...</td>\n",
       "      <td>...</td>\n",
       "      <td>...</td>\n",
       "      <td>...</td>\n",
       "    </tr>\n",
       "    <tr>\n",
       "      <th>73747</th>\n",
       "      <td>http://world-fr.openfoodfacts.org/produit/0070...</td>\n",
       "      <td>Ez Thun Dipping Aid</td>\n",
       "      <td>NaN</td>\n",
       "      <td>NaN</td>\n",
       "      <td>3766.0</td>\n",
       "      <td>NaN</td>\n",
       "      <td>100.00</td>\n",
       "      <td>100.00</td>\n",
       "      <td>0.000</td>\n",
       "      <td>NaN</td>\n",
       "      <td>NaN</td>\n",
       "      <td>0.00</td>\n",
       "      <td>NaN</td>\n",
       "      <td>NaN</td>\n",
       "    </tr>\n",
       "    <tr>\n",
       "      <th>184439</th>\n",
       "      <td>http://world-fr.openfoodfacts.org/produit/2600...</td>\n",
       "      <td>Jog'Frit</td>\n",
       "      <td>Fats</td>\n",
       "      <td>Matières grasses végétales</td>\n",
       "      <td>3700.0</td>\n",
       "      <td>0.00</td>\n",
       "      <td>100.00</td>\n",
       "      <td>100.00</td>\n",
       "      <td>0.000</td>\n",
       "      <td>NaN</td>\n",
       "      <td>NaN</td>\n",
       "      <td>0.00</td>\n",
       "      <td>20.0</td>\n",
       "      <td>e</td>\n",
       "    </tr>\n",
       "    <tr>\n",
       "      <th>275205</th>\n",
       "      <td>http://world-fr.openfoodfacts.org/produit/5158...</td>\n",
       "      <td>Végétaline (offre familiale)</td>\n",
       "      <td>Fats</td>\n",
       "      <td>Huiles</td>\n",
       "      <td>3700.0</td>\n",
       "      <td>0.00</td>\n",
       "      <td>100.00</td>\n",
       "      <td>100.00</td>\n",
       "      <td>0.000</td>\n",
       "      <td>NaN</td>\n",
       "      <td>NaN</td>\n",
       "      <td>0.00</td>\n",
       "      <td>15.0</td>\n",
       "      <td>d</td>\n",
       "    </tr>\n",
       "    <tr>\n",
       "      <th>219970</th>\n",
       "      <td>http://world-fr.openfoodfacts.org/produit/3270...</td>\n",
       "      <td>Huile De Tournesol Végétale 2 Litre</td>\n",
       "      <td>NaN</td>\n",
       "      <td>NaN</td>\n",
       "      <td>3766.0</td>\n",
       "      <td>0.00</td>\n",
       "      <td>NaN</td>\n",
       "      <td>100.00</td>\n",
       "      <td>0.000</td>\n",
       "      <td>NaN</td>\n",
       "      <td>0.0</td>\n",
       "      <td>0.00</td>\n",
       "      <td>20.0</td>\n",
       "      <td>e</td>\n",
       "    </tr>\n",
       "    <tr>\n",
       "      <th>140140</th>\n",
       "      <td>http://world-fr.openfoodfacts.org/produit/0746...</td>\n",
       "      <td>Pure Grapeseed Oil</td>\n",
       "      <td>NaN</td>\n",
       "      <td>NaN</td>\n",
       "      <td>3347.0</td>\n",
       "      <td>NaN</td>\n",
       "      <td>93.33</td>\n",
       "      <td>100.00</td>\n",
       "      <td>0.000</td>\n",
       "      <td>NaN</td>\n",
       "      <td>NaN</td>\n",
       "      <td>0.00</td>\n",
       "      <td>NaN</td>\n",
       "      <td>NaN</td>\n",
       "    </tr>\n",
       "  </tbody>\n",
       "</table>\n",
       "<p>2718 rows × 14 columns</p>\n",
       "</div>"
      ],
      "text/plain": [
       "                                                      url  \\\n",
       "1       http://world-fr.openfoodfacts.org/produit/0000...   \n",
       "151280  http://world-fr.openfoodfacts.org/produit/0815...   \n",
       "140422  http://world-fr.openfoodfacts.org/produit/0747...   \n",
       "22850   http://world-fr.openfoodfacts.org/produit/0026...   \n",
       "22851   http://world-fr.openfoodfacts.org/produit/0026...   \n",
       "...                                                   ...   \n",
       "73747   http://world-fr.openfoodfacts.org/produit/0070...   \n",
       "184439  http://world-fr.openfoodfacts.org/produit/2600...   \n",
       "275205  http://world-fr.openfoodfacts.org/produit/5158...   \n",
       "219970  http://world-fr.openfoodfacts.org/produit/3270...   \n",
       "140140  http://world-fr.openfoodfacts.org/produit/0746...   \n",
       "\n",
       "                                             product_name pnns_groups_2  \\\n",
       "1                          Banana Chips Sweetened (Whole)           NaN   \n",
       "151280      Popcornopolis, Organic Popcorn, White Cheddar           NaN   \n",
       "140422          Premium Baking Chips, Classic White Chips           NaN   \n",
       "22850                   Spreadable Butter With Canola Oil           NaN   \n",
       "22851   Gold' N Soft, Spreadable Butter, With Canola O...           NaN   \n",
       "...                                                   ...           ...   \n",
       "73747                                 Ez Thun Dipping Aid           NaN   \n",
       "184439                                           Jog'Frit          Fats   \n",
       "275205                       Végétaline (offre familiale)          Fats   \n",
       "219970                Huile De Tournesol Végétale 2 Litre           NaN   \n",
       "140140                                 Pure Grapeseed Oil           NaN   \n",
       "\n",
       "                  main_category_fr  energy_100g  sugars_100g  fat_100g  \\\n",
       "1                              NaN       2243.0        14.29     28.57   \n",
       "151280                         NaN       2243.0         3.57     39.29   \n",
       "140422                         NaN       2092.0        57.14     32.14   \n",
       "22850                          NaN       2987.0          NaN     78.57   \n",
       "22851                          NaN       2987.0          NaN     78.57   \n",
       "...                            ...          ...          ...       ...   \n",
       "73747                          NaN       3766.0          NaN    100.00   \n",
       "184439  Matières grasses végétales       3700.0         0.00    100.00   \n",
       "275205                      Huiles       3700.0         0.00    100.00   \n",
       "219970                         NaN       3766.0         0.00       NaN   \n",
       "140140                         NaN       3347.0          NaN     93.33   \n",
       "\n",
       "        saturated-fat_100g  sodium_100g  fruits-vegetables-nuts_100g  \\\n",
       "1                    28.57        0.000                          NaN   \n",
       "151280               28.57        0.714                          NaN   \n",
       "140422               28.57        0.143                          NaN   \n",
       "22850                28.57        0.714                          NaN   \n",
       "22851                28.57        0.714                          NaN   \n",
       "...                    ...          ...                          ...   \n",
       "73747               100.00        0.000                          NaN   \n",
       "184439              100.00        0.000                          NaN   \n",
       "275205              100.00        0.000                          NaN   \n",
       "219970              100.00        0.000                          NaN   \n",
       "140140              100.00        0.000                          NaN   \n",
       "\n",
       "        fiber_100g  proteins_100g  nutrition-score-fr_100g nutrition_grade_fr  \n",
       "1              3.6           3.57                     14.0                  d  \n",
       "151280         7.1          10.71                     18.0                  d  \n",
       "140422         0.0           7.14                     27.0                  e  \n",
       "22850          NaN           0.00                      NaN                NaN  \n",
       "22851          NaN           0.00                      NaN                NaN  \n",
       "...            ...            ...                      ...                ...  \n",
       "73747          NaN           0.00                      NaN                NaN  \n",
       "184439         NaN           0.00                     20.0                  e  \n",
       "275205         NaN           0.00                     15.0                  d  \n",
       "219970         0.0           0.00                     20.0                  e  \n",
       "140140         NaN           0.00                      NaN                NaN  \n",
       "\n",
       "[2718 rows x 14 columns]"
      ]
     },
     "execution_count": 58,
     "metadata": {},
     "output_type": "execute_result"
    }
   ],
   "source": [
    "# saturated-fat :\n",
    "Q1 = np.percentile(df_nutriscore['saturated-fat_100g'].dropna(),25)\n",
    "Q3 = np.percentile(df_nutriscore['saturated-fat_100g'].dropna(),75)\n",
    "df_nutriscore.loc[df_nutriscore['saturated-fat_100g'] > (Q3 + 3*(Q3-Q1)),:].sort_values('saturated-fat_100g')"
   ]
  },
  {
   "cell_type": "markdown",
   "id": "af98ce45",
   "metadata": {},
   "source": [
    "Je ne supprime aucune ligne mais lorsque saturated-fat est supérieur à fat alors fat prend saturated-fat comme valeur\n",
    " "
   ]
  },
  {
   "cell_type": "code",
   "execution_count": 59,
   "id": "0be60f79",
   "metadata": {},
   "outputs": [],
   "source": [
    "df_nutriscore.loc[df_nutriscore['saturated-fat_100g'] > df_nutriscore['fat_100g'],'fat_100g'] = df_nutriscore['saturated-fat_100g']"
   ]
  },
  {
   "cell_type": "markdown",
   "id": "0a848248",
   "metadata": {},
   "source": [
    " "
   ]
  },
  {
   "cell_type": "code",
   "execution_count": 60,
   "id": "34eded4e",
   "metadata": {},
   "outputs": [
    {
     "data": {
      "text/html": [
       "<div>\n",
       "<style scoped>\n",
       "    .dataframe tbody tr th:only-of-type {\n",
       "        vertical-align: middle;\n",
       "    }\n",
       "\n",
       "    .dataframe tbody tr th {\n",
       "        vertical-align: top;\n",
       "    }\n",
       "\n",
       "    .dataframe thead th {\n",
       "        text-align: right;\n",
       "    }\n",
       "</style>\n",
       "<table border=\"1\" class=\"dataframe\">\n",
       "  <thead>\n",
       "    <tr style=\"text-align: right;\">\n",
       "      <th></th>\n",
       "      <th>url</th>\n",
       "      <th>product_name</th>\n",
       "      <th>pnns_groups_2</th>\n",
       "      <th>main_category_fr</th>\n",
       "      <th>energy_100g</th>\n",
       "      <th>sugars_100g</th>\n",
       "      <th>fat_100g</th>\n",
       "      <th>saturated-fat_100g</th>\n",
       "      <th>sodium_100g</th>\n",
       "      <th>fruits-vegetables-nuts_100g</th>\n",
       "      <th>fiber_100g</th>\n",
       "      <th>proteins_100g</th>\n",
       "      <th>nutrition-score-fr_100g</th>\n",
       "      <th>nutrition_grade_fr</th>\n",
       "    </tr>\n",
       "  </thead>\n",
       "  <tbody>\n",
       "    <tr>\n",
       "      <th>301230</th>\n",
       "      <td>http://world-fr.openfoodfacts.org/produit/8000...</td>\n",
       "      <td>Tic Tac goût Bubble-Gum</td>\n",
       "      <td>Sweets</td>\n",
       "      <td>Bonbons</td>\n",
       "      <td>1644.0</td>\n",
       "      <td>93.0</td>\n",
       "      <td>0.5</td>\n",
       "      <td>0.5</td>\n",
       "      <td>0.003937</td>\n",
       "      <td>NaN</td>\n",
       "      <td>0.0</td>\n",
       "      <td>0.1</td>\n",
       "      <td>14.0</td>\n",
       "      <td>d</td>\n",
       "    </tr>\n",
       "    <tr>\n",
       "      <th>197967</th>\n",
       "      <td>http://world-fr.openfoodfacts.org/produit/3178...</td>\n",
       "      <td>Meringues vanille naturelle</td>\n",
       "      <td>Sweets</td>\n",
       "      <td>Snacks sucrés</td>\n",
       "      <td>1680.0</td>\n",
       "      <td>93.0</td>\n",
       "      <td>0.3</td>\n",
       "      <td>0.0</td>\n",
       "      <td>0.078740</td>\n",
       "      <td>NaN</td>\n",
       "      <td>NaN</td>\n",
       "      <td>5.1</td>\n",
       "      <td>15.0</td>\n",
       "      <td>d</td>\n",
       "    </tr>\n",
       "    <tr>\n",
       "      <th>301286</th>\n",
       "      <td>http://world-fr.openfoodfacts.org/produit/8000...</td>\n",
       "      <td>Tic Tac Simpsons</td>\n",
       "      <td>NaN</td>\n",
       "      <td>NaN</td>\n",
       "      <td>1644.0</td>\n",
       "      <td>93.0</td>\n",
       "      <td>NaN</td>\n",
       "      <td>0.5</td>\n",
       "      <td>0.003937</td>\n",
       "      <td>NaN</td>\n",
       "      <td>0.0</td>\n",
       "      <td>0.1</td>\n",
       "      <td>14.0</td>\n",
       "      <td>d</td>\n",
       "    </tr>\n",
       "    <tr>\n",
       "      <th>187206</th>\n",
       "      <td>http://world-fr.openfoodfacts.org/produit/3011...</td>\n",
       "      <td>Sucre vanillé des Îles Alsa</td>\n",
       "      <td>Sweets</td>\n",
       "      <td>Sucres</td>\n",
       "      <td>1674.0</td>\n",
       "      <td>93.0</td>\n",
       "      <td>NaN</td>\n",
       "      <td>0.1</td>\n",
       "      <td>0.196850</td>\n",
       "      <td>NaN</td>\n",
       "      <td>0.0</td>\n",
       "      <td>0.5</td>\n",
       "      <td>16.0</td>\n",
       "      <td>d</td>\n",
       "    </tr>\n",
       "    <tr>\n",
       "      <th>302272</th>\n",
       "      <td>http://world-fr.openfoodfacts.org/produit/8002...</td>\n",
       "      <td>Sirop d'Agave Bio du Mexique</td>\n",
       "      <td>NaN</td>\n",
       "      <td>Édulcorants</td>\n",
       "      <td>1292.0</td>\n",
       "      <td>93.0</td>\n",
       "      <td>0.0</td>\n",
       "      <td>0.0</td>\n",
       "      <td>0.000000</td>\n",
       "      <td>NaN</td>\n",
       "      <td>0.0</td>\n",
       "      <td>0.0</td>\n",
       "      <td>13.0</td>\n",
       "      <td>d</td>\n",
       "    </tr>\n",
       "    <tr>\n",
       "      <th>...</th>\n",
       "      <td>...</td>\n",
       "      <td>...</td>\n",
       "      <td>...</td>\n",
       "      <td>...</td>\n",
       "      <td>...</td>\n",
       "      <td>...</td>\n",
       "      <td>...</td>\n",
       "      <td>...</td>\n",
       "      <td>...</td>\n",
       "      <td>...</td>\n",
       "      <td>...</td>\n",
       "      <td>...</td>\n",
       "      <td>...</td>\n",
       "      <td>...</td>\n",
       "    </tr>\n",
       "    <tr>\n",
       "      <th>283018</th>\n",
       "      <td>http://world-fr.openfoodfacts.org/produit/6078...</td>\n",
       "      <td>Granulated Sugar</td>\n",
       "      <td>NaN</td>\n",
       "      <td>NaN</td>\n",
       "      <td>1569.0</td>\n",
       "      <td>100.0</td>\n",
       "      <td>0.0</td>\n",
       "      <td>0.0</td>\n",
       "      <td>0.000000</td>\n",
       "      <td>NaN</td>\n",
       "      <td>NaN</td>\n",
       "      <td>0.0</td>\n",
       "      <td>14.0</td>\n",
       "      <td>d</td>\n",
       "    </tr>\n",
       "    <tr>\n",
       "      <th>282993</th>\n",
       "      <td>http://world-fr.openfoodfacts.org/produit/6078...</td>\n",
       "      <td>Sugar</td>\n",
       "      <td>NaN</td>\n",
       "      <td>NaN</td>\n",
       "      <td>1569.0</td>\n",
       "      <td>100.0</td>\n",
       "      <td>0.0</td>\n",
       "      <td>0.0</td>\n",
       "      <td>0.000000</td>\n",
       "      <td>NaN</td>\n",
       "      <td>NaN</td>\n",
       "      <td>0.0</td>\n",
       "      <td>14.0</td>\n",
       "      <td>d</td>\n",
       "    </tr>\n",
       "    <tr>\n",
       "      <th>282404</th>\n",
       "      <td>http://world-fr.openfoodfacts.org/produit/5907...</td>\n",
       "      <td>Candy Floss</td>\n",
       "      <td>Sweets</td>\n",
       "      <td>Bonbons</td>\n",
       "      <td>1694.0</td>\n",
       "      <td>100.0</td>\n",
       "      <td>0.0</td>\n",
       "      <td>0.0</td>\n",
       "      <td>0.000000</td>\n",
       "      <td>NaN</td>\n",
       "      <td>NaN</td>\n",
       "      <td>0.0</td>\n",
       "      <td>15.0</td>\n",
       "      <td>d</td>\n",
       "    </tr>\n",
       "    <tr>\n",
       "      <th>272006</th>\n",
       "      <td>http://world-fr.openfoodfacts.org/produit/5021...</td>\n",
       "      <td>Ayomic Fireblast</td>\n",
       "      <td>NaN</td>\n",
       "      <td>NaN</td>\n",
       "      <td>1628.0</td>\n",
       "      <td>100.0</td>\n",
       "      <td>NaN</td>\n",
       "      <td>0.0</td>\n",
       "      <td>0.000000</td>\n",
       "      <td>NaN</td>\n",
       "      <td>0.0</td>\n",
       "      <td>0.0</td>\n",
       "      <td>14.0</td>\n",
       "      <td>d</td>\n",
       "    </tr>\n",
       "    <tr>\n",
       "      <th>289051</th>\n",
       "      <td>http://world-fr.openfoodfacts.org/produit/7610...</td>\n",
       "      <td>Sucre porte-bonheur</td>\n",
       "      <td>NaN</td>\n",
       "      <td>NaN</td>\n",
       "      <td>1700.0</td>\n",
       "      <td>100.0</td>\n",
       "      <td>0.0</td>\n",
       "      <td>0.0</td>\n",
       "      <td>0.000000</td>\n",
       "      <td>NaN</td>\n",
       "      <td>0.0</td>\n",
       "      <td>0.0</td>\n",
       "      <td>15.0</td>\n",
       "      <td>d</td>\n",
       "    </tr>\n",
       "  </tbody>\n",
       "</table>\n",
       "<p>1534 rows × 14 columns</p>\n",
       "</div>"
      ],
      "text/plain": [
       "                                                      url  \\\n",
       "301230  http://world-fr.openfoodfacts.org/produit/8000...   \n",
       "197967  http://world-fr.openfoodfacts.org/produit/3178...   \n",
       "301286  http://world-fr.openfoodfacts.org/produit/8000...   \n",
       "187206  http://world-fr.openfoodfacts.org/produit/3011...   \n",
       "302272  http://world-fr.openfoodfacts.org/produit/8002...   \n",
       "...                                                   ...   \n",
       "283018  http://world-fr.openfoodfacts.org/produit/6078...   \n",
       "282993  http://world-fr.openfoodfacts.org/produit/6078...   \n",
       "282404  http://world-fr.openfoodfacts.org/produit/5907...   \n",
       "272006  http://world-fr.openfoodfacts.org/produit/5021...   \n",
       "289051  http://world-fr.openfoodfacts.org/produit/7610...   \n",
       "\n",
       "                         product_name pnns_groups_2 main_category_fr  \\\n",
       "301230        Tic Tac goût Bubble-Gum        Sweets          Bonbons   \n",
       "197967    Meringues vanille naturelle        Sweets    Snacks sucrés   \n",
       "301286               Tic Tac Simpsons           NaN              NaN   \n",
       "187206    Sucre vanillé des Îles Alsa        Sweets           Sucres   \n",
       "302272  Sirop d'Agave Bio du Mexique            NaN      Édulcorants   \n",
       "...                               ...           ...              ...   \n",
       "283018               Granulated Sugar           NaN              NaN   \n",
       "282993                          Sugar           NaN              NaN   \n",
       "282404                    Candy Floss        Sweets          Bonbons   \n",
       "272006               Ayomic Fireblast           NaN              NaN   \n",
       "289051            Sucre porte-bonheur           NaN              NaN   \n",
       "\n",
       "        energy_100g  sugars_100g  fat_100g  saturated-fat_100g  sodium_100g  \\\n",
       "301230       1644.0         93.0       0.5                 0.5     0.003937   \n",
       "197967       1680.0         93.0       0.3                 0.0     0.078740   \n",
       "301286       1644.0         93.0       NaN                 0.5     0.003937   \n",
       "187206       1674.0         93.0       NaN                 0.1     0.196850   \n",
       "302272       1292.0         93.0       0.0                 0.0     0.000000   \n",
       "...             ...          ...       ...                 ...          ...   \n",
       "283018       1569.0        100.0       0.0                 0.0     0.000000   \n",
       "282993       1569.0        100.0       0.0                 0.0     0.000000   \n",
       "282404       1694.0        100.0       0.0                 0.0     0.000000   \n",
       "272006       1628.0        100.0       NaN                 0.0     0.000000   \n",
       "289051       1700.0        100.0       0.0                 0.0     0.000000   \n",
       "\n",
       "        fruits-vegetables-nuts_100g  fiber_100g  proteins_100g  \\\n",
       "301230                          NaN         0.0            0.1   \n",
       "197967                          NaN         NaN            5.1   \n",
       "301286                          NaN         0.0            0.1   \n",
       "187206                          NaN         0.0            0.5   \n",
       "302272                          NaN         0.0            0.0   \n",
       "...                             ...         ...            ...   \n",
       "283018                          NaN         NaN            0.0   \n",
       "282993                          NaN         NaN            0.0   \n",
       "282404                          NaN         NaN            0.0   \n",
       "272006                          NaN         0.0            0.0   \n",
       "289051                          NaN         0.0            0.0   \n",
       "\n",
       "        nutrition-score-fr_100g nutrition_grade_fr  \n",
       "301230                     14.0                  d  \n",
       "197967                     15.0                  d  \n",
       "301286                     14.0                  d  \n",
       "187206                     16.0                  d  \n",
       "302272                     13.0                  d  \n",
       "...                         ...                ...  \n",
       "283018                     14.0                  d  \n",
       "282993                     14.0                  d  \n",
       "282404                     15.0                  d  \n",
       "272006                     14.0                  d  \n",
       "289051                     15.0                  d  \n",
       "\n",
       "[1534 rows x 14 columns]"
      ]
     },
     "execution_count": 60,
     "metadata": {},
     "output_type": "execute_result"
    }
   ],
   "source": [
    "# sugars :\n",
    "Q1 = np.percentile(df_nutriscore['sugars_100g'].dropna(),25)\n",
    "Q3 = np.percentile(df_nutriscore['sugars_100g'].dropna(),75)\n",
    "df_nutriscore.loc[df_nutriscore['sugars_100g'] > (Q3 + 3*(Q3-Q1)),:].sort_values('sugars_100g')"
   ]
  },
  {
   "cell_type": "markdown",
   "id": "7df2565a",
   "metadata": {},
   "source": [
    "Je supprime les lignes en conservant celles qui contiennent 'Sugar' ou 'Sucre' dans leur nom ou appartiennent aux groupes :'Ice cream', 'Sweets', 'Chocolate products' et 'Sweetened beverages'\n"
   ]
  },
  {
   "cell_type": "code",
   "execution_count": 61,
   "id": "71ee4efa",
   "metadata": {},
   "outputs": [],
   "source": [
    "df_nutriscore = df_nutriscore.loc[(df_nutriscore['sugars_100g'] < (Q3 + 3*(Q3-Q1))) | (df_nutriscore['product_name'].str.contains('Sugar','Sucre')) | (df_nutriscore['pnns_groups_2'].isin(['Ice cream','Sweets','Chocolate products','Sweetened beverages'])),:].sort_values('sugars_100g')"
   ]
  },
  {
   "cell_type": "markdown",
   "id": "feb96cbd",
   "metadata": {},
   "source": [
    " "
   ]
  },
  {
   "cell_type": "code",
   "execution_count": 62,
   "id": "34a8ac30",
   "metadata": {},
   "outputs": [
    {
     "data": {
      "text/html": [
       "<div>\n",
       "<style scoped>\n",
       "    .dataframe tbody tr th:only-of-type {\n",
       "        vertical-align: middle;\n",
       "    }\n",
       "\n",
       "    .dataframe tbody tr th {\n",
       "        vertical-align: top;\n",
       "    }\n",
       "\n",
       "    .dataframe thead th {\n",
       "        text-align: right;\n",
       "    }\n",
       "</style>\n",
       "<table border=\"1\" class=\"dataframe\">\n",
       "  <thead>\n",
       "    <tr style=\"text-align: right;\">\n",
       "      <th></th>\n",
       "      <th>url</th>\n",
       "      <th>product_name</th>\n",
       "      <th>pnns_groups_2</th>\n",
       "      <th>main_category_fr</th>\n",
       "      <th>energy_100g</th>\n",
       "      <th>sugars_100g</th>\n",
       "      <th>fat_100g</th>\n",
       "      <th>saturated-fat_100g</th>\n",
       "      <th>sodium_100g</th>\n",
       "      <th>fruits-vegetables-nuts_100g</th>\n",
       "      <th>fiber_100g</th>\n",
       "      <th>proteins_100g</th>\n",
       "      <th>nutrition-score-fr_100g</th>\n",
       "      <th>nutrition_grade_fr</th>\n",
       "    </tr>\n",
       "  </thead>\n",
       "  <tbody>\n",
       "  </tbody>\n",
       "</table>\n",
       "</div>"
      ],
      "text/plain": [
       "Empty DataFrame\n",
       "Columns: [url, product_name, pnns_groups_2, main_category_fr, energy_100g, sugars_100g, fat_100g, saturated-fat_100g, sodium_100g, fruits-vegetables-nuts_100g, fiber_100g, proteins_100g, nutrition-score-fr_100g, nutrition_grade_fr]\n",
       "Index: []"
      ]
     },
     "execution_count": 62,
     "metadata": {},
     "output_type": "execute_result"
    }
   ],
   "source": [
    "# energy :\n",
    "Q1 = np.percentile(df_nutriscore['energy_100g'].dropna(),25)\n",
    "Q3 = np.percentile(df_nutriscore['energy_100g'].dropna(),75)\n",
    "df_nutriscore.loc[df_nutriscore['energy_100g'] > (Q3 + 3*(Q3-Q1)),:].sort_values('energy_100g')"
   ]
  },
  {
   "cell_type": "markdown",
   "id": "ae2bfc5a",
   "metadata": {},
   "source": [
    "  "
   ]
  },
  {
   "cell_type": "markdown",
   "id": "30ec57f8",
   "metadata": {},
   "source": [
    "  "
   ]
  },
  {
   "cell_type": "markdown",
   "id": "2300ba07",
   "metadata": {},
   "source": [
    "##  <a name=\"A4\">4) Imputation des valeurs manquantes</a>"
   ]
  },
  {
   "cell_type": "markdown",
   "id": "eed29b99",
   "metadata": {},
   "source": [
    "### <a name=\"A4a\">a) Fillna</a>"
   ]
  },
  {
   "cell_type": "markdown",
   "id": "50ced4b4",
   "metadata": {},
   "source": [
    "\n",
    "Je remplace les nan de chaque variable numérique (sauf le nutriscore) par la médiane de son groupe lorsqu'on connaît le groupe du produit"
   ]
  },
  {
   "cell_type": "code",
   "execution_count": 63,
   "id": "4b61a65d",
   "metadata": {},
   "outputs": [],
   "source": [
    "liste_valeurs_sans_nutriscore = ['energy_100g','sugars_100g','fat_100g','saturated-fat_100g','sodium_100g','fruits-vegetables-nuts_100g','fiber_100g','proteins_100g']\n",
    "\n",
    "for c in liste_valeurs_sans_nutriscore :\n",
    "    df_nutriscore[c] = df_nutriscore[c].fillna(df_nutriscore.groupby('pnns_groups_2')[c].transform('median'))"
   ]
  },
  {
   "cell_type": "markdown",
   "id": "15c2d0c1",
   "metadata": {},
   "source": [
    " "
   ]
  },
  {
   "cell_type": "markdown",
   "id": "848f6684",
   "metadata": {},
   "source": [
    "Pour la variable fiber, je remplace les nan par 0. Si elle n'est pas renseignée, cette valeur doit souvent être nulle."
   ]
  },
  {
   "cell_type": "code",
   "execution_count": 64,
   "id": "9ff04bac",
   "metadata": {},
   "outputs": [],
   "source": [
    "df_nutriscore['fiber_100g'] = df_nutriscore['fiber_100g'].fillna(0)"
   ]
  },
  {
   "cell_type": "markdown",
   "id": "3f06abf6",
   "metadata": {},
   "source": [
    " "
   ]
  },
  {
   "cell_type": "markdown",
   "id": "f6f87538",
   "metadata": {},
   "source": [
    "### <a name=\"A4b\">b) Knn</a>"
   ]
  },
  {
   "cell_type": "markdown",
   "id": "f8869cb9",
   "metadata": {},
   "source": [
    "J'utilise un knn pour imputer les groupes"
   ]
  },
  {
   "cell_type": "markdown",
   "id": "d65b0d7c",
   "metadata": {},
   "source": [
    "Je créé une copie de mon dataframe et remplace les nan pas -0,000001\n"
   ]
  },
  {
   "cell_type": "code",
   "execution_count": 65,
   "id": "11f7bc2c",
   "metadata": {},
   "outputs": [],
   "source": [
    "df_nutriscore_bis = df_nutriscore.copy()\n",
    "\n",
    "for c in liste_valeurs_sans_nutriscore :\n",
    "    df_nutriscore_bis[c].fillna(-0.000001, inplace = True)"
   ]
  },
  {
   "cell_type": "markdown",
   "id": "4fd8a008",
   "metadata": {},
   "source": [
    " "
   ]
  },
  {
   "cell_type": "markdown",
   "id": "932c6d7a",
   "metadata": {},
   "source": [
    "Je supprime la colonne main_category_fr, je n'en ai plus besoin"
   ]
  },
  {
   "cell_type": "code",
   "execution_count": 66,
   "id": "75de9a38",
   "metadata": {},
   "outputs": [],
   "source": [
    "df_nutriscore.drop(['main_category_fr'],axis=1, inplace = True)"
   ]
  },
  {
   "cell_type": "markdown",
   "id": "bccff675",
   "metadata": {},
   "source": [
    " "
   ]
  },
  {
   "cell_type": "code",
   "execution_count": 67,
   "id": "fa2704e4",
   "metadata": {},
   "outputs": [],
   "source": [
    "#liste des différents groupes de pnns_groups_2\n",
    "\n",
    "liste_groupes = list(df['pnns_groups_2'].dropna().unique())\n",
    "liste_groupes.remove('unknown')\n",
    "\n",
    "\n",
    "# création du target et du data\n",
    "\n",
    "target = df_nutriscore_bis.loc[df_nutriscore_bis['pnns_groups_2'].isin(liste_groupes),'pnns_groups_2']\n",
    "data = df_nutriscore_bis.loc[df_nutriscore_bis['pnns_groups_2'].isin(liste_groupes),['energy_100g','sugars_100g','fat_100g','saturated-fat_100g','fruits-vegetables-nuts_100g','sodium_100g','fiber_100g','proteins_100g']]\n",
    "\n"
   ]
  },
  {
   "cell_type": "code",
   "execution_count": 68,
   "id": "e5d7ebcb",
   "metadata": {},
   "outputs": [
    {
     "data": {
      "text/html": [
       "<div>\n",
       "<style scoped>\n",
       "    .dataframe tbody tr th:only-of-type {\n",
       "        vertical-align: middle;\n",
       "    }\n",
       "\n",
       "    .dataframe tbody tr th {\n",
       "        vertical-align: top;\n",
       "    }\n",
       "\n",
       "    .dataframe thead th {\n",
       "        text-align: right;\n",
       "    }\n",
       "</style>\n",
       "<table border=\"1\" class=\"dataframe\">\n",
       "  <thead>\n",
       "    <tr style=\"text-align: right;\">\n",
       "      <th></th>\n",
       "      <th>energy_100g</th>\n",
       "      <th>sugars_100g</th>\n",
       "      <th>fat_100g</th>\n",
       "      <th>saturated-fat_100g</th>\n",
       "      <th>fruits-vegetables-nuts_100g</th>\n",
       "      <th>sodium_100g</th>\n",
       "      <th>fiber_100g</th>\n",
       "      <th>proteins_100g</th>\n",
       "    </tr>\n",
       "  </thead>\n",
       "  <tbody>\n",
       "    <tr>\n",
       "      <th>183558</th>\n",
       "      <td>2434.00</td>\n",
       "      <td>0.0</td>\n",
       "      <td>46.10</td>\n",
       "      <td>0.00</td>\n",
       "      <td>50.0</td>\n",
       "      <td>0.393701</td>\n",
       "      <td>8.80</td>\n",
       "      <td>24.50</td>\n",
       "    </tr>\n",
       "    <tr>\n",
       "      <th>291626</th>\n",
       "      <td>0.00</td>\n",
       "      <td>0.0</td>\n",
       "      <td>0.00</td>\n",
       "      <td>0.00</td>\n",
       "      <td>13.0</td>\n",
       "      <td>0.011000</td>\n",
       "      <td>0.00</td>\n",
       "      <td>0.00</td>\n",
       "    </tr>\n",
       "    <tr>\n",
       "      <th>218265</th>\n",
       "      <td>717.00</td>\n",
       "      <td>0.0</td>\n",
       "      <td>8.40</td>\n",
       "      <td>2.40</td>\n",
       "      <td>25.0</td>\n",
       "      <td>0.484252</td>\n",
       "      <td>0.00</td>\n",
       "      <td>23.90</td>\n",
       "    </tr>\n",
       "    <tr>\n",
       "      <th>218367</th>\n",
       "      <td>717.00</td>\n",
       "      <td>0.0</td>\n",
       "      <td>8.40</td>\n",
       "      <td>2.40</td>\n",
       "      <td>26.0</td>\n",
       "      <td>0.484252</td>\n",
       "      <td>0.00</td>\n",
       "      <td>23.90</td>\n",
       "    </tr>\n",
       "    <tr>\n",
       "      <th>216806</th>\n",
       "      <td>1100.00</td>\n",
       "      <td>0.0</td>\n",
       "      <td>9.70</td>\n",
       "      <td>4.30</td>\n",
       "      <td>0.0</td>\n",
       "      <td>0.484252</td>\n",
       "      <td>3.00</td>\n",
       "      <td>15.20</td>\n",
       "    </tr>\n",
       "    <tr>\n",
       "      <th>...</th>\n",
       "      <td>...</td>\n",
       "      <td>...</td>\n",
       "      <td>...</td>\n",
       "      <td>...</td>\n",
       "      <td>...</td>\n",
       "      <td>...</td>\n",
       "      <td>...</td>\n",
       "      <td>...</td>\n",
       "    </tr>\n",
       "    <tr>\n",
       "      <th>308902</th>\n",
       "      <td>1480.92</td>\n",
       "      <td>48.6</td>\n",
       "      <td>28.36</td>\n",
       "      <td>3.30</td>\n",
       "      <td>50.0</td>\n",
       "      <td>0.470000</td>\n",
       "      <td>1.50</td>\n",
       "      <td>24.97</td>\n",
       "    </tr>\n",
       "    <tr>\n",
       "      <th>308903</th>\n",
       "      <td>1504.36</td>\n",
       "      <td>48.6</td>\n",
       "      <td>28.84</td>\n",
       "      <td>3.38</td>\n",
       "      <td>50.0</td>\n",
       "      <td>0.570000</td>\n",
       "      <td>1.50</td>\n",
       "      <td>25.00</td>\n",
       "    </tr>\n",
       "    <tr>\n",
       "      <th>168722</th>\n",
       "      <td>1260.00</td>\n",
       "      <td>48.6</td>\n",
       "      <td>22.50</td>\n",
       "      <td>10.00</td>\n",
       "      <td>50.0</td>\n",
       "      <td>0.575000</td>\n",
       "      <td>1.50</td>\n",
       "      <td>5.00</td>\n",
       "    </tr>\n",
       "    <tr>\n",
       "      <th>221125</th>\n",
       "      <td>588.00</td>\n",
       "      <td>48.6</td>\n",
       "      <td>6.00</td>\n",
       "      <td>0.65</td>\n",
       "      <td>50.0</td>\n",
       "      <td>0.700000</td>\n",
       "      <td>7.50</td>\n",
       "      <td>18.00</td>\n",
       "    </tr>\n",
       "    <tr>\n",
       "      <th>91089</th>\n",
       "      <td>1830.00</td>\n",
       "      <td>48.6</td>\n",
       "      <td>21.90</td>\n",
       "      <td>9.38</td>\n",
       "      <td>50.0</td>\n",
       "      <td>0.969000</td>\n",
       "      <td>9.38</td>\n",
       "      <td>6.25</td>\n",
       "    </tr>\n",
       "  </tbody>\n",
       "</table>\n",
       "<p>54206 rows × 8 columns</p>\n",
       "</div>"
      ],
      "text/plain": [
       "        energy_100g  sugars_100g  fat_100g  saturated-fat_100g  \\\n",
       "183558      2434.00          0.0     46.10                0.00   \n",
       "291626         0.00          0.0      0.00                0.00   \n",
       "218265       717.00          0.0      8.40                2.40   \n",
       "218367       717.00          0.0      8.40                2.40   \n",
       "216806      1100.00          0.0      9.70                4.30   \n",
       "...             ...          ...       ...                 ...   \n",
       "308902      1480.92         48.6     28.36                3.30   \n",
       "308903      1504.36         48.6     28.84                3.38   \n",
       "168722      1260.00         48.6     22.50               10.00   \n",
       "221125       588.00         48.6      6.00                0.65   \n",
       "91089       1830.00         48.6     21.90                9.38   \n",
       "\n",
       "        fruits-vegetables-nuts_100g  sodium_100g  fiber_100g  proteins_100g  \n",
       "183558                         50.0     0.393701        8.80          24.50  \n",
       "291626                         13.0     0.011000        0.00           0.00  \n",
       "218265                         25.0     0.484252        0.00          23.90  \n",
       "218367                         26.0     0.484252        0.00          23.90  \n",
       "216806                          0.0     0.484252        3.00          15.20  \n",
       "...                             ...          ...         ...            ...  \n",
       "308902                         50.0     0.470000        1.50          24.97  \n",
       "308903                         50.0     0.570000        1.50          25.00  \n",
       "168722                         50.0     0.575000        1.50           5.00  \n",
       "221125                         50.0     0.700000        7.50          18.00  \n",
       "91089                          50.0     0.969000        9.38           6.25  \n",
       "\n",
       "[54206 rows x 8 columns]"
      ]
     },
     "execution_count": 68,
     "metadata": {},
     "output_type": "execute_result"
    }
   ],
   "source": [
    "data"
   ]
  },
  {
   "cell_type": "code",
   "execution_count": 69,
   "id": "9d743efa",
   "metadata": {},
   "outputs": [
    {
     "data": {
      "text/plain": [
       "183558                   Sweets\n",
       "291626    Non-sugared beverages\n",
       "218265             Tripe dishes\n",
       "218367                     Meat\n",
       "216806                  Cereals\n",
       "                  ...          \n",
       "308902                   Sweets\n",
       "308903                   Sweets\n",
       "168722                   Sweets\n",
       "221125                   Sweets\n",
       "91089                    Sweets\n",
       "Name: pnns_groups_2, Length: 54206, dtype: object"
      ]
     },
     "execution_count": 69,
     "metadata": {},
     "output_type": "execute_result"
    }
   ],
   "source": [
    "target"
   ]
  },
  {
   "cell_type": "code",
   "execution_count": 70,
   "id": "49cd9ec8",
   "metadata": {},
   "outputs": [],
   "source": [
    "# création des training set et testing set\n",
    "\n",
    "xtrain, xtest, ytrain, ytest = train_test_split(data, target, train_size=0.8)"
   ]
  },
  {
   "cell_type": "code",
   "execution_count": 71,
   "id": "1ba0fe97",
   "metadata": {},
   "outputs": [
    {
     "data": {
      "text/plain": [
       "KNeighborsClassifier(n_neighbors=3)"
      ]
     },
     "execution_count": 71,
     "metadata": {},
     "output_type": "execute_result"
    }
   ],
   "source": [
    "# entraînement pour 3 voisins\n",
    "\n",
    "knn = neighbors.KNeighborsClassifier(n_neighbors=3)\n",
    "knn.fit(xtrain, ytrain)"
   ]
  },
  {
   "cell_type": "code",
   "execution_count": 72,
   "id": "a2cac914",
   "metadata": {},
   "outputs": [
    {
     "name": "stdout",
     "output_type": "stream",
     "text": [
      "Erreur: 0.122948\n"
     ]
    },
    {
     "name": "stderr",
     "output_type": "stream",
     "text": [
      "D:\\anaconda3\\lib\\site-packages\\sklearn\\neighbors\\_classification.py:228: FutureWarning: Unlike other reduction functions (e.g. `skew`, `kurtosis`), the default behavior of `mode` typically preserves the axis it acts along. In SciPy 1.11.0, this behavior will change: the default value of `keepdims` will become False, the `axis` over which the statistic is taken will be eliminated, and the value None will no longer be accepted. Set `keepdims` to True or False to avoid this warning.\n",
      "  mode, _ = stats.mode(_y[neigh_ind, k], axis=1)\n"
     ]
    }
   ],
   "source": [
    "# taux d'erreurs\n",
    "\n",
    "error = 1 - knn.score(xtest, ytest)\n",
    "print('Erreur: %f' % error)"
   ]
  },
  {
   "cell_type": "code",
   "execution_count": 73,
   "id": "a0f0742b",
   "metadata": {},
   "outputs": [
    {
     "name": "stderr",
     "output_type": "stream",
     "text": [
      "D:\\anaconda3\\lib\\site-packages\\sklearn\\neighbors\\_classification.py:228: FutureWarning: Unlike other reduction functions (e.g. `skew`, `kurtosis`), the default behavior of `mode` typically preserves the axis it acts along. In SciPy 1.11.0, this behavior will change: the default value of `keepdims` will become False, the `axis` over which the statistic is taken will be eliminated, and the value None will no longer be accepted. Set `keepdims` to True or False to avoid this warning.\n",
      "  mode, _ = stats.mode(_y[neigh_ind, k], axis=1)\n",
      "D:\\anaconda3\\lib\\site-packages\\sklearn\\neighbors\\_classification.py:228: FutureWarning: Unlike other reduction functions (e.g. `skew`, `kurtosis`), the default behavior of `mode` typically preserves the axis it acts along. In SciPy 1.11.0, this behavior will change: the default value of `keepdims` will become False, the `axis` over which the statistic is taken will be eliminated, and the value None will no longer be accepted. Set `keepdims` to True or False to avoid this warning.\n",
      "  mode, _ = stats.mode(_y[neigh_ind, k], axis=1)\n",
      "D:\\anaconda3\\lib\\site-packages\\sklearn\\neighbors\\_classification.py:228: FutureWarning: Unlike other reduction functions (e.g. `skew`, `kurtosis`), the default behavior of `mode` typically preserves the axis it acts along. In SciPy 1.11.0, this behavior will change: the default value of `keepdims` will become False, the `axis` over which the statistic is taken will be eliminated, and the value None will no longer be accepted. Set `keepdims` to True or False to avoid this warning.\n",
      "  mode, _ = stats.mode(_y[neigh_ind, k], axis=1)\n",
      "D:\\anaconda3\\lib\\site-packages\\sklearn\\neighbors\\_classification.py:228: FutureWarning: Unlike other reduction functions (e.g. `skew`, `kurtosis`), the default behavior of `mode` typically preserves the axis it acts along. In SciPy 1.11.0, this behavior will change: the default value of `keepdims` will become False, the `axis` over which the statistic is taken will be eliminated, and the value None will no longer be accepted. Set `keepdims` to True or False to avoid this warning.\n",
      "  mode, _ = stats.mode(_y[neigh_ind, k], axis=1)\n",
      "D:\\anaconda3\\lib\\site-packages\\sklearn\\neighbors\\_classification.py:228: FutureWarning: Unlike other reduction functions (e.g. `skew`, `kurtosis`), the default behavior of `mode` typically preserves the axis it acts along. In SciPy 1.11.0, this behavior will change: the default value of `keepdims` will become False, the `axis` over which the statistic is taken will be eliminated, and the value None will no longer be accepted. Set `keepdims` to True or False to avoid this warning.\n",
      "  mode, _ = stats.mode(_y[neigh_ind, k], axis=1)\n",
      "D:\\anaconda3\\lib\\site-packages\\sklearn\\neighbors\\_classification.py:228: FutureWarning: Unlike other reduction functions (e.g. `skew`, `kurtosis`), the default behavior of `mode` typically preserves the axis it acts along. In SciPy 1.11.0, this behavior will change: the default value of `keepdims` will become False, the `axis` over which the statistic is taken will be eliminated, and the value None will no longer be accepted. Set `keepdims` to True or False to avoid this warning.\n",
      "  mode, _ = stats.mode(_y[neigh_ind, k], axis=1)\n",
      "D:\\anaconda3\\lib\\site-packages\\sklearn\\neighbors\\_classification.py:228: FutureWarning: Unlike other reduction functions (e.g. `skew`, `kurtosis`), the default behavior of `mode` typically preserves the axis it acts along. In SciPy 1.11.0, this behavior will change: the default value of `keepdims` will become False, the `axis` over which the statistic is taken will be eliminated, and the value None will no longer be accepted. Set `keepdims` to True or False to avoid this warning.\n",
      "  mode, _ = stats.mode(_y[neigh_ind, k], axis=1)\n",
      "D:\\anaconda3\\lib\\site-packages\\sklearn\\neighbors\\_classification.py:228: FutureWarning: Unlike other reduction functions (e.g. `skew`, `kurtosis`), the default behavior of `mode` typically preserves the axis it acts along. In SciPy 1.11.0, this behavior will change: the default value of `keepdims` will become False, the `axis` over which the statistic is taken will be eliminated, and the value None will no longer be accepted. Set `keepdims` to True or False to avoid this warning.\n",
      "  mode, _ = stats.mode(_y[neigh_ind, k], axis=1)\n"
     ]
    },
    {
     "data": {
      "image/png": "[encoded data removed]",
      "text/plain": [
       "<Figure size 640x480 with 1 Axes>"
      ]
     },
     "metadata": {},
     "output_type": "display_data"
    }
   ],
   "source": [
    "#visualisation pour k voisins\n",
    "\n",
    "errors = []\n",
    "for k in range(2,10):\n",
    "    knn = neighbors.KNeighborsClassifier(k)\n",
    "    errors.append(100*(1 - knn.fit(xtrain, ytrain).score(xtest, ytest)))\n",
    "plt.plot(range(2,10), errors, 'o-')\n",
    "plt.title('taux d\\'erreur')\n",
    "plt.xlabel('Nombre de voisins')\n",
    "plt.ylabel('Erreur en pourcentage')\n",
    "plt.show()"
   ]
  },
  {
   "cell_type": "markdown",
   "id": "ded0ded0",
   "metadata": {},
   "source": [
    " "
   ]
  },
  {
   "cell_type": "markdown",
   "id": "ac3f0de0",
   "metadata": {},
   "source": [
    "Je vais centrer et réduire les valeurs numériques, la valeur energy est comprise entre 0 et 3766 contrairement aux autres qui bornent à 100. Energy prend donc trop d'importance."
   ]
  },
  {
   "cell_type": "code",
   "execution_count": 74,
   "id": "56a4755f",
   "metadata": {},
   "outputs": [
    {
     "data": {
      "text/html": [
       "<div>\n",
       "<style scoped>\n",
       "    .dataframe tbody tr th:only-of-type {\n",
       "        vertical-align: middle;\n",
       "    }\n",
       "\n",
       "    .dataframe tbody tr th {\n",
       "        vertical-align: top;\n",
       "    }\n",
       "\n",
       "    .dataframe thead th {\n",
       "        text-align: right;\n",
       "    }\n",
       "</style>\n",
       "<table border=\"1\" class=\"dataframe\">\n",
       "  <thead>\n",
       "    <tr style=\"text-align: right;\">\n",
       "      <th></th>\n",
       "      <th>0</th>\n",
       "      <th>1</th>\n",
       "      <th>2</th>\n",
       "      <th>3</th>\n",
       "      <th>4</th>\n",
       "      <th>5</th>\n",
       "      <th>6</th>\n",
       "      <th>7</th>\n",
       "    </tr>\n",
       "  </thead>\n",
       "  <tbody>\n",
       "    <tr>\n",
       "      <th>count</th>\n",
       "      <td>54206.00</td>\n",
       "      <td>54206.00</td>\n",
       "      <td>54206.00</td>\n",
       "      <td>54206.00</td>\n",
       "      <td>54206.00</td>\n",
       "      <td>54206.00</td>\n",
       "      <td>54206.00</td>\n",
       "      <td>54206.00</td>\n",
       "    </tr>\n",
       "    <tr>\n",
       "      <th>mean</th>\n",
       "      <td>-0.00</td>\n",
       "      <td>0.00</td>\n",
       "      <td>-0.00</td>\n",
       "      <td>-0.00</td>\n",
       "      <td>0.00</td>\n",
       "      <td>-0.00</td>\n",
       "      <td>0.00</td>\n",
       "      <td>0.00</td>\n",
       "    </tr>\n",
       "    <tr>\n",
       "      <th>std</th>\n",
       "      <td>1.00</td>\n",
       "      <td>1.00</td>\n",
       "      <td>1.00</td>\n",
       "      <td>1.00</td>\n",
       "      <td>1.00</td>\n",
       "      <td>1.00</td>\n",
       "      <td>1.00</td>\n",
       "      <td>1.00</td>\n",
       "    </tr>\n",
       "    <tr>\n",
       "      <th>min</th>\n",
       "      <td>-1.39</td>\n",
       "      <td>-0.71</td>\n",
       "      <td>-0.77</td>\n",
       "      <td>-0.64</td>\n",
       "      <td>-0.77</td>\n",
       "      <td>-0.76</td>\n",
       "      <td>-0.68</td>\n",
       "      <td>-1.04</td>\n",
       "    </tr>\n",
       "    <tr>\n",
       "      <th>25%</th>\n",
       "      <td>-0.90</td>\n",
       "      <td>-0.65</td>\n",
       "      <td>-0.72</td>\n",
       "      <td>-0.62</td>\n",
       "      <td>-0.77</td>\n",
       "      <td>-0.70</td>\n",
       "      <td>-0.62</td>\n",
       "      <td>-0.82</td>\n",
       "    </tr>\n",
       "    <tr>\n",
       "      <th>50%</th>\n",
       "      <td>-0.12</td>\n",
       "      <td>-0.48</td>\n",
       "      <td>-0.41</td>\n",
       "      <td>-0.42</td>\n",
       "      <td>-0.37</td>\n",
       "      <td>-0.28</td>\n",
       "      <td>-0.22</td>\n",
       "      <td>-0.23</td>\n",
       "    </tr>\n",
       "    <tr>\n",
       "      <th>75%</th>\n",
       "      <td>0.71</td>\n",
       "      <td>0.17</td>\n",
       "      <td>0.46</td>\n",
       "      <td>0.24</td>\n",
       "      <td>0.32</td>\n",
       "      <td>0.44</td>\n",
       "      <td>0.24</td>\n",
       "      <td>0.39</td>\n",
       "    </tr>\n",
       "    <tr>\n",
       "      <th>max</th>\n",
       "      <td>3.37</td>\n",
       "      <td>4.72</td>\n",
       "      <td>5.03</td>\n",
       "      <td>11.36</td>\n",
       "      <td>2.52</td>\n",
       "      <td>100.33</td>\n",
       "      <td>28.23</td>\n",
       "      <td>6.50</td>\n",
       "    </tr>\n",
       "  </tbody>\n",
       "</table>\n",
       "</div>"
      ],
      "text/plain": [
       "              0         1         2         3         4         5         6  \\\n",
       "count  54206.00  54206.00  54206.00  54206.00  54206.00  54206.00  54206.00   \n",
       "mean      -0.00      0.00     -0.00     -0.00      0.00     -0.00      0.00   \n",
       "std        1.00      1.00      1.00      1.00      1.00      1.00      1.00   \n",
       "min       -1.39     -0.71     -0.77     -0.64     -0.77     -0.76     -0.68   \n",
       "25%       -0.90     -0.65     -0.72     -0.62     -0.77     -0.70     -0.62   \n",
       "50%       -0.12     -0.48     -0.41     -0.42     -0.37     -0.28     -0.22   \n",
       "75%        0.71      0.17      0.46      0.24      0.32      0.44      0.24   \n",
       "max        3.37      4.72      5.03     11.36      2.52    100.33     28.23   \n",
       "\n",
       "              7  \n",
       "count  54206.00  \n",
       "mean       0.00  \n",
       "std        1.00  \n",
       "min       -1.04  \n",
       "25%       -0.82  \n",
       "50%       -0.23  \n",
       "75%        0.39  \n",
       "max        6.50  "
      ]
     },
     "execution_count": 74,
     "metadata": {},
     "output_type": "execute_result"
    }
   ],
   "source": [
    "# centrage réduction du data\n",
    "\n",
    "from sklearn.preprocessing import StandardScaler\n",
    "\n",
    "# On instancie notre scaler : \n",
    "scaler = StandardScaler()\n",
    "\n",
    "# On le fit et on l'entraîne : \n",
    "data_scaled = scaler.fit_transform(data)\n",
    "\n",
    "# On le transforme en DataFrame : \n",
    "data_scaled = pd.DataFrame(data_scaled)\n",
    "\n",
    "data_scaled.describe().round(2)"
   ]
  },
  {
   "cell_type": "code",
   "execution_count": 75,
   "id": "ab2f447e",
   "metadata": {},
   "outputs": [
    {
     "name": "stderr",
     "output_type": "stream",
     "text": [
      "D:\\anaconda3\\lib\\site-packages\\sklearn\\neighbors\\_classification.py:228: FutureWarning: Unlike other reduction functions (e.g. `skew`, `kurtosis`), the default behavior of `mode` typically preserves the axis it acts along. In SciPy 1.11.0, this behavior will change: the default value of `keepdims` will become False, the `axis` over which the statistic is taken will be eliminated, and the value None will no longer be accepted. Set `keepdims` to True or False to avoid this warning.\n",
      "  mode, _ = stats.mode(_y[neigh_ind, k], axis=1)\n",
      "D:\\anaconda3\\lib\\site-packages\\sklearn\\neighbors\\_classification.py:228: FutureWarning: Unlike other reduction functions (e.g. `skew`, `kurtosis`), the default behavior of `mode` typically preserves the axis it acts along. In SciPy 1.11.0, this behavior will change: the default value of `keepdims` will become False, the `axis` over which the statistic is taken will be eliminated, and the value None will no longer be accepted. Set `keepdims` to True or False to avoid this warning.\n",
      "  mode, _ = stats.mode(_y[neigh_ind, k], axis=1)\n",
      "D:\\anaconda3\\lib\\site-packages\\sklearn\\neighbors\\_classification.py:228: FutureWarning: Unlike other reduction functions (e.g. `skew`, `kurtosis`), the default behavior of `mode` typically preserves the axis it acts along. In SciPy 1.11.0, this behavior will change: the default value of `keepdims` will become False, the `axis` over which the statistic is taken will be eliminated, and the value None will no longer be accepted. Set `keepdims` to True or False to avoid this warning.\n",
      "  mode, _ = stats.mode(_y[neigh_ind, k], axis=1)\n",
      "D:\\anaconda3\\lib\\site-packages\\sklearn\\neighbors\\_classification.py:228: FutureWarning: Unlike other reduction functions (e.g. `skew`, `kurtosis`), the default behavior of `mode` typically preserves the axis it acts along. In SciPy 1.11.0, this behavior will change: the default value of `keepdims` will become False, the `axis` over which the statistic is taken will be eliminated, and the value None will no longer be accepted. Set `keepdims` to True or False to avoid this warning.\n",
      "  mode, _ = stats.mode(_y[neigh_ind, k], axis=1)\n",
      "D:\\anaconda3\\lib\\site-packages\\sklearn\\neighbors\\_classification.py:228: FutureWarning: Unlike other reduction functions (e.g. `skew`, `kurtosis`), the default behavior of `mode` typically preserves the axis it acts along. In SciPy 1.11.0, this behavior will change: the default value of `keepdims` will become False, the `axis` over which the statistic is taken will be eliminated, and the value None will no longer be accepted. Set `keepdims` to True or False to avoid this warning.\n",
      "  mode, _ = stats.mode(_y[neigh_ind, k], axis=1)\n",
      "D:\\anaconda3\\lib\\site-packages\\sklearn\\neighbors\\_classification.py:228: FutureWarning: Unlike other reduction functions (e.g. `skew`, `kurtosis`), the default behavior of `mode` typically preserves the axis it acts along. In SciPy 1.11.0, this behavior will change: the default value of `keepdims` will become False, the `axis` over which the statistic is taken will be eliminated, and the value None will no longer be accepted. Set `keepdims` to True or False to avoid this warning.\n",
      "  mode, _ = stats.mode(_y[neigh_ind, k], axis=1)\n",
      "D:\\anaconda3\\lib\\site-packages\\sklearn\\neighbors\\_classification.py:228: FutureWarning: Unlike other reduction functions (e.g. `skew`, `kurtosis`), the default behavior of `mode` typically preserves the axis it acts along. In SciPy 1.11.0, this behavior will change: the default value of `keepdims` will become False, the `axis` over which the statistic is taken will be eliminated, and the value None will no longer be accepted. Set `keepdims` to True or False to avoid this warning.\n",
      "  mode, _ = stats.mode(_y[neigh_ind, k], axis=1)\n",
      "D:\\anaconda3\\lib\\site-packages\\sklearn\\neighbors\\_classification.py:228: FutureWarning: Unlike other reduction functions (e.g. `skew`, `kurtosis`), the default behavior of `mode` typically preserves the axis it acts along. In SciPy 1.11.0, this behavior will change: the default value of `keepdims` will become False, the `axis` over which the statistic is taken will be eliminated, and the value None will no longer be accepted. Set `keepdims` to True or False to avoid this warning.\n",
      "  mode, _ = stats.mode(_y[neigh_ind, k], axis=1)\n"
     ]
    },
    {
     "data": {
      "image/png": "[encoded data removed]",
      "text/plain": [
       "<Figure size 640x480 with 1 Axes>"
      ]
     },
     "metadata": {},
     "output_type": "display_data"
    }
   ],
   "source": [
    "# création des training set et testing set\n",
    "\n",
    "xtrain, xtest, ytrain, ytest = train_test_split(data_scaled, target, train_size=0.8)\n",
    "\n",
    "#visualisation pour k voisins\n",
    "\n",
    "errors = []\n",
    "for k in range(2,10):\n",
    "    knn = neighbors.KNeighborsClassifier(k)\n",
    "    errors.append(100*(1 - knn.fit(xtrain, ytrain).score(xtest, ytest)))\n",
    "plt.plot(range(2,10), errors, 'o-')\n",
    "plt.title('taux d\\'erreur')\n",
    "plt.xlabel('Nombre de voisins')\n",
    "plt.ylabel('Erreur en pourcentage')\n",
    "plt.show()"
   ]
  },
  {
   "cell_type": "markdown",
   "id": "b9204998",
   "metadata": {},
   "source": [
    "Le score est meilleur.\n",
    "\n",
    "Je vais appliquer le knn avec 3 voisins après avoir centré et réduit mes variables numériques"
   ]
  },
  {
   "cell_type": "code",
   "execution_count": 76,
   "id": "8e8ab3c9",
   "metadata": {},
   "outputs": [],
   "source": [
    "# centrage réduction de df_nutriscore_bis\n",
    "\n",
    "df1 = df_nutriscore_bis[['energy_100g','sugars_100g','fat_100g','saturated-fat_100g','sodium_100g','fruits-vegetables-nuts_100g','fiber_100g','proteins_100g']]\n",
    "\n",
    "df_scaled = scaler.fit_transform(df1)\n",
    "df_scaled = pd.DataFrame(df_scaled, columns = ['energy_100g','sugars_100g','fat_100g','saturated-fat_100g','sodium_100g','fruits-vegetables-nuts_100g','fiber_100g','proteins_100g'])\n"
   ]
  },
  {
   "cell_type": "code",
   "execution_count": 77,
   "id": "8d226b39",
   "metadata": {},
   "outputs": [
    {
     "data": {
      "text/html": [
       "<div>\n",
       "<style scoped>\n",
       "    .dataframe tbody tr th:only-of-type {\n",
       "        vertical-align: middle;\n",
       "    }\n",
       "\n",
       "    .dataframe tbody tr th {\n",
       "        vertical-align: top;\n",
       "    }\n",
       "\n",
       "    .dataframe thead th {\n",
       "        text-align: right;\n",
       "    }\n",
       "</style>\n",
       "<table border=\"1\" class=\"dataframe\">\n",
       "  <thead>\n",
       "    <tr style=\"text-align: right;\">\n",
       "      <th></th>\n",
       "      <th>energy_100g</th>\n",
       "      <th>sugars_100g</th>\n",
       "      <th>fat_100g</th>\n",
       "      <th>saturated-fat_100g</th>\n",
       "      <th>sodium_100g</th>\n",
       "      <th>fruits-vegetables-nuts_100g</th>\n",
       "      <th>fiber_100g</th>\n",
       "      <th>proteins_100g</th>\n",
       "    </tr>\n",
       "  </thead>\n",
       "  <tbody>\n",
       "    <tr>\n",
       "      <th>0</th>\n",
       "      <td>1.706247</td>\n",
       "      <td>-0.763754</td>\n",
       "      <td>2.203377</td>\n",
       "      <td>-0.623573</td>\n",
       "      <td>0.054485</td>\n",
       "      <td>2.522538</td>\n",
       "      <td>1.597545</td>\n",
       "      <td>2.427917</td>\n",
       "    </tr>\n",
       "    <tr>\n",
       "      <th>1</th>\n",
       "      <td>1.647675</td>\n",
       "      <td>-0.763754</td>\n",
       "      <td>1.996810</td>\n",
       "      <td>-0.623573</td>\n",
       "      <td>-0.131895</td>\n",
       "      <td>-0.306818</td>\n",
       "      <td>-0.591341</td>\n",
       "      <td>1.016930</td>\n",
       "    </tr>\n",
       "    <tr>\n",
       "      <th>2</th>\n",
       "      <td>0.477530</td>\n",
       "      <td>-0.763754</td>\n",
       "      <td>-0.664969</td>\n",
       "      <td>-0.623573</td>\n",
       "      <td>-0.342439</td>\n",
       "      <td>-0.306818</td>\n",
       "      <td>2.716862</td>\n",
       "      <td>3.034601</td>\n",
       "    </tr>\n",
       "    <tr>\n",
       "      <th>3</th>\n",
       "      <td>1.261098</td>\n",
       "      <td>-0.763754</td>\n",
       "      <td>1.085748</td>\n",
       "      <td>-0.623573</td>\n",
       "      <td>-0.131895</td>\n",
       "      <td>-0.306818</td>\n",
       "      <td>-0.591341</td>\n",
       "      <td>-0.957900</td>\n",
       "    </tr>\n",
       "    <tr>\n",
       "      <th>4</th>\n",
       "      <td>1.261098</td>\n",
       "      <td>-0.763754</td>\n",
       "      <td>1.085748</td>\n",
       "      <td>-0.623573</td>\n",
       "      <td>-0.131895</td>\n",
       "      <td>-0.306818</td>\n",
       "      <td>-0.591341</td>\n",
       "      <td>-0.957900</td>\n",
       "    </tr>\n",
       "    <tr>\n",
       "      <th>...</th>\n",
       "      <td>...</td>\n",
       "      <td>...</td>\n",
       "      <td>...</td>\n",
       "      <td>...</td>\n",
       "      <td>...</td>\n",
       "      <td>...</td>\n",
       "      <td>...</td>\n",
       "      <td>...</td>\n",
       "    </tr>\n",
       "    <tr>\n",
       "      <th>234440</th>\n",
       "      <td>0.920077</td>\n",
       "      <td>1.587667</td>\n",
       "      <td>0.660501</td>\n",
       "      <td>0.649464</td>\n",
       "      <td>0.651165</td>\n",
       "      <td>2.522538</td>\n",
       "      <td>1.741812</td>\n",
       "      <td>-0.094171</td>\n",
       "    </tr>\n",
       "    <tr>\n",
       "      <th>234441</th>\n",
       "      <td>1.261098</td>\n",
       "      <td>-0.763754</td>\n",
       "      <td>1.176918</td>\n",
       "      <td>-0.623574</td>\n",
       "      <td>0.890751</td>\n",
       "      <td>-0.306818</td>\n",
       "      <td>4.383400</td>\n",
       "      <td>1.806033</td>\n",
       "    </tr>\n",
       "    <tr>\n",
       "      <th>234442</th>\n",
       "      <td>-0.100383</td>\n",
       "      <td>-0.763754</td>\n",
       "      <td>-0.735737</td>\n",
       "      <td>-0.623574</td>\n",
       "      <td>1.461192</td>\n",
       "      <td>-0.306818</td>\n",
       "      <td>-0.591341</td>\n",
       "      <td>-0.957900</td>\n",
       "    </tr>\n",
       "    <tr>\n",
       "      <th>234443</th>\n",
       "      <td>-0.100383</td>\n",
       "      <td>-0.763754</td>\n",
       "      <td>-0.735737</td>\n",
       "      <td>-0.623574</td>\n",
       "      <td>1.461192</td>\n",
       "      <td>-0.306818</td>\n",
       "      <td>-0.591341</td>\n",
       "      <td>-0.957900</td>\n",
       "    </tr>\n",
       "    <tr>\n",
       "      <th>234444</th>\n",
       "      <td>0.717026</td>\n",
       "      <td>-0.763754</td>\n",
       "      <td>0.964614</td>\n",
       "      <td>0.733609</td>\n",
       "      <td>1.513050</td>\n",
       "      <td>-0.306818</td>\n",
       "      <td>-0.591341</td>\n",
       "      <td>3.648194</td>\n",
       "    </tr>\n",
       "  </tbody>\n",
       "</table>\n",
       "<p>234445 rows × 8 columns</p>\n",
       "</div>"
      ],
      "text/plain": [
       "        energy_100g  sugars_100g  fat_100g  saturated-fat_100g  sodium_100g  \\\n",
       "0          1.706247    -0.763754  2.203377           -0.623573     0.054485   \n",
       "1          1.647675    -0.763754  1.996810           -0.623573    -0.131895   \n",
       "2          0.477530    -0.763754 -0.664969           -0.623573    -0.342439   \n",
       "3          1.261098    -0.763754  1.085748           -0.623573    -0.131895   \n",
       "4          1.261098    -0.763754  1.085748           -0.623573    -0.131895   \n",
       "...             ...          ...       ...                 ...          ...   \n",
       "234440     0.920077     1.587667  0.660501            0.649464     0.651165   \n",
       "234441     1.261098    -0.763754  1.176918           -0.623574     0.890751   \n",
       "234442    -0.100383    -0.763754 -0.735737           -0.623574     1.461192   \n",
       "234443    -0.100383    -0.763754 -0.735737           -0.623574     1.461192   \n",
       "234444     0.717026    -0.763754  0.964614            0.733609     1.513050   \n",
       "\n",
       "        fruits-vegetables-nuts_100g  fiber_100g  proteins_100g  \n",
       "0                          2.522538    1.597545       2.427917  \n",
       "1                         -0.306818   -0.591341       1.016930  \n",
       "2                         -0.306818    2.716862       3.034601  \n",
       "3                         -0.306818   -0.591341      -0.957900  \n",
       "4                         -0.306818   -0.591341      -0.957900  \n",
       "...                             ...         ...            ...  \n",
       "234440                     2.522538    1.741812      -0.094171  \n",
       "234441                    -0.306818    4.383400       1.806033  \n",
       "234442                    -0.306818   -0.591341      -0.957900  \n",
       "234443                    -0.306818   -0.591341      -0.957900  \n",
       "234444                    -0.306818   -0.591341       3.648194  \n",
       "\n",
       "[234445 rows x 8 columns]"
      ]
     },
     "execution_count": 77,
     "metadata": {},
     "output_type": "execute_result"
    }
   ],
   "source": [
    "df_scaled"
   ]
  },
  {
   "cell_type": "code",
   "execution_count": 78,
   "id": "dc54068b",
   "metadata": {},
   "outputs": [
    {
     "name": "stderr",
     "output_type": "stream",
     "text": [
      "D:\\anaconda3\\lib\\site-packages\\sklearn\\base.py:443: UserWarning: X has feature names, but KNeighborsClassifier was fitted without feature names\n",
      "  warnings.warn(\n",
      "D:\\anaconda3\\lib\\site-packages\\sklearn\\neighbors\\_classification.py:228: FutureWarning: Unlike other reduction functions (e.g. `skew`, `kurtosis`), the default behavior of `mode` typically preserves the axis it acts along. In SciPy 1.11.0, this behavior will change: the default value of `keepdims` will become False, the `axis` over which the statistic is taken will be eliminated, and the value None will no longer be accepted. Set `keepdims` to True or False to avoid this warning.\n",
      "  mode, _ = stats.mode(_y[neigh_ind, k], axis=1)\n"
     ]
    },
    {
     "data": {
      "text/plain": [
       "array(['Appetizers', 'Cereals', 'Cereals', ..., 'Sweets', 'Sweets',\n",
       "       'Sweets'], dtype=object)"
      ]
     },
     "execution_count": 78,
     "metadata": {},
     "output_type": "execute_result"
    }
   ],
   "source": [
    "# application du knn\n",
    "\n",
    "knn = neighbors.KNeighborsClassifier(n_neighbors=3)\n",
    "knn.fit(xtrain, ytrain)\n",
    "nouvelle_colonne = knn.predict(df_scaled)\n",
    "nouvelle_colonne"
   ]
  },
  {
   "cell_type": "code",
   "execution_count": 79,
   "id": "b69f7d36",
   "metadata": {},
   "outputs": [],
   "source": [
    "df_nutriscore['pnns_groups_2'] = nouvelle_colonne"
   ]
  },
  {
   "cell_type": "code",
   "execution_count": 80,
   "id": "82e427d3",
   "metadata": {},
   "outputs": [
    {
     "data": {
      "text/plain": [
       "url                            0.000000\n",
       "product_name                   0.012020\n",
       "pnns_groups_2                  0.000000\n",
       "energy_100g                    0.001237\n",
       "sugars_100g                    0.000465\n",
       "fat_100g                       0.060411\n",
       "saturated-fat_100g             0.082305\n",
       "sodium_100g                    0.000043\n",
       "fruits-vegetables-nuts_100g    0.766205\n",
       "fiber_100g                     0.000000\n",
       "proteins_100g                  0.000000\n",
       "nutrition-score-fr_100g        0.085892\n",
       "nutrition_grade_fr             0.085892\n",
       "dtype: float64"
      ]
     },
     "execution_count": 80,
     "metadata": {},
     "output_type": "execute_result"
    }
   ],
   "source": [
    "df_nutriscore.isna().mean()"
   ]
  },
  {
   "cell_type": "markdown",
   "id": "39f5d845",
   "metadata": {},
   "source": [
    " "
   ]
  },
  {
   "cell_type": "markdown",
   "id": "bed42035",
   "metadata": {},
   "source": [
    "### <a name=\"A4c\">c) Iterative imputer</a>"
   ]
  },
  {
   "cell_type": "markdown",
   "id": "ef3fd131",
   "metadata": {},
   "source": [
    "J'utilise iterative imputer pour imputer les variables numériques sauf le nutriscore"
   ]
  },
  {
   "cell_type": "markdown",
   "id": "a57405fb",
   "metadata": {},
   "source": [
    "Je remplace les -0.000001 par un nan\n"
   ]
  },
  {
   "cell_type": "code",
   "execution_count": 81,
   "id": "87ae6ea7",
   "metadata": {},
   "outputs": [],
   "source": [
    "df_nutriscore.replace(-0.000001, np.nan, inplace = True)"
   ]
  },
  {
   "cell_type": "code",
   "execution_count": 82,
   "id": "fc6167f6",
   "metadata": {},
   "outputs": [
    {
     "data": {
      "text/plain": [
       "array(['Appetizers', 'Cereals', 'Fats', 'One-dish meals', 'Cheese',\n",
       "       'Bread', 'Biscuits and cakes', 'Non-sugared beverages', 'Meat',\n",
       "       'Eggs', 'Breakfast cereals', 'Soups', 'Alcoholic beverages',\n",
       "       'Sweets', 'Tripe dishes', 'Dressings and sauces',\n",
       "       'Fish and seafood', 'Milk and yogurt', 'Chocolate products',\n",
       "       'Vegetables', 'Processed meat', 'Ice cream', 'Sweetened beverages',\n",
       "       'Fruits', 'Sandwich', 'Dairy desserts', 'Nuts', 'Dried fruits',\n",
       "       'pastries', 'Fruit juices', 'Pizza pies and quiche', 'Potatoes',\n",
       "       'Salty and fatty products', 'Fruit nectars'], dtype=object)"
      ]
     },
     "execution_count": 82,
     "metadata": {},
     "output_type": "execute_result"
    }
   ],
   "source": [
    "liste_groupes = df_nutriscore['pnns_groups_2'].unique()\n",
    "liste_groupes"
   ]
  },
  {
   "cell_type": "code",
   "execution_count": 83,
   "id": "29d94cb7",
   "metadata": {},
   "outputs": [],
   "source": [
    "# je retire la variable fruits-vegetables-nuts qui posséde trop de nan\n",
    "\n",
    "liste_valeurs_sans_nutriscore_sans_fruits = ['energy_100g', 'sugars_100g', 'fat_100g', 'saturated-fat_100g', 'sodium_100g', 'fiber_100g', 'proteins_100g']"
   ]
  },
  {
   "cell_type": "markdown",
   "id": "0d718c72",
   "metadata": {},
   "source": [
    " "
   ]
  },
  {
   "cell_type": "markdown",
   "id": "d8a49c7b",
   "metadata": {},
   "source": [
    "J'utilise iterative imputer en bornant entre 0 et 100 (3700 pour energy)"
   ]
  },
  {
   "cell_type": "code",
   "execution_count": 84,
   "id": "a509df59",
   "metadata": {},
   "outputs": [
    {
     "name": "stderr",
     "output_type": "stream",
     "text": [
      "D:\\anaconda3\\lib\\site-packages\\sklearn\\impute\\_iterative.py:699: ConvergenceWarning: [IterativeImputer] Early stopping criterion not reached.\n",
      "  warnings.warn(\n",
      "D:\\anaconda3\\lib\\site-packages\\sklearn\\impute\\_iterative.py:699: ConvergenceWarning: [IterativeImputer] Early stopping criterion not reached.\n",
      "  warnings.warn(\n"
     ]
    }
   ],
   "source": [
    "imputer = IterativeImputer(min_value = 0, max_value = [3700,100,100,100,100,100,100])\n",
    "for groupe in liste_groupes :\n",
    "    imp = imputer.fit_transform(df_nutriscore.loc[df_nutriscore['pnns_groups_2'] == groupe , liste_valeurs_sans_nutriscore_sans_fruits ])\n",
    "    df_nutriscore.loc[df_nutriscore['pnns_groups_2'] == groupe , liste_valeurs_sans_nutriscore_sans_fruits ] = imp\n",
    "    "
   ]
  },
  {
   "cell_type": "markdown",
   "id": "354274e7",
   "metadata": {},
   "source": [
    " "
   ]
  },
  {
   "cell_type": "code",
   "execution_count": 85,
   "id": "d1c7fe3a",
   "metadata": {},
   "outputs": [
    {
     "data": {
      "text/plain": [
       "pnns_groups_2\n",
       "Alcoholic beverages          0.0\n",
       "Appetizers                  50.0\n",
       "Biscuits and cakes          15.6\n",
       "Bread                        4.0\n",
       "Breakfast cereals            4.0\n",
       "Cereals                      0.0\n",
       "Cheese                       0.0\n",
       "Chocolate products           0.0\n",
       "Dairy desserts               4.0\n",
       "Dressings and sauces        80.0\n",
       "Dried fruits                95.0\n",
       "Eggs                         9.4\n",
       "Fats                         0.0\n",
       "Fish and seafood             0.0\n",
       "Fruit juices                 0.0\n",
       "Fruit nectars                0.0\n",
       "Fruits                       0.0\n",
       "Ice cream                    0.0\n",
       "Meat                         0.0\n",
       "Milk and yogurt              4.0\n",
       "Non-sugared beverages       12.0\n",
       "Nuts                         5.5\n",
       "One-dish meals               0.0\n",
       "Pizza pies and quiche        0.0\n",
       "Potatoes                     NaN\n",
       "Processed meat              93.5\n",
       "Salty and fatty products    50.0\n",
       "Sandwich                     6.5\n",
       "Soups                        0.0\n",
       "Sweetened beverages          0.0\n",
       "Sweets                       5.5\n",
       "Tripe dishes                25.0\n",
       "Vegetables                  80.0\n",
       "pastries                    13.0\n",
       "Name: fruits-vegetables-nuts_100g, dtype: float64"
      ]
     },
     "execution_count": 85,
     "metadata": {},
     "output_type": "execute_result"
    }
   ],
   "source": [
    "df_nutriscore.groupby('pnns_groups_2')['fruits-vegetables-nuts_100g'].median()"
   ]
  },
  {
   "cell_type": "markdown",
   "id": "ca2df4ae",
   "metadata": {},
   "source": [
    "La médiane pour 'processed meat' est à 93.5, ça paraît très surprenant.\n",
    "\n",
    "Je vais mettre les valeurs à 0 pour ce groupe."
   ]
  },
  {
   "cell_type": "code",
   "execution_count": 86,
   "id": "ca4e241c",
   "metadata": {},
   "outputs": [],
   "source": [
    "df_nutriscore.loc[df_nutriscore['pnns_groups_2'] == 'Processed meat', 'fruits-vegetables-nuts_100g' ] = 0"
   ]
  },
  {
   "cell_type": "markdown",
   "id": "86305722",
   "metadata": {},
   "source": [
    " "
   ]
  },
  {
   "cell_type": "markdown",
   "id": "186686cd",
   "metadata": {},
   "source": [
    "Lorsque je connais le groupe du produit, j'impute fruits-vegetables-nuts par la médiane du groupe"
   ]
  },
  {
   "cell_type": "code",
   "execution_count": 87,
   "id": "d762b666",
   "metadata": {},
   "outputs": [],
   "source": [
    "df_nutriscore['fruits-vegetables-nuts_100g'] = df_nutriscore['fruits-vegetables-nuts_100g'].fillna(df_nutriscore.groupby('pnns_groups_2')['fruits-vegetables-nuts_100g'].transform('median'))"
   ]
  },
  {
   "cell_type": "markdown",
   "id": "cadb210e",
   "metadata": {},
   "source": [
    " "
   ]
  },
  {
   "cell_type": "markdown",
   "id": "ea66dabf",
   "metadata": {},
   "source": [
    "J'impute les derniers nan de fruits-vegetables-nuts_100g par 0"
   ]
  },
  {
   "cell_type": "code",
   "execution_count": 88,
   "id": "8dd4340e",
   "metadata": {},
   "outputs": [],
   "source": [
    "df_nutriscore['fruits-vegetables-nuts_100g'] = df_nutriscore['fruits-vegetables-nuts_100g'].fillna(0)"
   ]
  },
  {
   "cell_type": "markdown",
   "id": "8c7c1678",
   "metadata": {},
   "source": [
    " "
   ]
  },
  {
   "cell_type": "markdown",
   "id": "0ca244cc",
   "metadata": {},
   "source": [
    "### <a name=\"A4d\">d) Calcul du nutriscore</a>"
   ]
  },
  {
   "cell_type": "markdown",
   "id": "7059b24d",
   "metadata": {},
   "source": [
    "Le nutriscore se calcule en combinant les 7 variables : energy_100g, sugars_100g, saturated-fat_100g, sodium_100g, fruits-vegetables-nuts_100g, fiber_100g et proteins_100g."
   ]
  },
  {
   "cell_type": "markdown",
   "id": "c8596b91",
   "metadata": {},
   "source": [
    "La fonction calcul_nutriscore prend une ligne d'un dataframe et retourne le nutriscore chiffré."
   ]
  },
  {
   "cell_type": "code",
   "execution_count": 89,
   "id": "7c50c0a9",
   "metadata": {},
   "outputs": [],
   "source": [
    "def calcul_nutriscore (df) :\n",
    "    \n",
    "    energy = df['energy_100g']\n",
    "    sugar = df['sugars_100g']\n",
    "    sat_fat = df['saturated-fat_100g'] \n",
    "    sodium = df['sodium_100g'] \n",
    "    fruits = df['fruits-vegetables-nuts_100g'] \n",
    "    fiber = df['fiber_100g'] \n",
    "    protein = df['proteins_100g']\n",
    "    if fruits <= 40 :\n",
    "        pts_fruits = 0\n",
    "    elif fruits < 60 :\n",
    "        pts_fruits = 1\n",
    "    elif fruits < 80 :\n",
    "        pts_fruits = 2\n",
    "    else : pts_fruits = 5\n",
    "    \n",
    "    if fiber <= 0.9 :\n",
    "        pts_fiber = 0\n",
    "    elif fiber < 1.9 :\n",
    "        pts_fiber = 1\n",
    "    elif fiber < 2.8 :\n",
    "        pts_fiber = 2\n",
    "    elif fiber < 3.7 :\n",
    "        pts_fiber = 3\n",
    "    elif fiber < 4.7 :\n",
    "        pts_fiber = 4\n",
    "    else : pts_fiber = 5\n",
    "    \n",
    "    nutriscore = min(10,energy//10) + min(10,sugar//4.5) + min(10,sat_fat//1) + min(10,sodium//90) - pts_fruits - pts_fiber - min(5,protein//1.6)\n",
    "    \n",
    "    return nutriscore         "
   ]
  },
  {
   "cell_type": "markdown",
   "id": "0c125b5b",
   "metadata": {},
   "source": [
    "  "
   ]
  },
  {
   "cell_type": "markdown",
   "id": "d9d4e85a",
   "metadata": {},
   "source": [
    "Je calcule les nutriscores en utilisant la fonction"
   ]
  },
  {
   "cell_type": "code",
   "execution_count": 90,
   "id": "f638a301",
   "metadata": {},
   "outputs": [],
   "source": [
    "df_nutriscore['nutrition-score-fr_100g'] = df_nutriscore.apply(lambda x : calcul_nutriscore(x),axis = 1)"
   ]
  },
  {
   "cell_type": "markdown",
   "id": "74c677c0",
   "metadata": {},
   "source": [
    " "
   ]
  },
  {
   "cell_type": "markdown",
   "id": "02bee558",
   "metadata": {},
   "source": [
    "### <a name=\"A4e\">e) Calcul du nutrigrade</a>"
   ]
  },
  {
   "cell_type": "markdown",
   "id": "fdda389f",
   "metadata": {},
   "source": [
    "Je créé une nouvelle colonne de transition où je reporte les nutriscores"
   ]
  },
  {
   "cell_type": "code",
   "execution_count": 91,
   "id": "e0aa7732",
   "metadata": {},
   "outputs": [],
   "source": [
    "df_nutriscore['transition'] = df_nutriscore['nutrition-score-fr_100g']"
   ]
  },
  {
   "cell_type": "markdown",
   "id": "472d846b",
   "metadata": {},
   "source": [
    " "
   ]
  },
  {
   "cell_type": "markdown",
   "id": "107720da",
   "metadata": {},
   "source": [
    "La fonction calcul_lettre prend une ligne d'un dataframe et retourne le nutrigrade du produit"
   ]
  },
  {
   "cell_type": "code",
   "execution_count": 92,
   "id": "e9483e74",
   "metadata": {},
   "outputs": [],
   "source": [
    "def calcul_lettre(df) :\n",
    "    score = df['nutrition-score-fr_100g']\n",
    "    if score < 0 :\n",
    "        lettre = 'a'\n",
    "    elif score < 3 :\n",
    "        lettre = 'b'\n",
    "    elif score < 11 :\n",
    "        lettre = 'c'\n",
    "    elif score < 19 :\n",
    "        lettre = 'd'\n",
    "    else :\n",
    "        lettre = 'e'\n",
    "    return lettre"
   ]
  },
  {
   "cell_type": "markdown",
   "id": "bd011118",
   "metadata": {},
   "source": [
    " "
   ]
  },
  {
   "cell_type": "markdown",
   "id": "a74fa500",
   "metadata": {},
   "source": [
    "Je transforme les nutriscores de ma colonne de transition en nutrigrades"
   ]
  },
  {
   "cell_type": "code",
   "execution_count": 93,
   "id": "f6d43f5d",
   "metadata": {},
   "outputs": [],
   "source": [
    "df_nutriscore['transition'] = df_nutriscore.apply(lambda x : calcul_lettre(x),axis = 1)"
   ]
  },
  {
   "cell_type": "markdown",
   "id": "53811947",
   "metadata": {},
   "source": [
    " "
   ]
  },
  {
   "cell_type": "markdown",
   "id": "d88db1af",
   "metadata": {},
   "source": [
    "J'impute les valeurs manquantes de nutrigrade par les valeurs de ma colonne de transition avec la méthode bfill de fillna"
   ]
  },
  {
   "cell_type": "code",
   "execution_count": 94,
   "id": "6cdedc39",
   "metadata": {},
   "outputs": [],
   "source": [
    "df_nutriscore = df_nutriscore.fillna(method = 'bfill' , axis = 1)"
   ]
  },
  {
   "cell_type": "markdown",
   "id": "98929cdf",
   "metadata": {},
   "source": [
    " "
   ]
  },
  {
   "cell_type": "markdown",
   "id": "dc2d9e53",
   "metadata": {},
   "source": [
    "Je supprime ma colonne de transition"
   ]
  },
  {
   "cell_type": "code",
   "execution_count": 95,
   "id": "5c570143",
   "metadata": {},
   "outputs": [],
   "source": [
    "df_nutriscore.drop('transition', axis=1, inplace = True)"
   ]
  },
  {
   "cell_type": "markdown",
   "id": "92b8fb0d",
   "metadata": {},
   "source": [
    " "
   ]
  },
  {
   "cell_type": "code",
   "execution_count": 96,
   "id": "9ae0aa5d",
   "metadata": {},
   "outputs": [
    {
     "data": {
      "text/plain": [
       "url                            0.0\n",
       "product_name                   0.0\n",
       "pnns_groups_2                  0.0\n",
       "energy_100g                    0.0\n",
       "sugars_100g                    0.0\n",
       "fat_100g                       0.0\n",
       "saturated-fat_100g             0.0\n",
       "sodium_100g                    0.0\n",
       "fruits-vegetables-nuts_100g    0.0\n",
       "fiber_100g                     0.0\n",
       "proteins_100g                  0.0\n",
       "nutrition-score-fr_100g        0.0\n",
       "nutrition_grade_fr             0.0\n",
       "dtype: float64"
      ]
     },
     "execution_count": 96,
     "metadata": {},
     "output_type": "execute_result"
    }
   ],
   "source": [
    "df_nutriscore.isna().mean()"
   ]
  },
  {
   "cell_type": "markdown",
   "id": "a6dcc7c1",
   "metadata": {},
   "source": [
    " "
   ]
  },
  {
   "cell_type": "markdown",
   "id": "ae50c1d2",
   "metadata": {},
   "source": [
    "Je sauvegarde mon jeu de données nettoyé"
   ]
  },
  {
   "cell_type": "code",
   "execution_count": 97,
   "id": "5151d066",
   "metadata": {},
   "outputs": [],
   "source": [
    "df_nutriscore.to_csv('nutriscore_nettoye.csv', sep ='\\t')"
   ]
  },
  {
   "cell_type": "code",
   "execution_count": null,
   "id": "e09b195a",
   "metadata": {},
   "outputs": [],
   "source": []
  }
 ],
 "metadata": {
  "kernelspec": {
   "display_name": "Python 3 (ipykernel)",
   "language": "python",
   "name": "python3"
  },
  "language_info": {
   "codemirror_mode": {
    "name": "ipython",
    "version": 3
   },
   "file_extension": ".py",
   "mimetype": "text/x-python",
   "name": "python",
   "nbconvert_exporter": "python",
   "pygments_lexer": "ipython3",
   "version": "3.9.16"
  }
 },
 "nbformat": 4,
 "nbformat_minor": 5
}
